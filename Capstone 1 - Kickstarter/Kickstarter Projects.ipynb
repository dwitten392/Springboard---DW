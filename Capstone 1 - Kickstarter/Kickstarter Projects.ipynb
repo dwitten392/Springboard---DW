{
 "cells": [
  {
   "cell_type": "code",
   "execution_count": 18,
   "metadata": {},
   "outputs": [
    {
     "data": {
      "text/html": [
       "<style>.container { width:90% !important; }</style>"
      ],
      "text/plain": [
       "<IPython.core.display.HTML object>"
      ]
     },
     "metadata": {},
     "output_type": "display_data"
    }
   ],
   "source": [
    "#import pandas, matplotlib\n",
    "import pandas as pd\n",
    "import matplotlib.pyplot as plt\n",
    "\n",
    "#change display\n",
    "from IPython.core.display import display, HTML\n",
    "display(HTML(\"<style>.container { width:90% !important; }</style>\"))"
   ]
  },
  {
   "cell_type": "code",
   "execution_count": 20,
   "metadata": {},
   "outputs": [
    {
     "name": "stdout",
     "output_type": "stream",
     "text": [
      "            Unnamed: 0  backers_count  \\\n",
      "id                                      \n",
      "857125548            0              1   \n",
      "1038659700           1              2   \n",
      "1238331911           2              0   \n",
      "189217262            3              0   \n",
      "1260075071           4              1   \n",
      "\n",
      "                                                        blurb currency  \\\n",
      "id                                                                       \n",
      "857125548   Exploring paint and its place in a digital world.      USD   \n",
      "1038659700  Mike Fassio wants a side-by-side photo of me a...      USD   \n",
      "1238331911  I need your help to get a nice graphics tablet...      USD   \n",
      "189217262   I want to create a Nature Photograph Series of...      USD   \n",
      "1260075071  I want to bring colour to the world in my own ...      GBP   \n",
      "\n",
      "               goal          launched_at             deadline  \\\n",
      "id                                                              \n",
      "857125548    2000.0  2015-03-19 22:34:57  2015-04-30 23:12:00   \n",
      "1038659700     10.0  2014-07-17 01:55:07  2014-07-27 01:55:07   \n",
      "1238331911    900.0  2014-07-30 16:29:13  2014-08-29 16:29:13   \n",
      "189217262     900.0  2015-05-11 16:09:11  2015-05-31 16:09:11   \n",
      "1260075071  15000.0  2015-02-06 21:52:02  2015-03-08 20:52:02   \n",
      "\n",
      "           location.country  \\\n",
      "id                            \n",
      "857125548                US   \n",
      "1038659700               US   \n",
      "1238331911               US   \n",
      "189217262                US   \n",
      "1260075071               GB   \n",
      "\n",
      "                                                         name  usd_pledged  \\\n",
      "id                                                                           \n",
      "857125548                                               Remix     25.00000   \n",
      "1038659700  Photo of Grant and Hazel eating cake with bare...      6.00000   \n",
      "1238331911                   Minecraft Digital Art/Animations      0.00000   \n",
      "189217262                 Sacramento Nature Photograph Series      0.00000   \n",
      "1260075071                North Africa art project - my dream      1.52011   \n",
      "\n",
      "            ... days_to_deadline    goal_USD  category_name  category_slug  \\\n",
      "id          ...                                                              \n",
      "857125548   ...               42   2000.0000    Digital Art            art   \n",
      "1038659700  ...               10     10.0000    Digital Art            art   \n",
      "1238331911  ...               30    900.0000    Digital Art            art   \n",
      "189217262   ...               20    900.0000    Digital Art            art   \n",
      "1260075071  ...               30  22801.6545    Digital Art            art   \n",
      "\n",
      "           blurb_length  location_type  location_country  location_state  \\\n",
      "id                                                                         \n",
      "857125548             9           Town                US              NY   \n",
      "1038659700           21           Town                US              WA   \n",
      "1238331911           12           Town                US              VA   \n",
      "189217262            17           Town                US              CA   \n",
      "1260075071           26         County                GB         England   \n",
      "\n",
      "            location_displayable_name  binary_state  \n",
      "id                                                   \n",
      "857125548                New York, NY        failed  \n",
      "1038659700                Seattle, WA        failed  \n",
      "1238331911                 Moneta, VA        failed  \n",
      "189217262              Sacramento, CA        failed  \n",
      "1260075071                  Essex, UK        failed  \n",
      "\n",
      "[5 rows x 29 columns]\n"
     ]
    }
   ],
   "source": [
    "#read in and preview file\n",
    "file_path = 'kickstarter.csv'\n",
    "\n",
    "data = pd.read_csv(file_path, index_col = 'id')\n",
    "\n",
    "print(data.head())"
   ]
  },
  {
   "cell_type": "code",
   "execution_count": 23,
   "metadata": {},
   "outputs": [
    {
     "data": {
      "image/png": "[encoded data removed]",
      "text/plain": [
       "<Figure size 432x288 with 1 Axes>"
      ]
     },
     "metadata": {
      "needs_background": "light"
     },
     "output_type": "display_data"
    }
   ],
   "source": [
    "#looking distribution of the backers_count column\n",
    "plt.boxplot(data['backers_count'])\n",
    "plt.show()"
   ]
  },
  {
   "cell_type": "markdown",
   "metadata": {},
   "source": [
    "Looks like successful Kickstart campaigns are outliers in themselves"
   ]
  },
  {
   "cell_type": "code",
   "execution_count": 26,
   "metadata": {},
   "outputs": [],
   "source": [
    "#show the frequency of location country, will need to count"
   ]
  },
  {
   "cell_type": "code",
   "execution_count": null,
   "metadata": {},
   "outputs": [],
   "source": []
  }
 ],
 "metadata": {
  "kernelspec": {
   "display_name": "Python 3",
   "language": "python",
   "name": "python3"
  },
  "language_info": {
   "codemirror_mode": {
    "name": "ipython",
    "version": 3
   },
   "file_extension": ".py",
   "mimetype": "text/x-python",
   "name": "python",
   "nbconvert_exporter": "python",
   "pygments_lexer": "ipython3",
   "version": "3.7.3"
  }
 },
 "nbformat": 4,
 "nbformat_minor": 2
}
