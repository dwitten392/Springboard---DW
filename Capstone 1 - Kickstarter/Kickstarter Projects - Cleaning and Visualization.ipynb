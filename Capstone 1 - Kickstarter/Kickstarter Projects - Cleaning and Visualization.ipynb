{
 "cells": [
  {
   "cell_type": "code",
   "execution_count": 254,
   "metadata": {},
   "outputs": [
    {
     "data": {
      "text/html": [
       "<style>.container { width:90% !important; }</style>"
      ],
      "text/plain": [
       "<IPython.core.display.HTML object>"
      ]
     },
     "metadata": {},
     "output_type": "display_data"
    }
   ],
   "source": [
    "#import pandas, matplotlib, seaborn\n",
    "import pandas as pd\n",
    "import numpy as np\n",
    "import matplotlib.pyplot as plt\n",
    "import seaborn as sns\n",
    "\n",
    "#change display\n",
    "from IPython.core.display import display, HTML\n",
    "display(HTML(\"<style>.container { width:90% !important; }</style>\"))"
   ]
  },
  {
   "cell_type": "code",
   "execution_count": 255,
   "metadata": {},
   "outputs": [
    {
     "name": "stdout",
     "output_type": "stream",
     "text": [
      "          id  backers_count  \\\n",
      "0  857125548              1   \n",
      "\n",
      "                                               blurb currency    goal  \\\n",
      "0  Exploring paint and its place in a digital world.      USD  2000.0   \n",
      "\n",
      "           launched_at             deadline location.country   name  \\\n",
      "0  2015-03-19 22:34:57  2015-04-30 23:12:00               US  Remix   \n",
      "\n",
      "   usd_pledged  ... days_to_deadline  goal_USD  category_name  category_slug  \\\n",
      "0         25.0  ...               42    2000.0    Digital Art            art   \n",
      "\n",
      "  blurb_length  location_type  location_country  location_state  \\\n",
      "0            9           Town                US              NY   \n",
      "\n",
      "   location_displayable_name  binary_state  \n",
      "0               New York, NY        failed  \n",
      "\n",
      "[1 rows x 29 columns]\n",
      "<class 'pandas.core.frame.DataFrame'>\n",
      "Int64Index: 430938 entries, 0 to 768\n",
      "Data columns (total 29 columns):\n",
      "id                           430938 non-null int64\n",
      "backers_count                430938 non-null int64\n",
      "blurb                        430938 non-null object\n",
      "currency                     430938 non-null object\n",
      "goal                         430938 non-null float64\n",
      "launched_at                  430938 non-null object\n",
      "deadline                     430938 non-null object\n",
      "location.country             429843 non-null object\n",
      "name                         430934 non-null object\n",
      "usd_pledged                  430938 non-null float64\n",
      "slug                         430938 non-null object\n",
      "spotlight                    430938 non-null bool\n",
      "staff_pick                   430938 non-null bool\n",
      "static_usd_rate              430938 non-null float64\n",
      "state                        430938 non-null object\n",
      "year                         430938 non-null int64\n",
      "month                        430938 non-null int64\n",
      "day                          430938 non-null int64\n",
      "hour                         430938 non-null int64\n",
      "days_to_deadline             430938 non-null int64\n",
      "goal_USD                     430938 non-null float64\n",
      "category_name                430938 non-null object\n",
      "category_slug                430938 non-null object\n",
      "blurb_length                 430938 non-null int64\n",
      "location_type                430938 non-null object\n",
      "location_country             430938 non-null object\n",
      "location_state               430938 non-null object\n",
      "location_displayable_name    430938 non-null object\n",
      "binary_state                 430938 non-null object\n",
      "dtypes: bool(2), float64(4), int64(8), object(15)\n",
      "memory usage: 92.9+ MB\n"
     ]
    }
   ],
   "source": [
    "#read in and preview file\n",
    "#download path https://www.kaggle.com/toshimelonhead/400000-kickstarter-projects\n",
    "file_path = 'kickstarter.csv'\n",
    "\n",
    "data = pd.read_csv(file_path, index_col = 'Unnamed: 0')\n",
    "print(data.head(1))\n",
    "data.info()"
   ]
  },
  {
   "cell_type": "code",
   "execution_count": 256,
   "metadata": {},
   "outputs": [
    {
     "data": {
      "image/png": "[encoded data removed]",
      "text/plain": [
       "<Figure size 1296x576 with 1 Axes>"
      ]
     },
     "metadata": {
      "needs_background": "light"
     },
     "output_type": "display_data"
    }
   ],
   "source": [
    "#attempt to understand goal_USD data shape by only looking at data under 20k (too zoomed out without the restriction)\n",
    "data['goal_USD'].loc[data['goal_USD'] < 20000].hist(bins = 20, figsize=(18,8))\n",
    "plt.title('Histogram of Projects with Goals under $20K')\n",
    "plt.show()"
   ]
  },
  {
   "cell_type": "code",
   "execution_count": 257,
   "metadata": {},
   "outputs": [
    {
     "data": {
      "image/png": "[encoded data removed]",
      "text/plain": [
       "<Figure size 1080x396 with 2 Axes>"
      ]
     },
     "metadata": {
      "needs_background": "light"
     },
     "output_type": "display_data"
    }
   ],
   "source": [
    "#Checking first 1000 category against 2nd 1000. Already by the second, failure is more likely than success.\n",
    "fig=plt.figure(figsize=(15,5.5))\n",
    "plt.subplot(1,2,1)\n",
    "plt.title('Under $1000 Success Rate')\n",
    "data['binary_state'].loc[data['goal_USD'] < 1000].value_counts().plot(kind='bar')\n",
    "plt.subplot(1,2,2)\n",
    "plt.title(\"$1000 - $2000 Success Rate\")\n",
    "data['binary_state'][(data['goal_USD'] >= 1000) & (data['goal_USD'] < 2000)].value_counts().plot(kind='bar')\n",
    "plt.show()\n"
   ]
  },
  {
   "cell_type": "markdown",
   "metadata": {},
   "source": [
    "I decided to throw out data with a goal under $1000 as they do not seem to be \"serious\" crowdfunding projects."
   ]
  },
  {
   "cell_type": "code",
   "execution_count": 258,
   "metadata": {},
   "outputs": [],
   "source": [
    "#throwing data with a goal under 1000\n",
    "cleaned_data = data.loc[data['goal_USD'] >= 1000]"
   ]
  },
  {
   "cell_type": "code",
   "execution_count": 259,
   "metadata": {},
   "outputs": [
    {
     "name": "stdout",
     "output_type": "stream",
     "text": [
      "2019-04-18 04:49:38\n"
     ]
    }
   ],
   "source": [
    "#print out approximate time when data was captured\n",
    "print(cleaned_data['launched_at'].max())\n",
    "#filter out data where target date is beyond the date of the data\n",
    "cleaned_data = cleaned_data.loc[cleaned_data['deadline'] <= cleaned_data['launched_at'].max()]"
   ]
  },
  {
   "cell_type": "markdown",
   "metadata": {},
   "source": [
    "I threw out data where the deadline is beyond the cutoff date"
   ]
  },
  {
   "cell_type": "code",
   "execution_count": 260,
   "metadata": {},
   "outputs": [],
   "source": [
    "#dropping the location.country column (there is already a location_country column); the days to deadline column as it is not useful for analysis as the deadline should be passed;\n",
    "# the state column is not necessary with the binary state column; and the individual date columns are not necessary\n",
    "cleaned_data = cleaned_data.drop(columns=['location.country', 'days_to_deadline', 'state', 'year', 'month', 'day', 'hour'])"
   ]
  },
  {
   "cell_type": "markdown",
   "metadata": {},
   "source": [
    "I threw out some unnecessary columns."
   ]
  },
  {
   "cell_type": "code",
   "execution_count": 261,
   "metadata": {},
   "outputs": [
    {
     "data": {
      "text/plain": [
       "267679"
      ]
     },
     "execution_count": 261,
     "metadata": {},
     "output_type": "execute_result"
    }
   ],
   "source": [
    "#is ID an appropriate index?\n",
    "cleaned_data.id.nunique()"
   ]
  },
  {
   "cell_type": "markdown",
   "metadata": {},
   "source": [
    "ID is not an appropriate index as there are duplicates"
   ]
  },
  {
   "cell_type": "code",
   "execution_count": 262,
   "metadata": {},
   "outputs": [
    {
     "data": {
      "text/html": [
       "<div>\n",
       "<style scoped>\n",
       "    .dataframe tbody tr th:only-of-type {\n",
       "        vertical-align: middle;\n",
       "    }\n",
       "\n",
       "    .dataframe tbody tr th {\n",
       "        vertical-align: top;\n",
       "    }\n",
       "\n",
       "    .dataframe thead th {\n",
       "        text-align: right;\n",
       "    }\n",
       "</style>\n",
       "<table border=\"1\" class=\"dataframe\">\n",
       "  <thead>\n",
       "    <tr style=\"text-align: right;\">\n",
       "      <th></th>\n",
       "      <th>id</th>\n",
       "      <th>backers_count</th>\n",
       "      <th>blurb</th>\n",
       "      <th>currency</th>\n",
       "      <th>goal</th>\n",
       "      <th>launched_at</th>\n",
       "      <th>deadline</th>\n",
       "      <th>name</th>\n",
       "      <th>usd_pledged</th>\n",
       "      <th>slug</th>\n",
       "      <th>...</th>\n",
       "      <th>static_usd_rate</th>\n",
       "      <th>goal_USD</th>\n",
       "      <th>category_name</th>\n",
       "      <th>category_slug</th>\n",
       "      <th>blurb_length</th>\n",
       "      <th>location_type</th>\n",
       "      <th>location_country</th>\n",
       "      <th>location_state</th>\n",
       "      <th>location_displayable_name</th>\n",
       "      <th>binary_state</th>\n",
       "    </tr>\n",
       "  </thead>\n",
       "  <tbody>\n",
       "    <tr>\n",
       "      <th>3619</th>\n",
       "      <td>8624</td>\n",
       "      <td>737</td>\n",
       "      <td>A compact outdoor cooking set that you can use...</td>\n",
       "      <td>EUR</td>\n",
       "      <td>30000.0</td>\n",
       "      <td>2018-02-22 09:44:29</td>\n",
       "      <td>2018-03-29 08:44:29</td>\n",
       "      <td>Kombuis a portable and efficient rocket stove ...</td>\n",
       "      <td>93005.594341</td>\n",
       "      <td>kombuis-a-portable-and-efficient-rocket-stove-...</td>\n",
       "      <td>...</td>\n",
       "      <td>1.23221</td>\n",
       "      <td>36966.2991</td>\n",
       "      <td>Product Design</td>\n",
       "      <td>design</td>\n",
       "      <td>12</td>\n",
       "      <td>Town</td>\n",
       "      <td>US</td>\n",
       "      <td>WV</td>\n",
       "      <td>Belgium, WV</td>\n",
       "      <td>successful</td>\n",
       "    </tr>\n",
       "    <tr>\n",
       "      <th>865</th>\n",
       "      <td>8624</td>\n",
       "      <td>499</td>\n",
       "      <td>A compact outdoor cooking set that you can use...</td>\n",
       "      <td>EUR</td>\n",
       "      <td>30000.0</td>\n",
       "      <td>2018-02-22 09:44:29</td>\n",
       "      <td>2018-03-29 08:44:29</td>\n",
       "      <td>Kombuis a portable and efficient rocket stove ...</td>\n",
       "      <td>59989.760404</td>\n",
       "      <td>kombuis-a-portable-and-efficient-rocket-stove-...</td>\n",
       "      <td>...</td>\n",
       "      <td>1.23221</td>\n",
       "      <td>36966.2991</td>\n",
       "      <td>Product Design</td>\n",
       "      <td>design</td>\n",
       "      <td>12</td>\n",
       "      <td>Town</td>\n",
       "      <td>US</td>\n",
       "      <td>WV</td>\n",
       "      <td>Belgium, WV</td>\n",
       "      <td>successful</td>\n",
       "    </tr>\n",
       "    <tr>\n",
       "      <th>1446</th>\n",
       "      <td>8624</td>\n",
       "      <td>498</td>\n",
       "      <td>A compact outdoor cooking set that you can use...</td>\n",
       "      <td>EUR</td>\n",
       "      <td>30000.0</td>\n",
       "      <td>2018-02-22 09:44:29</td>\n",
       "      <td>2018-03-29 08:44:29</td>\n",
       "      <td>Kombuis a portable and efficient rocket stove ...</td>\n",
       "      <td>59871.468247</td>\n",
       "      <td>kombuis-a-portable-and-efficient-rocket-stove-...</td>\n",
       "      <td>...</td>\n",
       "      <td>1.23221</td>\n",
       "      <td>36966.2991</td>\n",
       "      <td>Product Design</td>\n",
       "      <td>design</td>\n",
       "      <td>12</td>\n",
       "      <td>Town</td>\n",
       "      <td>US</td>\n",
       "      <td>WV</td>\n",
       "      <td>Belgium, WV</td>\n",
       "      <td>successful</td>\n",
       "    </tr>\n",
       "    <tr>\n",
       "      <th>2753</th>\n",
       "      <td>18520</td>\n",
       "      <td>2</td>\n",
       "      <td>Raising money to help my grandmother recover f...</td>\n",
       "      <td>USD</td>\n",
       "      <td>15000.0</td>\n",
       "      <td>2016-10-19 13:32:40</td>\n",
       "      <td>2016-11-18 14:32:40</td>\n",
       "      <td>Grandma's are Life</td>\n",
       "      <td>11.000000</td>\n",
       "      <td>grandmas-are-life</td>\n",
       "      <td>...</td>\n",
       "      <td>1.00000</td>\n",
       "      <td>15000.0000</td>\n",
       "      <td>World Music</td>\n",
       "      <td>music</td>\n",
       "      <td>24</td>\n",
       "      <td>Town</td>\n",
       "      <td>US</td>\n",
       "      <td>OH</td>\n",
       "      <td>Cleveland, OH</td>\n",
       "      <td>failed</td>\n",
       "    </tr>\n",
       "    <tr>\n",
       "      <th>3348</th>\n",
       "      <td>18520</td>\n",
       "      <td>4</td>\n",
       "      <td>Raising money to help my grandmother recover f...</td>\n",
       "      <td>USD</td>\n",
       "      <td>15000.0</td>\n",
       "      <td>2016-10-19 13:32:40</td>\n",
       "      <td>2016-11-18 14:32:40</td>\n",
       "      <td>Grandma's are Life</td>\n",
       "      <td>62.000000</td>\n",
       "      <td>grandmas-are-life</td>\n",
       "      <td>...</td>\n",
       "      <td>1.00000</td>\n",
       "      <td>15000.0000</td>\n",
       "      <td>World Music</td>\n",
       "      <td>music</td>\n",
       "      <td>24</td>\n",
       "      <td>Town</td>\n",
       "      <td>US</td>\n",
       "      <td>OH</td>\n",
       "      <td>Cleveland, OH</td>\n",
       "      <td>failed</td>\n",
       "    </tr>\n",
       "    <tr>\n",
       "      <th>3511</th>\n",
       "      <td>38736</td>\n",
       "      <td>3</td>\n",
       "      <td>All your herbal tea remedies here. From colds ...</td>\n",
       "      <td>USD</td>\n",
       "      <td>2500.0</td>\n",
       "      <td>2018-08-22 03:51:56</td>\n",
       "      <td>2018-10-21 03:51:56</td>\n",
       "      <td>Herbal Teas</td>\n",
       "      <td>96.000000</td>\n",
       "      <td>herbal-teas</td>\n",
       "      <td>...</td>\n",
       "      <td>1.00000</td>\n",
       "      <td>2500.0000</td>\n",
       "      <td>Drinks</td>\n",
       "      <td>food</td>\n",
       "      <td>21</td>\n",
       "      <td>Town</td>\n",
       "      <td>US</td>\n",
       "      <td>NY</td>\n",
       "      <td>Livonia, NY</td>\n",
       "      <td>failed</td>\n",
       "    </tr>\n",
       "    <tr>\n",
       "      <th>3006</th>\n",
       "      <td>38736</td>\n",
       "      <td>3</td>\n",
       "      <td>All your herbal tea remedies here. From colds ...</td>\n",
       "      <td>USD</td>\n",
       "      <td>2500.0</td>\n",
       "      <td>2018-08-22 03:51:56</td>\n",
       "      <td>2018-10-21 03:51:56</td>\n",
       "      <td>Herbal Teas</td>\n",
       "      <td>96.000000</td>\n",
       "      <td>herbal-teas</td>\n",
       "      <td>...</td>\n",
       "      <td>1.00000</td>\n",
       "      <td>2500.0000</td>\n",
       "      <td>Drinks</td>\n",
       "      <td>food</td>\n",
       "      <td>21</td>\n",
       "      <td>Town</td>\n",
       "      <td>US</td>\n",
       "      <td>NY</td>\n",
       "      <td>Livonia, NY</td>\n",
       "      <td>failed</td>\n",
       "    </tr>\n",
       "  </tbody>\n",
       "</table>\n",
       "<p>7 rows × 22 columns</p>\n",
       "</div>"
      ],
      "text/plain": [
       "         id  backers_count                                              blurb  \\\n",
       "3619   8624            737  A compact outdoor cooking set that you can use...   \n",
       "865    8624            499  A compact outdoor cooking set that you can use...   \n",
       "1446   8624            498  A compact outdoor cooking set that you can use...   \n",
       "2753  18520              2  Raising money to help my grandmother recover f...   \n",
       "3348  18520              4  Raising money to help my grandmother recover f...   \n",
       "3511  38736              3  All your herbal tea remedies here. From colds ...   \n",
       "3006  38736              3  All your herbal tea remedies here. From colds ...   \n",
       "\n",
       "     currency     goal          launched_at             deadline  \\\n",
       "3619      EUR  30000.0  2018-02-22 09:44:29  2018-03-29 08:44:29   \n",
       "865       EUR  30000.0  2018-02-22 09:44:29  2018-03-29 08:44:29   \n",
       "1446      EUR  30000.0  2018-02-22 09:44:29  2018-03-29 08:44:29   \n",
       "2753      USD  15000.0  2016-10-19 13:32:40  2016-11-18 14:32:40   \n",
       "3348      USD  15000.0  2016-10-19 13:32:40  2016-11-18 14:32:40   \n",
       "3511      USD   2500.0  2018-08-22 03:51:56  2018-10-21 03:51:56   \n",
       "3006      USD   2500.0  2018-08-22 03:51:56  2018-10-21 03:51:56   \n",
       "\n",
       "                                                   name   usd_pledged  \\\n",
       "3619  Kombuis a portable and efficient rocket stove ...  93005.594341   \n",
       "865   Kombuis a portable and efficient rocket stove ...  59989.760404   \n",
       "1446  Kombuis a portable and efficient rocket stove ...  59871.468247   \n",
       "2753                                 Grandma's are Life     11.000000   \n",
       "3348                                 Grandma's are Life     62.000000   \n",
       "3511                                        Herbal Teas     96.000000   \n",
       "3006                                        Herbal Teas     96.000000   \n",
       "\n",
       "                                                   slug  ...  static_usd_rate  \\\n",
       "3619  kombuis-a-portable-and-efficient-rocket-stove-...  ...          1.23221   \n",
       "865   kombuis-a-portable-and-efficient-rocket-stove-...  ...          1.23221   \n",
       "1446  kombuis-a-portable-and-efficient-rocket-stove-...  ...          1.23221   \n",
       "2753                                  grandmas-are-life  ...          1.00000   \n",
       "3348                                  grandmas-are-life  ...          1.00000   \n",
       "3511                                        herbal-teas  ...          1.00000   \n",
       "3006                                        herbal-teas  ...          1.00000   \n",
       "\n",
       "        goal_USD   category_name  category_slug blurb_length location_type  \\\n",
       "3619  36966.2991  Product Design         design           12          Town   \n",
       "865   36966.2991  Product Design         design           12          Town   \n",
       "1446  36966.2991  Product Design         design           12          Town   \n",
       "2753  15000.0000     World Music          music           24          Town   \n",
       "3348  15000.0000     World Music          music           24          Town   \n",
       "3511   2500.0000          Drinks           food           21          Town   \n",
       "3006   2500.0000          Drinks           food           21          Town   \n",
       "\n",
       "      location_country location_state location_displayable_name binary_state  \n",
       "3619                US             WV               Belgium, WV   successful  \n",
       "865                 US             WV               Belgium, WV   successful  \n",
       "1446                US             WV               Belgium, WV   successful  \n",
       "2753                US             OH             Cleveland, OH       failed  \n",
       "3348                US             OH             Cleveland, OH       failed  \n",
       "3511                US             NY               Livonia, NY       failed  \n",
       "3006                US             NY               Livonia, NY       failed  \n",
       "\n",
       "[7 rows x 22 columns]"
      ]
     },
     "execution_count": 262,
     "metadata": {},
     "output_type": "execute_result"
    }
   ],
   "source": [
    "#look at some duplicated ID values\n",
    "cleaned_data[cleaned_data.id.duplicated(keep=False)].sort_values('id').head(7)"
   ]
  },
  {
   "cell_type": "markdown",
   "metadata": {},
   "source": [
    "The same projects are captured at different points in time, I will remove duplicate ID lines taking information from the most recent information (highest USD pledged)"
   ]
  },
  {
   "cell_type": "code",
   "execution_count": 263,
   "metadata": {},
   "outputs": [
    {
     "data": {
      "text/plain": [
       "267679"
      ]
     },
     "execution_count": 263,
     "metadata": {},
     "output_type": "execute_result"
    }
   ],
   "source": [
    "#dropping duplicates, note sorting by usd pledged so I only keep the most recent data\n",
    "cleaned_data = cleaned_data.sort_values('usd_pledged', ascending = False).drop_duplicates(subset = 'id', keep = 'first')\n",
    "cleaned_data.id.nunique()"
   ]
  },
  {
   "cell_type": "markdown",
   "metadata": {},
   "source": [
    "ID is now a unique column, so it can be set as the index"
   ]
  },
  {
   "cell_type": "code",
   "execution_count": 264,
   "metadata": {},
   "outputs": [
    {
     "name": "stdout",
     "output_type": "stream",
     "text": [
      "<class 'pandas.core.frame.DataFrame'>\n",
      "Int64Index: 267679 entries, 8624 to 2147476221\n",
      "Data columns (total 21 columns):\n",
      "backers_count                267679 non-null int64\n",
      "blurb                        267679 non-null object\n",
      "currency                     267679 non-null object\n",
      "goal                         267679 non-null float64\n",
      "launched_at                  267679 non-null object\n",
      "deadline                     267679 non-null object\n",
      "name                         267676 non-null object\n",
      "usd_pledged                  267679 non-null float64\n",
      "slug                         267679 non-null object\n",
      "spotlight                    267679 non-null bool\n",
      "staff_pick                   267679 non-null bool\n",
      "static_usd_rate              267679 non-null float64\n",
      "goal_USD                     267679 non-null float64\n",
      "category_name                267679 non-null object\n",
      "category_slug                267679 non-null object\n",
      "blurb_length                 267679 non-null int64\n",
      "location_type                267679 non-null object\n",
      "location_country             267679 non-null object\n",
      "location_state               267679 non-null object\n",
      "location_displayable_name    267679 non-null object\n",
      "binary_state                 267679 non-null object\n",
      "dtypes: bool(2), float64(4), int64(2), object(13)\n",
      "memory usage: 41.4+ MB\n"
     ]
    }
   ],
   "source": [
    "#drop old index and replace with ID column\n",
    "cleaned_data = cleaned_data.reset_index(drop=True).set_index('id').sort_index()\n",
    "\n",
    "cleaned_data.info()"
   ]
  },
  {
   "cell_type": "code",
   "execution_count": 265,
   "metadata": {},
   "outputs": [],
   "source": [
    "#create a new column for days between launch and goal date\n",
    "cleaned_data['launched_at'] = pd.to_datetime(cleaned_data['launched_at'])\n",
    "cleaned_data['deadline'] = pd.to_datetime(cleaned_data['deadline'])\n",
    "cleaned_data['days_between'] = (cleaned_data['deadline'] - cleaned_data['launched_at']).dt.days"
   ]
  },
  {
   "cell_type": "code",
   "execution_count": 266,
   "metadata": {},
   "outputs": [
    {
     "data": {
      "image/png": "[encoded data removed]",
      "text/plain": [
       "<Figure size 1080x396 with 1 Axes>"
      ]
     },
     "metadata": {
      "needs_background": "light"
     },
     "output_type": "display_data"
    }
   ],
   "source": [
    "#histogram of days between\n",
    "fig=plt.figure(figsize=(15,5.5))\n",
    "x = cleaned_data['days_between'].loc[cleaned_data['binary_state'] == 'successful']\n",
    "y = cleaned_data['days_between'].loc[cleaned_data['binary_state'] == 'failed']\n",
    "bins = np.linspace(0, 100, 100)\n",
    "\n",
    "plt.hist(x, bins, alpha=0.5, label='Success')\n",
    "plt.hist(y, bins, alpha=0.5, label='Failed')\n",
    "plt.legend(loc='upper right')\n",
    "plt.title('Histogram of Difference between Deadline and Lauch Date')\n",
    "plt.show()"
   ]
  },
  {
   "cell_type": "markdown",
   "metadata": {},
   "source": [
    "Most Kickstarters have the deadline set at around 30 days from the launch date."
   ]
  },
  {
   "cell_type": "code",
   "execution_count": 267,
   "metadata": {},
   "outputs": [
    {
     "data": {
      "image/png": "[encoded data removed]",
      "text/plain": [
       "<Figure size 720x396 with 1 Axes>"
      ]
     },
     "metadata": {
      "needs_background": "light"
     },
     "output_type": "display_data"
    }
   ],
   "source": [
    "#day of the week bar chart\n",
    "# https://seaborn.pydata.org/generated/seaborn.countplot.html interesting information\n",
    "cleaned_data['day_week'] = cleaned_data['launched_at'].dt.day_name()\n",
    "fig=plt.figure(figsize=(10,5.5))\n",
    "chart = sns.countplot(x = 'day_week', hue = 'binary_state', data = cleaned_data, order = cleaned_data['day_week'].value_counts().index)\n",
    "plt.xlabel('Day of Week')\n",
    "plt.legend(title = '')\n",
    "plt.title('Count of Day of the Week')\n",
    "plt.show()"
   ]
  },
  {
   "cell_type": "markdown",
   "metadata": {},
   "source": [
    "The middle of the week is the most popular launch time."
   ]
  },
  {
   "cell_type": "code",
   "execution_count": 268,
   "metadata": {},
   "outputs": [
    {
     "data": {
      "image/png": "[encoded data removed]",
      "text/plain": [
       "<Figure size 1440x432 with 1 Axes>"
      ]
     },
     "metadata": {
      "needs_background": "light"
     },
     "output_type": "display_data"
    }
   ],
   "source": [
    "#looking distribution of the backers_count column\n",
    "f, ax = plt.subplots(figsize=(20, 6))\n",
    "ax.set_xscale(\"log\")\n",
    "sns.boxplot(x=\"backers_count\", y=\"binary_state\", data=cleaned_data, palette = 'muted')\n",
    "ax.xaxis.grid(True)\n",
    "ax.set(ylabel=\"\", xlabel = \"Number of Backers (Log Scale)\", title = 'Number of Backers Distribution')\n",
    "plt.show()"
   ]
  },
  {
   "cell_type": "code",
   "execution_count": 269,
   "metadata": {},
   "outputs": [
    {
     "data": {
      "image/png": "[encoded data removed]",
      "text/plain": [
       "<Figure size 1440x432 with 1 Axes>"
      ]
     },
     "metadata": {
      "needs_background": "light"
     },
     "output_type": "display_data"
    }
   ],
   "source": [
    "#looking at distribution of USD Pledged\n",
    "f, ax = plt.subplots(figsize=(20, 6))\n",
    "ax.set_xscale(\"log\")\n",
    "sns.boxplot(x=\"usd_pledged\", y=\"binary_state\", data=cleaned_data, palette = 'muted')\n",
    "ax.xaxis.grid(True)\n",
    "ax.set(ylabel=\"\", xlabel = \"USD Pledged (Log Scale)\", title = 'USD Pledged Distribution')\n",
    "plt.show()"
   ]
  },
  {
   "cell_type": "markdown",
   "metadata": {},
   "source": [
    "Successful Kickstarter campaigns are outliers in themselves"
   ]
  },
  {
   "cell_type": "code",
   "execution_count": 270,
   "metadata": {},
   "outputs": [
    {
     "data": {
      "image/png": "[encoded data removed]",
      "text/plain": [
       "<Figure size 1440x432 with 1 Axes>"
      ]
     },
     "metadata": {
      "needs_background": "light"
     },
     "output_type": "display_data"
    }
   ],
   "source": [
    "#looking at distribution of USD Goal\n",
    "f, ax = plt.subplots(figsize=(20, 6))\n",
    "ax.set_xscale(\"log\")\n",
    "sns.boxplot(x=\"goal_USD\", y=\"binary_state\", data=cleaned_data, palette = 'muted')\n",
    "ax.xaxis.grid(True)\n",
    "ax.set(ylabel=\"\", xlabel = \"Goal USD (Log Scale)\", title = 'Goal USD Distribution')\n",
    "plt.show()"
   ]
  },
  {
   "cell_type": "code",
   "execution_count": 275,
   "metadata": {
    "scrolled": false
   },
   "outputs": [
    {
     "data": {
      "image/png": "[encoded data removed]",
      "text/plain": [
       "<Figure size 864x432 with 1 Axes>"
      ]
     },
     "metadata": {
      "needs_background": "light"
     },
     "output_type": "display_data"
    }
   ],
   "source": [
    "#show the frequency of location country for those with at least 5000 occurrences\n",
    "fig = plt.figure(figsize = (12, 6))\n",
    "sns.countplot(x = 'location_country', hue = 'binary_state', \n",
    "              data = cleaned_data[cleaned_data.location_country.isin(['US', 'GB', 'CA', 'AU', 'DE', 'FR', 'IT'])], \n",
    "              order = cleaned_data.location_country.loc[cleaned_data.location_country.isin(['US', 'GB', 'CA', 'AU', 'DE', 'FR', 'IT'])].value_counts().index)\n",
    "plt.legend(title ='')\n",
    "plt.xlabel('Location Country')\n",
    "plt.title('Count of Location Country (> 3000)')\n",
    "plt.show()"
   ]
  },
  {
   "cell_type": "markdown",
   "metadata": {},
   "source": [
    "There are only seven countries with more than 3000 occurrences. The US dominates with Great Britain and Canada coming in second and third."
   ]
  },
  {
   "cell_type": "code",
   "execution_count": null,
   "metadata": {},
   "outputs": [],
   "source": []
  },
  {
   "cell_type": "code",
   "execution_count": null,
   "metadata": {},
   "outputs": [],
   "source": []
  },
  {
   "cell_type": "code",
   "execution_count": null,
   "metadata": {},
   "outputs": [],
   "source": []
  },
  {
   "cell_type": "code",
   "execution_count": null,
   "metadata": {},
   "outputs": [],
   "source": []
  },
  {
   "cell_type": "code",
   "execution_count": null,
   "metadata": {},
   "outputs": [],
   "source": []
  },
  {
   "cell_type": "code",
   "execution_count": null,
   "metadata": {},
   "outputs": [],
   "source": []
  },
  {
   "cell_type": "code",
   "execution_count": null,
   "metadata": {},
   "outputs": [],
   "source": []
  },
  {
   "cell_type": "code",
   "execution_count": null,
   "metadata": {},
   "outputs": [],
   "source": []
  },
  {
   "cell_type": "code",
   "execution_count": null,
   "metadata": {},
   "outputs": [],
   "source": []
  },
  {
   "cell_type": "code",
   "execution_count": null,
   "metadata": {},
   "outputs": [],
   "source": []
  }
 ],
 "metadata": {
  "kernelspec": {
   "display_name": "Python 3",
   "language": "python",
   "name": "python3"
  },
  "language_info": {
   "codemirror_mode": {
    "name": "ipython",
    "version": 3
   },
   "file_extension": ".py",
   "mimetype": "text/x-python",
   "name": "python",
   "nbconvert_exporter": "python",
   "pygments_lexer": "ipython3",
   "version": "3.7.3"
  }
 },
 "nbformat": 4,
 "nbformat_minor": 2
}
