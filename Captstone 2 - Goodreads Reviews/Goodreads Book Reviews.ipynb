{
 "cells": [
  {
   "cell_type": "markdown",
   "metadata": {},
   "source": [
    "# Goodreads Book Reviews"
   ]
  },
  {
   "cell_type": "code",
   "execution_count": 1,
   "metadata": {},
   "outputs": [
    {
     "data": {
      "text/html": [
       "<style>.container { width:90% !important; }</style>"
      ],
      "text/plain": [
       "<IPython.core.display.HTML object>"
      ]
     },
     "metadata": {},
     "output_type": "display_data"
    }
   ],
   "source": [
    "#change display\n",
    "from IPython.core.display import display, HTML\n",
    "display(HTML(\"<style>.container { width:90% !important; }</style>\"))"
   ]
  },
  {
   "cell_type": "code",
   "execution_count": 2,
   "metadata": {},
   "outputs": [],
   "source": [
    "import warnings\n",
    "warnings.filterwarnings(\"ignore\")"
   ]
  },
  {
   "cell_type": "markdown",
   "metadata": {},
   "source": [
    "## Loading Data"
   ]
  },
  {
   "cell_type": "code",
   "execution_count": 12,
   "metadata": {},
   "outputs": [],
   "source": [
    "#importing packages\n",
    "import tqdm\n",
    "import re\n",
    "import gzip\n",
    "import json\n",
    "import re\n",
    "import os\n",
    "import sys\n",
    "import numpy as np\n",
    "import pandas as pd\n",
    "import pickle\n",
    "import matplotlib.pyplot as plt\n",
    "import seaborn as sns"
   ]
  },
  {
   "cell_type": "code",
   "execution_count": 4,
   "metadata": {},
   "outputs": [],
   "source": [
    "#dataset link"
   ]
  },
  {
   "cell_type": "code",
   "execution_count": 5,
   "metadata": {},
   "outputs": [],
   "source": [
    "#set directory for loading dataset\n",
    "DIR = './goodreads-master/'"
   ]
  },
  {
   "cell_type": "code",
   "execution_count": 6,
   "metadata": {},
   "outputs": [],
   "source": [
    "#function to preview or read in the data the data\n",
    "#takes each line to a list and then appends to a list to make a list of lists\n",
    "def load_data(file_name, head = 500):\n",
    "    count = 0\n",
    "    data = []\n",
    "    with gzip.open(file_name) as fin:\n",
    "        for l in fin:\n",
    "            d = json.loads(l)\n",
    "            data_list = []\n",
    "            data_list.append(d['user_id'])\n",
    "            data_list.append(d['book_id'])\n",
    "            data_list.append(d['review_id'])\n",
    "            data_list.append(d['rating'])\n",
    "            data_list.append(d['review_text'])\n",
    "            if r'(view spoiler)' in d['review_text']:\n",
    "                data_list.append(1)\n",
    "            else: data_list.append(0)\n",
    "            data.append(data_list)\n",
    "            count += 1\n",
    "            \n",
    "            # break if reaches the 100th line\n",
    "            if (head is not None) and (count > head):\n",
    "                break\n",
    "    return data"
   ]
  },
  {
   "cell_type": "code",
   "execution_count": 7,
   "metadata": {},
   "outputs": [],
   "source": [
    "#load in raw text (this will probably a little while)\n",
    "data = load_data(os.path.join(DIR, 'goodreads_reviews_spoiler_raw.json.gz'), head = None)"
   ]
  },
  {
   "cell_type": "code",
   "execution_count": 8,
   "metadata": {},
   "outputs": [
    {
     "name": "stdout",
     "output_type": "stream",
     "text": [
      "1378033\n",
      "\n",
      "<class 'pandas.core.frame.DataFrame'>\n",
      "Index: 1378033 entries, dfdbb7b0eb5a7e4c26d59a937e2e5feb to 62ed1263c7d216986cc419cd4e8a408b\n",
      "Data columns (total 5 columns):\n",
      " #   Column       Non-Null Count    Dtype \n",
      "---  ------       --------------    ----- \n",
      " 0   user_id      1378033 non-null  object\n",
      " 1   book_id      1378033 non-null  object\n",
      " 2   rating       1378033 non-null  int64 \n",
      " 3   review_text  1378033 non-null  object\n",
      " 4   spoiler      1378033 non-null  int64 \n",
      "dtypes: int64(2), object(3)\n",
      "memory usage: 63.1+ MB\n"
     ]
    }
   ],
   "source": [
    "#take the list of lists to DF\n",
    "\n",
    "df = pd.DataFrame(data, columns = ['user_id', 'book_id', 'review_id', 'rating', 'review_text', 'spoiler'])\n",
    "print(df.review_id.nunique())\n",
    "\n",
    "df.set_index('review_id', inplace = True)\n",
    "print('')\n",
    "df.info()\n"
   ]
  },
  {
   "cell_type": "code",
   "execution_count": 9,
   "metadata": {},
   "outputs": [],
   "source": [
    "#remove data from memory\n",
    "del(data)"
   ]
  },
  {
   "cell_type": "markdown",
   "metadata": {},
   "source": [
    "## Early Data Exploration"
   ]
  },
  {
   "cell_type": "code",
   "execution_count": 10,
   "metadata": {},
   "outputs": [
    {
     "data": {
      "text/plain": [
       "4    480199\n",
       "5    403374\n",
       "3    290430\n",
       "2    112226\n",
       "0     47052\n",
       "1     44752\n",
       "Name: rating, dtype: int64"
      ]
     },
     "execution_count": 10,
     "metadata": {},
     "output_type": "execute_result"
    }
   ],
   "source": [
    "df.rating.value_counts()"
   ]
  },
  {
   "cell_type": "markdown",
   "metadata": {},
   "source": [
    "I was not expecting the 0 score for reviews. Let's take a look."
   ]
  },
  {
   "cell_type": "markdown",
   "metadata": {},
   "source": [
    "**Not necessary to rerun**"
   ]
  },
  {
   "cell_type": "code",
   "execution_count": 11,
   "metadata": {},
   "outputs": [],
   "source": [
    "#list of 0 scored reviews\n",
    "review_text0 = [df.review_text.iloc[i] for i in range(len(df.review_text)) if df.rating.iloc[i] == 0]"
   ]
  },
  {
   "cell_type": "code",
   "execution_count": 12,
   "metadata": {},
   "outputs": [
    {
     "data": {
      "text/plain": [
       "\"First I want to say that I ADORE this author. I love pretty much everything she writes. Now, that being said. I am BEYOND disgusted that she wrote about the (view spoiler)[ hero getting drugged and raped, and then instead of REPORTING the CRIME he marries his rapist and takes care of her for pretty much the whole book. (hide spoiler)] WTH were you thinking author? I think you need to be sat down in a room full of (view spoiler)[ rape survivors (hide spoiler)] and have a chat about how disgusting and demeaning that scenario is. Had the situation been reversed and it was the heroine that had been (view spoiler)[ drugged and raped, and then she married the rapist hero (hide spoiler)] people would be ALL up in arms. \\n I'm appalled really. I don't know what else to say....\""
      ]
     },
     "execution_count": 12,
     "metadata": {},
     "output_type": "execute_result"
    }
   ],
   "source": [
    "#random sample to examine data\n",
    "np.random.choice(review_text0)"
   ]
  },
  {
   "cell_type": "markdown",
   "metadata": {},
   "source": [
    "Reviews with 0 stars often appear to be from people who did not finish the book or were in the process of reading. However, they can also be legitimate reviews. They are sometimes negative or positive, but are most often neutral. Goodreads allows you to review without setting the stars, so these reviews should likely be thrown out for prediction purposes."
   ]
  },
  {
   "cell_type": "code",
   "execution_count": 13,
   "metadata": {},
   "outputs": [],
   "source": [
    "#remove from memory\n",
    "del(review_text0)"
   ]
  },
  {
   "cell_type": "markdown",
   "metadata": {},
   "source": [
    "## Data Cleaning"
   ]
  },
  {
   "cell_type": "code",
   "execution_count": 14,
   "metadata": {},
   "outputs": [
    {
     "data": {
      "text/plain": [
       "1330981"
      ]
     },
     "execution_count": 14,
     "metadata": {},
     "output_type": "execute_result"
    }
   ],
   "source": [
    "#removing the 0 ratings\n",
    "df = df.loc[df.rating != 0]\n",
    "len(df)"
   ]
  },
  {
   "cell_type": "code",
   "execution_count": 15,
   "metadata": {},
   "outputs": [
    {
     "data": {
      "text/plain": [
       "1175005"
      ]
     },
     "execution_count": 15,
     "metadata": {},
     "output_type": "execute_result"
    }
   ],
   "source": [
    "#remove those reviews of under 100 characters for computational speed purposes\n",
    "df = df.loc[(df.review_text.astype(str).str.len()) >= 100]\n",
    "len(df)"
   ]
  },
  {
   "cell_type": "code",
   "execution_count": 16,
   "metadata": {},
   "outputs": [
    {
     "data": {
      "text/plain": [
       "18833"
      ]
     },
     "execution_count": 16,
     "metadata": {},
     "output_type": "execute_result"
    }
   ],
   "source": [
    "#number of unique users\n",
    "df.user_id.nunique()"
   ]
  },
  {
   "cell_type": "code",
   "execution_count": 17,
   "metadata": {},
   "outputs": [
    {
     "data": {
      "text/plain": [
       "25466"
      ]
     },
     "execution_count": 17,
     "metadata": {},
     "output_type": "execute_result"
    }
   ],
   "source": [
    "#number of unique books\n",
    "df.book_id.nunique()"
   ]
  },
  {
   "cell_type": "code",
   "execution_count": 18,
   "metadata": {},
   "outputs": [
    {
     "data": {
      "text/plain": [
       " 1    771529\n",
       " 0    261806\n",
       "-1    141670\n",
       "Name: rating, dtype: int64"
      ]
     },
     "execution_count": 18,
     "metadata": {},
     "output_type": "execute_result"
    }
   ],
   "source": [
    "#mapping the 5 starts to negative, neutral, positive\n",
    "df.rating = df.rating.map({1 : -1, 2 : -1, 3 : 0, 4 : 1, 5: 1})\n",
    "df.rating.value_counts()"
   ]
  },
  {
   "cell_type": "code",
   "execution_count": 19,
   "metadata": {},
   "outputs": [
    {
     "data": {
      "text/plain": [
       "403476"
      ]
     },
     "execution_count": 19,
     "metadata": {},
     "output_type": "execute_result"
    }
   ],
   "source": [
    "#down sampling the largest class to make it the sum of the size of the other classes; doing this to help simpler models and to help with hardware constraints\n",
    "df1 = df.loc[df.rating == 1].sample(n = 403476, random_state = 87, axis = 0)\n",
    "len(df1)"
   ]
  },
  {
   "cell_type": "code",
   "execution_count": 20,
   "metadata": {},
   "outputs": [
    {
     "data": {
      "text/plain": [
       "806952"
      ]
     },
     "execution_count": 20,
     "metadata": {},
     "output_type": "execute_result"
    }
   ],
   "source": [
    "#append the downsampled positive reviews to the new dataframe\n",
    "df = df.loc[df.rating != 1].append(df1)\n",
    "len(df)"
   ]
  },
  {
   "cell_type": "code",
   "execution_count": 21,
   "metadata": {},
   "outputs": [],
   "source": [
    "#removing other df from memory\n",
    "del(df1)"
   ]
  },
  {
   "cell_type": "code",
   "execution_count": 22,
   "metadata": {},
   "outputs": [],
   "source": [
    "df['sentiment'] = df.rating.map({-1: \"negative\", 0 : \"neutral\", 1: \"positive\"})"
   ]
  },
  {
   "cell_type": "code",
   "execution_count": 23,
   "metadata": {},
   "outputs": [
    {
     "data": {
      "text/plain": [
       "review_id\n",
       "2ede853b14dc4583f96cf5d120af636f    468\n",
       "a582bfa8efd69d453a5a21a678046b36    317\n",
       "9f35b253416fdc0c1aa9774791cb3015    322\n",
       "d44b6d28f456dbcc5b1537b4c5572400    175\n",
       "20959fdf09c09810fa1f0097e086eeda     42\n",
       "Name: review_length, dtype: int64"
      ]
     },
     "execution_count": 23,
     "metadata": {},
     "output_type": "execute_result"
    }
   ],
   "source": [
    "df['review_length'] = df.review_text.apply(lambda x: len(x.split()))\n",
    "df.review_length.head()"
   ]
  },
  {
   "cell_type": "code",
   "execution_count": 24,
   "metadata": {},
   "outputs": [],
   "source": [
    "#pickling the sentiment data for colab\n",
    "with open(\"sentiment.txt\", \"wb\") as fp:   #Pickling\n",
    "    pickle.dump(np.array(df.sentiment), fp)"
   ]
  },
  {
   "cell_type": "code",
   "execution_count": 41,
   "metadata": {},
   "outputs": [],
   "source": [
    "#pickling the text data for colab\n",
    "with open(\"review_text1.txt\", \"wb\") as fp:   #Pickling\n",
    "    pickle.dump(df.review_text[0:400000], fp)"
   ]
  },
  {
   "cell_type": "code",
   "execution_count": 43,
   "metadata": {},
   "outputs": [],
   "source": [
    "#pickling the text data for colab\n",
    "with open(\"review_text2.txt\", \"wb\") as fp:   #Pickling\n",
    "    pickle.dump(df.review_text[400000:], fp)"
   ]
  },
  {
   "cell_type": "markdown",
   "metadata": {},
   "source": [
    "## Visualization and Storytelling"
   ]
  },
  {
   "cell_type": "code",
   "execution_count": 29,
   "metadata": {},
   "outputs": [
    {
     "data": {
      "image/png": "[encoded data removed]",
      "text/plain": [
       "<Figure size 792x396 with 1 Axes>"
      ]
     },
     "metadata": {
      "needs_background": "light"
     },
     "output_type": "display_data"
    }
   ],
   "source": [
    "f, ax = plt.subplots(figsize=(11,5.5))\n",
    "\n",
    "bins = np.linspace(0, 2000, 40)\n",
    "\n",
    "plt.hist(df.review_length, bins=bins, alpha=0.8)\n",
    "\n",
    "ax.set(ylabel=\"Count\", xlabel = \"Words per Review\", title = 'Histogram of Words per Review')\n",
    "\n",
    "plt.show()"
   ]
  },
  {
   "cell_type": "code",
   "execution_count": 28,
   "metadata": {},
   "outputs": [
    {
     "data": {
      "text/plain": [
       "count    806952.000000\n",
       "mean        220.802516\n",
       "std         231.499882\n",
       "min           2.000000\n",
       "25%          62.000000\n",
       "50%         138.000000\n",
       "75%         300.000000\n",
       "max        3400.000000\n",
       "Name: review_length, dtype: float64"
      ]
     },
     "execution_count": 28,
     "metadata": {},
     "output_type": "execute_result"
    }
   ],
   "source": [
    "df.review_length.describe()"
   ]
  },
  {
   "cell_type": "markdown",
   "metadata": {},
   "source": [
    "## Normalization and Preprocessing"
   ]
  },
  {
   "cell_type": "code",
   "execution_count": 21,
   "metadata": {},
   "outputs": [],
   "source": [
    "#building out a normalization dict to perform prior to stemming\n",
    "normalization_dict = {'was' : 'be', 'is' : 'be', 'are': 'be', 'been': 'be', 'were': 'be', 'am' : 'be', \n",
    "                      'wasnt':'isnt', 'arent':'isnt', 'werent':'isnt', 'does': 'do', 'has': 'have', 'had' : 'have',\n",
    "                      'so':'', 'such':'', 'the':'', 'a':'', 'an':'', 'to': '', 'of':'', 'in':'', 'on':'', 'all':'', \n",
    "                      'for':'', 'about':'', 'at':'', 'that':'', 'this':'', 'probably':'', 'just':'', 'as':'',\n",
    "                      '1':'one', '2':'two', '3':'three', '4':'four', '5':'five', '6':'six', '7':'seven', '8':'eight', '9':'nine', #numbers \n",
    "                      'he':'_pron_', 'she':'_pron_', 'i':'_pron_', 'we':'_pron_', 'you':'_pron_', 'it':'_pron_', 'they':'_pron_', #personal subject pronouns\n",
    "                      'me':'_pron_', 'us':'_pron_', 'her':'_pron_', 'him':'_pron_', 'them':'_pron_', 'his':'_pron_'} #obj pronouns"
   ]
  },
  {
   "cell_type": "code",
   "execution_count": 43,
   "metadata": {},
   "outputs": [],
   "source": [
    "#writing a preprocessing and normalization function\n",
    "\n",
    "from nltk.stem import PorterStemmer\n",
    " \n",
    "# init stemmer\n",
    "porter_stemmer=PorterStemmer()\n",
    " \n",
    "def basic_preprocessor(text):\n",
    "    text = re.sub(r\"(view spoiler)|(hide spoiler)|\\n\", \"\", text) #removing view spoiler, hide spoiler and newline char\n",
    "    \n",
    "    text=text.lower() #lower case text\n",
    "    \n",
    "    text = re.sub(\"[^a-z0-9 ]+\", \"\", text) #remove everything except letters and numbers, and spaces (can replace with blank)\n",
    "    \n",
    "    #split out words for our list comprehension\n",
    "    words=re.split(\"\\\\s+\",text)\n",
    "    \n",
    "    #use the normalization words\n",
    "    normalization_words = [normalization_dict[word] if word in normalization_dict.keys() else word for word in words]\n",
    "    \n",
    "    # stem words that aren't blank\n",
    "    stemmed_words=[porter_stemmer.stem(word=word) for word in normalization_words if word != \"\"]\n",
    "        \n",
    "    return ' '.join(stemmed_words)"
   ]
  },
  {
   "cell_type": "markdown",
   "metadata": {},
   "source": [
    "**Be careful of processing time below. DO NOT RERUN**"
   ]
  },
  {
   "cell_type": "code",
   "execution_count": 24,
   "metadata": {},
   "outputs": [],
   "source": [
    "#preprocessing text\n",
    "df.review_text = [basic_preprocessor(text) for text in df.review_text]"
   ]
  },
  {
   "cell_type": "code",
   "execution_count": 45,
   "metadata": {},
   "outputs": [
    {
     "data": {
      "text/plain": [
       "'fun fast pace scienc fiction thriller _pron_ read _pron_ two night and couldnt put _pron_ down book be quantum theori mani world which state decis _pron_ make throughout our live basic creat branch and each possibl path through decis tree can be thought parallel world and book someon invent way switch between these world be nice allud toforeshadow quot _pron_ think choic weve made creat moment _pron_ sit here togeth beauti tabl then _pron_ think possibl event could have stop moment from ever happen and _pron_ feel _pron_ dont know what fragil now _pron_ becom thought moment _pron_ say final it terrifi when _pron_ consid everi thought _pron_ have everi choic _pron_ could possibl make branch into new world book cant be discuss without spoiler _pron_ be book choic and regret ever regret not chase girl your dream _pron_ can focu your career well jason2 made choic and then did regret _pron_ clearli author be tri tell _pron_ optim happi be second rate physic teacher commun colleg if _pron_ mean _pron_ can have happi life im be snarki becaus while there be certainli someth _pron_ also have have mean your life come from within _pron_ thought book be littl shallow dimens fact charact be fairli shallow daniela be perfect wife ryan perfect antithesi jason amanda perfect loyal travel companion etc plu fact book be weak scienc be what led _pron_ take few star off but id still read _pron_ again if _pron_ could go back time be veri fun and engag read if _pron_ want realli minim regret _pron_ have live your life avoid _pron_ first place regret cant be hack which be kind point book my favorit book regret be remain day _pron_ do realli like visual decis tree though be power concept everi moment everi breath contain choic but life be imperfect _pron_ make wrong choic _pron_ end up live state perpetu regret and be there anyth wors _pron_ built someth could actual erad regret let _pron_ find world where _pron_ made right choic daniela say life doesnt work way _pron_ live with your choic and learn _pron_ dont cheat system'"
      ]
     },
     "execution_count": 45,
     "metadata": {},
     "output_type": "execute_result"
    }
   ],
   "source": [
    "#checking preprocessing\n",
    "df.review_text[0]"
   ]
  },
  {
   "cell_type": "code",
   "execution_count": 30,
   "metadata": {},
   "outputs": [],
   "source": [
    "#pickling the preprocessed text\n",
    "with open(\"preprocessed_text.txt\", \"wb\") as fp:   #Pickling\n",
    "    pickle.dump(list(df.review_text), fp)"
   ]
  },
  {
   "cell_type": "markdown",
   "metadata": {},
   "source": [
    "## Splitting Data Prior to Feature Creation/Engineering"
   ]
  },
  {
   "cell_type": "code",
   "execution_count": 19,
   "metadata": {},
   "outputs": [
    {
     "name": "stdout",
     "output_type": "stream",
     "text": [
      "(645561, 2) (645561,)\n",
      "(161391, 2) (161391,)\n"
     ]
    }
   ],
   "source": [
    "from sklearn.model_selection import train_test_split\n",
    "\n",
    "X_train, X_test, y_train, y_test = train_test_split(df.drop(columns=['rating', 'user_id', 'book_id'], axis = 1), \n",
    "                                                    df.rating, test_size=0.20, random_state = 43)\n",
    "print(X_train.shape, y_train.shape)\n",
    "print(X_test.shape, y_test.shape)"
   ]
  },
  {
   "cell_type": "code",
   "execution_count": 20,
   "metadata": {},
   "outputs": [],
   "source": [
    "#remove df from memory\n",
    "del(df)"
   ]
  },
  {
   "cell_type": "code",
   "execution_count": 41,
   "metadata": {},
   "outputs": [],
   "source": [
    "#pickling the split data\n",
    "with open(\"y_train.pkl\", \"wb\") as fp:   #Pickling\n",
    "    pickle.dump(y_train, fp)"
   ]
  },
  {
   "cell_type": "code",
   "execution_count": 22,
   "metadata": {},
   "outputs": [],
   "source": [
    "#pickling the split data\n",
    "with open(\"y_test.pkl\", \"wb\") as fp:   #Pickling\n",
    "    pickle.dump(y_test, fp)"
   ]
  },
  {
   "cell_type": "markdown",
   "metadata": {},
   "source": [
    "## CountVectorizer Feature Creation from Text"
   ]
  },
  {
   "cell_type": "code",
   "execution_count": 39,
   "metadata": {},
   "outputs": [],
   "source": [
    "from sklearn.feature_extraction.text import CountVectorizer\n",
    "\n",
    "count_vectorizer = CountVectorizer(max_df = 0.20, min_df = 400, ngram_range = (1,2), lowercase = False)"
   ]
  },
  {
   "cell_type": "code",
   "execution_count": 40,
   "metadata": {},
   "outputs": [],
   "source": [
    "count_vectors_train = count_vectorizer.fit_transform(X_train.review_text)"
   ]
  },
  {
   "cell_type": "code",
   "execution_count": 41,
   "metadata": {},
   "outputs": [],
   "source": [
    "count_vectors_test = count_vectorizer.transform(X_test.review_text)"
   ]
  },
  {
   "cell_type": "code",
   "execution_count": 42,
   "metadata": {},
   "outputs": [
    {
     "data": {
      "text/plain": [
       "34014"
      ]
     },
     "execution_count": 42,
     "metadata": {},
     "output_type": "execute_result"
    }
   ],
   "source": [
    "len(count_vectorizer.vocabulary_)"
   ]
  },
  {
   "cell_type": "code",
   "execution_count": 43,
   "metadata": {},
   "outputs": [],
   "source": [
    "#pickling the results\n",
    "with open(\"count_vectors_train.pkl\", \"wb\") as fp:   #Pickling\n",
    "    pickle.dump(count_vectors_train, fp)"
   ]
  },
  {
   "cell_type": "code",
   "execution_count": 21,
   "metadata": {},
   "outputs": [],
   "source": [
    "#unpickle the results\n",
    "with open(\"count_vectors_train.pkl\", \"rb\") as fp:   # Unpickling\n",
    "    count_vectors_train = pickle.load(fp)"
   ]
  },
  {
   "cell_type": "code",
   "execution_count": 44,
   "metadata": {},
   "outputs": [],
   "source": [
    "#pickling the results\n",
    "with open(\"count_vectors_test.pkl\", \"wb\") as fp:   #Pickling\n",
    "    pickle.dump(count_vectors_test, fp)"
   ]
  },
  {
   "cell_type": "code",
   "execution_count": 22,
   "metadata": {},
   "outputs": [],
   "source": [
    "#unpickle the results\n",
    "with open(\"count_vectors_test.pkl\", \"rb\") as fp:   # Unpickling\n",
    "    count_vectors_test = pickle.load(fp)"
   ]
  },
  {
   "cell_type": "code",
   "execution_count": 37,
   "metadata": {},
   "outputs": [],
   "source": [
    "del(count_vectors_train, count_vectors_test)"
   ]
  },
  {
   "cell_type": "markdown",
   "metadata": {},
   "source": [
    "## Tfidf Feature Creation from Text"
   ]
  },
  {
   "cell_type": "code",
   "execution_count": 38,
   "metadata": {},
   "outputs": [],
   "source": [
    "#Count Vectorizer or tfidf_vectorizer?\n",
    "#I use 20% because only using bigrams due to memory constraints (would use 25 - 30% if included 1-grams)\n",
    "from sklearn.feature_extraction.text import TfidfVectorizer\n",
    "\n",
    "tfidf_vectorizer = TfidfVectorizer(sublinear_tf=True, use_idf=True, max_df = 0.20, min_df = 400, ngram_range = (1,2),\n",
    "                                  lowercase = False)"
   ]
  },
  {
   "cell_type": "code",
   "execution_count": 39,
   "metadata": {},
   "outputs": [],
   "source": [
    "tfidf_vectors_train = tfidf_vectorizer.fit_transform(X_train.review_text)"
   ]
  },
  {
   "cell_type": "code",
   "execution_count": 40,
   "metadata": {},
   "outputs": [],
   "source": [
    "#pickling the results\n",
    "with open(\"tfidf_vectors_train.pkl\", \"wb\") as fp:   #Pickling\n",
    "    pickle.dump(tfidf_vectors_train, fp)"
   ]
  },
  {
   "cell_type": "code",
   "execution_count": 6,
   "metadata": {},
   "outputs": [],
   "source": [
    "#unpickle the results\n",
    "with open(\"tfidf_vectors_train.pkl\", \"rb\") as fp:   # Unpickling\n",
    "    tfidf_vectors_train = pickle.load(fp)"
   ]
  },
  {
   "cell_type": "code",
   "execution_count": 41,
   "metadata": {},
   "outputs": [],
   "source": [
    "tfidf_vectors_test = tfidf_vectorizer.transform(X_test.review_text)"
   ]
  },
  {
   "cell_type": "code",
   "execution_count": 42,
   "metadata": {},
   "outputs": [],
   "source": [
    "#pickling the results\n",
    "with open(\"tfidf_vectors_test.pkl\", \"wb\") as fp:   #Pickling\n",
    "    pickle.dump(tfidf_vectors_test, fp)"
   ]
  },
  {
   "cell_type": "code",
   "execution_count": 5,
   "metadata": {},
   "outputs": [],
   "source": [
    "#unpickle the results\n",
    "with open(\"tfidf_vectors_test.pkl\", \"rb\") as fp:   # Unpickling\n",
    "    tfidf_vectors_test = pickle.load(fp)"
   ]
  },
  {
   "cell_type": "code",
   "execution_count": 43,
   "metadata": {},
   "outputs": [
    {
     "data": {
      "text/plain": [
       "34014"
      ]
     },
     "execution_count": 43,
     "metadata": {},
     "output_type": "execute_result"
    }
   ],
   "source": [
    "len(tfidf_vectorizer.vocabulary_)"
   ]
  },
  {
   "cell_type": "code",
   "execution_count": 44,
   "metadata": {},
   "outputs": [
    {
     "data": {
      "text/plain": [
       "(645561, 34014)"
      ]
     },
     "execution_count": 44,
     "metadata": {},
     "output_type": "execute_result"
    }
   ],
   "source": [
    "tfidf_vectors_train.shape"
   ]
  },
  {
   "cell_type": "code",
   "execution_count": 45,
   "metadata": {},
   "outputs": [
    {
     "data": {
      "text/plain": [
       "17193"
      ]
     },
     "execution_count": 45,
     "metadata": {},
     "output_type": "execute_result"
    }
   ],
   "source": [
    "#checking if some expected words are in our vocab to deterime if 20% is an OK cutoff for frequency\n",
    "tfidf_vectorizer.vocabulary_['isnt _pron_']"
   ]
  },
  {
   "cell_type": "code",
   "execution_count": 46,
   "metadata": {},
   "outputs": [
    {
     "data": {
      "text/html": [
       "<div>\n",
       "<style scoped>\n",
       "    .dataframe tbody tr th:only-of-type {\n",
       "        vertical-align: middle;\n",
       "    }\n",
       "\n",
       "    .dataframe tbody tr th {\n",
       "        vertical-align: top;\n",
       "    }\n",
       "\n",
       "    .dataframe thead th {\n",
       "        text-align: right;\n",
       "    }\n",
       "</style>\n",
       "<table border=\"1\" class=\"dataframe\">\n",
       "  <thead>\n",
       "    <tr style=\"text-align: right;\">\n",
       "      <th></th>\n",
       "      <th>idf_weights</th>\n",
       "    </tr>\n",
       "  </thead>\n",
       "  <tbody>\n",
       "    <tr>\n",
       "      <th>happen</th>\n",
       "      <td>2.618200</td>\n",
       "    </tr>\n",
       "    <tr>\n",
       "      <th>with _pron_</th>\n",
       "      <td>2.619733</td>\n",
       "    </tr>\n",
       "    <tr>\n",
       "      <th>read _pron_</th>\n",
       "      <td>2.640512</td>\n",
       "    </tr>\n",
       "    <tr>\n",
       "      <th>review</th>\n",
       "      <td>2.652715</td>\n",
       "    </tr>\n",
       "    <tr>\n",
       "      <th>peopl</th>\n",
       "      <td>2.654350</td>\n",
       "    </tr>\n",
       "    <tr>\n",
       "      <th>bit</th>\n",
       "      <td>2.658547</td>\n",
       "    </tr>\n",
       "    <tr>\n",
       "      <th>thought</th>\n",
       "      <td>2.661651</td>\n",
       "    </tr>\n",
       "    <tr>\n",
       "      <th>have be</th>\n",
       "      <td>2.666133</td>\n",
       "    </tr>\n",
       "    <tr>\n",
       "      <th>plot</th>\n",
       "      <td>2.666838</td>\n",
       "    </tr>\n",
       "    <tr>\n",
       "      <th>felt</th>\n",
       "      <td>2.667413</td>\n",
       "    </tr>\n",
       "    <tr>\n",
       "      <th>while</th>\n",
       "      <td>2.677625</td>\n",
       "    </tr>\n",
       "    <tr>\n",
       "      <th>find</th>\n",
       "      <td>2.680000</td>\n",
       "    </tr>\n",
       "    <tr>\n",
       "      <th>made</th>\n",
       "      <td>2.681414</td>\n",
       "    </tr>\n",
       "    <tr>\n",
       "      <th>seem</th>\n",
       "      <td>2.684715</td>\n",
       "    </tr>\n",
       "    <tr>\n",
       "      <th>_pron_ want</th>\n",
       "      <td>2.685617</td>\n",
       "    </tr>\n",
       "  </tbody>\n",
       "</table>\n",
       "</div>"
      ],
      "text/plain": [
       "             idf_weights\n",
       "happen          2.618200\n",
       "with _pron_     2.619733\n",
       "read _pron_     2.640512\n",
       "review          2.652715\n",
       "peopl           2.654350\n",
       "bit             2.658547\n",
       "thought         2.661651\n",
       "have be         2.666133\n",
       "plot            2.666838\n",
       "felt            2.667413\n",
       "while           2.677625\n",
       "find            2.680000\n",
       "made            2.681414\n",
       "seem            2.684715\n",
       "_pron_ want     2.685617"
      ]
     },
     "execution_count": 46,
     "metadata": {},
     "output_type": "execute_result"
    }
   ],
   "source": [
    "# print idf values\n",
    "df_idf = pd.DataFrame(tfidf_vectorizer.idf_, index=tfidf_vectorizer.get_feature_names(),columns=[\"idf_weights\"])\n",
    " \n",
    "# sort ascending\n",
    "df_idf.sort_values(by=['idf_weights']).iloc[:15]"
   ]
  },
  {
   "cell_type": "code",
   "execution_count": 47,
   "metadata": {},
   "outputs": [
    {
     "data": {
      "text/html": [
       "<div>\n",
       "<style scoped>\n",
       "    .dataframe tbody tr th:only-of-type {\n",
       "        vertical-align: middle;\n",
       "    }\n",
       "\n",
       "    .dataframe tbody tr th {\n",
       "        vertical-align: top;\n",
       "    }\n",
       "\n",
       "    .dataframe thead th {\n",
       "        text-align: right;\n",
       "    }\n",
       "</style>\n",
       "<table border=\"1\" class=\"dataframe\">\n",
       "  <thead>\n",
       "    <tr style=\"text-align: right;\">\n",
       "      <th></th>\n",
       "      <th>tfidf</th>\n",
       "    </tr>\n",
       "  </thead>\n",
       "  <tbody>\n",
       "    <tr>\n",
       "      <th>do take</th>\n",
       "      <td>0.183366</td>\n",
       "    </tr>\n",
       "    <tr>\n",
       "      <th>teen</th>\n",
       "      <td>0.182682</td>\n",
       "    </tr>\n",
       "    <tr>\n",
       "      <th>sure who</th>\n",
       "      <td>0.180712</td>\n",
       "    </tr>\n",
       "    <tr>\n",
       "      <th>feat</th>\n",
       "      <td>0.169914</td>\n",
       "    </tr>\n",
       "    <tr>\n",
       "      <th>loveh</th>\n",
       "      <td>0.165187</td>\n",
       "    </tr>\n",
       "    <tr>\n",
       "      <th>and experi</th>\n",
       "      <td>0.164603</td>\n",
       "    </tr>\n",
       "    <tr>\n",
       "      <th>adult</th>\n",
       "      <td>0.162848</td>\n",
       "    </tr>\n",
       "    <tr>\n",
       "      <th>book ill</th>\n",
       "      <td>0.162522</td>\n",
       "    </tr>\n",
       "    <tr>\n",
       "      <th>peer</th>\n",
       "      <td>0.162116</td>\n",
       "    </tr>\n",
       "    <tr>\n",
       "      <th>take time</th>\n",
       "      <td>0.162000</td>\n",
       "    </tr>\n",
       "    <tr>\n",
       "      <th>or do</th>\n",
       "      <td>0.160247</td>\n",
       "    </tr>\n",
       "    <tr>\n",
       "      <th>doesnt matter</th>\n",
       "      <td>0.159124</td>\n",
       "    </tr>\n",
       "    <tr>\n",
       "      <th>_pron_ anyon</th>\n",
       "      <td>0.153382</td>\n",
       "    </tr>\n",
       "    <tr>\n",
       "      <th>school</th>\n",
       "      <td>0.151714</td>\n",
       "    </tr>\n",
       "    <tr>\n",
       "      <th>age _pron_</th>\n",
       "      <td>0.151589</td>\n",
       "    </tr>\n",
       "  </tbody>\n",
       "</table>\n",
       "</div>"
      ],
      "text/plain": [
       "                  tfidf\n",
       "do take        0.183366\n",
       "teen           0.182682\n",
       "sure who       0.180712\n",
       "feat           0.169914\n",
       "loveh          0.165187\n",
       "and experi     0.164603\n",
       "adult          0.162848\n",
       "book ill       0.162522\n",
       "peer           0.162116\n",
       "take time      0.162000\n",
       "or do          0.160247\n",
       "doesnt matter  0.159124\n",
       "_pron_ anyon   0.153382\n",
       "school         0.151714\n",
       "age _pron_     0.151589"
      ]
     },
     "execution_count": 47,
     "metadata": {},
     "output_type": "execute_result"
    }
   ],
   "source": [
    "feature_names = tfidf_vectorizer.get_feature_names()\n",
    " \n",
    "#get tfidf vector for first document\n",
    "first_document_vector=tfidf_vectors_train[0]\n",
    " \n",
    "#print the scores\n",
    "df1 = pd.DataFrame(first_document_vector.T.todense(), index=feature_names, columns=[\"tfidf\"])\n",
    "df1.sort_values(by=[\"tfidf\"],ascending=False).head(15)"
   ]
  },
  {
   "cell_type": "code",
   "execution_count": 48,
   "metadata": {},
   "outputs": [],
   "source": [
    "del(df1)"
   ]
  },
  {
   "cell_type": "markdown",
   "metadata": {},
   "source": [
    "## Reducing Dimensionality of tfidf"
   ]
  },
  {
   "cell_type": "code",
   "execution_count": 49,
   "metadata": {},
   "outputs": [],
   "source": [
    "#using truncated SVD to reduce dimensionality further\n",
    "#truncated SVD can take sparse matricies which is important due to memory constraints\n",
    "from sklearn.decomposition import TruncatedSVD\n",
    "\n",
    "#sklearn recommends 100 components for LSA\n",
    "svd = TruncatedSVD(n_components=300, n_iter=10, random_state=87)"
   ]
  },
  {
   "cell_type": "markdown",
   "metadata": {},
   "source": [
    "**Be careful of calc time**"
   ]
  },
  {
   "cell_type": "code",
   "execution_count": 50,
   "metadata": {},
   "outputs": [],
   "source": [
    "SVD_train = svd.fit_transform(X = tfidf_vectors_train)"
   ]
  },
  {
   "cell_type": "code",
   "execution_count": 51,
   "metadata": {},
   "outputs": [],
   "source": [
    "#pickling the results\n",
    "with open(\"SVD_train.pkl\", \"wb\") as fp:   #Pickling\n",
    "    pickle.dump(SVD_train, fp)"
   ]
  },
  {
   "cell_type": "code",
   "execution_count": 5,
   "metadata": {},
   "outputs": [],
   "source": [
    "#unpickle the results\n",
    "with open(\"SVD_train.pkl\", \"rb\") as fp:   # Unpickling\n",
    "    SVD_train = pickle.load(fp)"
   ]
  },
  {
   "cell_type": "code",
   "execution_count": 52,
   "metadata": {},
   "outputs": [],
   "source": [
    "SVD_test = svd.transform(X = tfidf_vectors_test)"
   ]
  },
  {
   "cell_type": "code",
   "execution_count": 53,
   "metadata": {},
   "outputs": [],
   "source": [
    "#pickling the results\n",
    "with open(\"SVD_test.pkl\", \"wb\") as fp:   #Pickling\n",
    "    pickle.dump(SVD_test, fp)"
   ]
  },
  {
   "cell_type": "code",
   "execution_count": 6,
   "metadata": {},
   "outputs": [],
   "source": [
    "#unpickle the results\n",
    "with open(\"SVD_test.pkl\", \"rb\") as fp:   # Unpickling\n",
    "    SVD_test = pickle.load(fp)"
   ]
  },
  {
   "cell_type": "code",
   "execution_count": 54,
   "metadata": {},
   "outputs": [
    {
     "data": {
      "text/plain": [
       "numpy.ndarray"
      ]
     },
     "execution_count": 54,
     "metadata": {},
     "output_type": "execute_result"
    }
   ],
   "source": [
    "type(SVD_train)"
   ]
  },
  {
   "cell_type": "code",
   "execution_count": 55,
   "metadata": {},
   "outputs": [
    {
     "data": {
      "text/plain": [
       "(645561, 300)"
      ]
     },
     "execution_count": 55,
     "metadata": {},
     "output_type": "execute_result"
    }
   ],
   "source": [
    "SVD_train.shape"
   ]
  },
  {
   "cell_type": "code",
   "execution_count": 84,
   "metadata": {},
   "outputs": [],
   "source": [
    "#keeping memory cleared out\n",
    "del(X_train, X_test, tfidf_vectors_train, tfidf_vectors_test)"
   ]
  },
  {
   "cell_type": "markdown",
   "metadata": {},
   "source": [
    "## Modeling Sentiment with Basic NLP Techniques"
   ]
  },
  {
   "cell_type": "markdown",
   "metadata": {},
   "source": [
    "### Logistic Regression"
   ]
  },
  {
   "cell_type": "markdown",
   "metadata": {},
   "source": [
    "#### Count Vectorizer Tuning"
   ]
  },
  {
   "cell_type": "code",
   "execution_count": 27,
   "metadata": {},
   "outputs": [],
   "source": [
    "from sklearn.linear_model import LogisticRegressionCV\n",
    "count_cv = LogisticRegressionCV(Cs=[0.0001, 0.001, .01, .1, 1, 10, 100, 1000], penalty='l2', solver='lbfgs', max_iter=500, cv = 4, \n",
    "                          n_jobs=-1, verbose=1, random_state = 537)"
   ]
  },
  {
   "cell_type": "code",
   "execution_count": 28,
   "metadata": {},
   "outputs": [
    {
     "name": "stderr",
     "output_type": "stream",
     "text": [
      "[Parallel(n_jobs=-1)]: Using backend LokyBackend with 8 concurrent workers.\n",
      "[Parallel(n_jobs=-1)]: Done   4 out of   4 | elapsed: 81.7min remaining:    0.0s\n",
      "[Parallel(n_jobs=-1)]: Done   4 out of   4 | elapsed: 81.7min finished\n"
     ]
    }
   ],
   "source": [
    "count_logit_model = count_cv.fit(count_vectors_train, y_train)"
   ]
  },
  {
   "cell_type": "code",
   "execution_count": 29,
   "metadata": {},
   "outputs": [
    {
     "data": {
      "text/plain": [
       "{-1: array([[0.67180946, 0.72278504, 0.73416733, 0.72403666, 0.71508325,\n",
       "         0.71287123, 0.71280926, 0.71280307],\n",
       "        [0.670878  , 0.72171758, 0.73331681, 0.72467935, 0.71664911,\n",
       "         0.71493277, 0.71477787, 0.71477787],\n",
       "        [0.67062395, 0.72096165, 0.73223868, 0.72286387, 0.71519921,\n",
       "         0.71340232, 0.71328459, 0.713266  ],\n",
       "        [0.67172687, 0.72386145, 0.73494021, 0.72476609, 0.71685358,\n",
       "         0.71506909, 0.71478406, 0.71478406]]),\n",
       " 0: array([[0.67180946, 0.72278504, 0.73416733, 0.72403666, 0.71508325,\n",
       "         0.71287123, 0.71280926, 0.71280307],\n",
       "        [0.670878  , 0.72171758, 0.73331681, 0.72467935, 0.71664911,\n",
       "         0.71493277, 0.71477787, 0.71477787],\n",
       "        [0.67062395, 0.72096165, 0.73223868, 0.72286387, 0.71519921,\n",
       "         0.71340232, 0.71328459, 0.713266  ],\n",
       "        [0.67172687, 0.72386145, 0.73494021, 0.72476609, 0.71685358,\n",
       "         0.71506909, 0.71478406, 0.71478406]]),\n",
       " 1: array([[0.67180946, 0.72278504, 0.73416733, 0.72403666, 0.71508325,\n",
       "         0.71287123, 0.71280926, 0.71280307],\n",
       "        [0.670878  , 0.72171758, 0.73331681, 0.72467935, 0.71664911,\n",
       "         0.71493277, 0.71477787, 0.71477787],\n",
       "        [0.67062395, 0.72096165, 0.73223868, 0.72286387, 0.71519921,\n",
       "         0.71340232, 0.71328459, 0.713266  ],\n",
       "        [0.67172687, 0.72386145, 0.73494021, 0.72476609, 0.71685358,\n",
       "         0.71506909, 0.71478406, 0.71478406]])}"
      ]
     },
     "execution_count": 29,
     "metadata": {},
     "output_type": "execute_result"
    }
   ],
   "source": [
    "count_logit_model.scores_"
   ]
  },
  {
   "cell_type": "markdown",
   "metadata": {},
   "source": [
    "Looks like C = 0.01 is the best"
   ]
  },
  {
   "cell_type": "code",
   "execution_count": 31,
   "metadata": {},
   "outputs": [],
   "source": [
    "from sklearn.linear_model import LogisticRegression\n",
    "\n",
    "count_log_reg = LogisticRegression(verbose=1, solver='lbfgs', random_state=357, C=0.01, penalty='l2', max_iter=500, n_jobs = -1)"
   ]
  },
  {
   "cell_type": "code",
   "execution_count": 32,
   "metadata": {},
   "outputs": [
    {
     "name": "stderr",
     "output_type": "stream",
     "text": [
      "[Parallel(n_jobs=-1)]: Using backend LokyBackend with 8 concurrent workers.\n",
      "[Parallel(n_jobs=-1)]: Done   1 out of   1 | elapsed:  6.5min finished\n"
     ]
    }
   ],
   "source": [
    "#only using count vector features\n",
    "model = count_log_reg.fit(count_vectors_train, y_train)"
   ]
  },
  {
   "cell_type": "code",
   "execution_count": 33,
   "metadata": {},
   "outputs": [
    {
     "name": "stdout",
     "output_type": "stream",
     "text": [
      "Accuracy Score:     0.7356\n",
      "       F-score:     0.7300\n",
      "      Log Loss:     0.6251\n"
     ]
    }
   ],
   "source": [
    "from sklearn.metrics import accuracy_score, f1_score, log_loss\n",
    "# Actual class predictions\n",
    "count_preds = model.predict(count_vectors_test)\n",
    "# Probabilities for each class\n",
    "count_probs = model.predict_proba(count_vectors_test)[:,]\n",
    "\n",
    "count_accuracy_score = accuracy_score(y_test, count_preds)\n",
    "count_f1_value = f1_score(y_test, count_preds, average ='weighted')\n",
    "count_log_loss_value = log_loss(y_test, base_probs, normalize=True)\n",
    "print(\"Accuracy Score:     {:0.4f}\".format(count_accuracy_score))\n",
    "print(\"       F-score:     {:0.4f}\".format(count_f1_value))\n",
    "print(\"      Log Loss:     {:0.4f}\".format(count_log_loss_value))"
   ]
  },
  {
   "cell_type": "code",
   "execution_count": 35,
   "metadata": {},
   "outputs": [
    {
     "data": {
      "image/png": "[encoded data removed]",
      "text/plain": [
       "<Figure size 576x396 with 1 Axes>"
      ]
     },
     "metadata": {},
     "output_type": "display_data"
    },
    {
     "data": {
      "text/plain": [
       "<matplotlib.axes._subplots.AxesSubplot at 0x22fc37df908>"
      ]
     },
     "execution_count": 35,
     "metadata": {},
     "output_type": "execute_result"
    }
   ],
   "source": [
    "#logit confusion matrix\n",
    "from yellowbrick.classifier import ConfusionMatrix\n",
    "\n",
    "knn_cm = ConfusionMatrix(model)\n",
    "\n",
    "knn_cm.fit(count_vectors_train, y_train)\n",
    "knn_cm.score(count_vectors_test, y_test)\n",
    "\n",
    "knn_cm.show()"
   ]
  },
  {
   "cell_type": "code",
   "execution_count": 36,
   "metadata": {},
   "outputs": [
    {
     "data": {
      "image/png": "[encoded data removed]",
      "text/plain": [
       "<Figure size 576x396 with 2 Axes>"
      ]
     },
     "metadata": {},
     "output_type": "display_data"
    },
    {
     "data": {
      "text/plain": [
       "<matplotlib.axes._subplots.AxesSubplot at 0x22fca467f98>"
      ]
     },
     "execution_count": 36,
     "metadata": {},
     "output_type": "execute_result"
    }
   ],
   "source": [
    "from yellowbrick.classifier import ClassificationReport\n",
    "visualizer = ClassificationReport(model, support=True)\n",
    "\n",
    "visualizer.fit(count_vectors_train, y_train)        # Fit the visualizer and the model\n",
    "visualizer.score(count_vectors_test, y_test)        # Evaluate the model on the test data\n",
    "visualizer.show()"
   ]
  },
  {
   "cell_type": "markdown",
   "metadata": {},
   "source": [
    "#### Tfidf Features Tuning"
   ]
  },
  {
   "cell_type": "code",
   "execution_count": 56,
   "metadata": {},
   "outputs": [],
   "source": [
    "from sklearn.linear_model import LogisticRegressionCV\n",
    "tfidf_cv = LogisticRegressionCV(Cs=[0.0001, 0.001, .01, .1, 1, 10, 100, 1000], penalty='l2', solver='lbfgs', max_iter=500, cv = 4, \n",
    "                          n_jobs=4, verbose=1, random_state = 53)"
   ]
  },
  {
   "cell_type": "code",
   "execution_count": 57,
   "metadata": {},
   "outputs": [
    {
     "name": "stderr",
     "output_type": "stream",
     "text": [
      "[Parallel(n_jobs=4)]: Using backend LokyBackend with 4 concurrent workers.\n",
      "[Parallel(n_jobs=4)]: Done   2 out of   4 | elapsed: 116.5min remaining: 116.5min\n",
      "[Parallel(n_jobs=4)]: Done   4 out of   4 | elapsed: 117.3min finished\n"
     ]
    }
   ],
   "source": [
    "tfidf_logit_model = tfidf_cv.fit(tfidf_vectors_train, y_train)"
   ]
  },
  {
   "cell_type": "code",
   "execution_count": 58,
   "metadata": {},
   "outputs": [
    {
     "data": {
      "text/plain": [
       "{-1: array([[0.50020137, 0.5094522 , 0.67535984, 0.73440898, 0.74058653,\n",
       "         0.72795881, 0.72233892, 0.72087663],\n",
       "        [0.50020447, 0.51006878, 0.67436025, 0.73341595, 0.73978561,\n",
       "         0.72796951, 0.72176715, 0.7208749 ],\n",
       "        [0.50019828, 0.51018031, 0.67488072, 0.73401078, 0.73918458,\n",
       "         0.72716401, 0.72105459, 0.71972861],\n",
       "        [0.50019828, 0.50962885, 0.67756986, 0.73541112, 0.74101865,\n",
       "         0.72858294, 0.72260983, 0.7220026 ]]),\n",
       " 0: array([[0.50020137, 0.5094522 , 0.67535984, 0.73440898, 0.74058653,\n",
       "         0.72795881, 0.72233892, 0.72087663],\n",
       "        [0.50020447, 0.51006878, 0.67436025, 0.73341595, 0.73978561,\n",
       "         0.72796951, 0.72176715, 0.7208749 ],\n",
       "        [0.50019828, 0.51018031, 0.67488072, 0.73401078, 0.73918458,\n",
       "         0.72716401, 0.72105459, 0.71972861],\n",
       "        [0.50019828, 0.50962885, 0.67756986, 0.73541112, 0.74101865,\n",
       "         0.72858294, 0.72260983, 0.7220026 ]]),\n",
       " 1: array([[0.50020137, 0.5094522 , 0.67535984, 0.73440898, 0.74058653,\n",
       "         0.72795881, 0.72233892, 0.72087663],\n",
       "        [0.50020447, 0.51006878, 0.67436025, 0.73341595, 0.73978561,\n",
       "         0.72796951, 0.72176715, 0.7208749 ],\n",
       "        [0.50019828, 0.51018031, 0.67488072, 0.73401078, 0.73918458,\n",
       "         0.72716401, 0.72105459, 0.71972861],\n",
       "        [0.50019828, 0.50962885, 0.67756986, 0.73541112, 0.74101865,\n",
       "         0.72858294, 0.72260983, 0.7220026 ]])}"
      ]
     },
     "execution_count": 58,
     "metadata": {},
     "output_type": "execute_result"
    }
   ],
   "source": [
    "tfidf_logit_model.scores_"
   ]
  },
  {
   "cell_type": "markdown",
   "metadata": {},
   "source": [
    "It appears as though C = 1 is well tuned."
   ]
  },
  {
   "cell_type": "code",
   "execution_count": 60,
   "metadata": {},
   "outputs": [],
   "source": [
    "from sklearn.linear_model import LogisticRegression\n",
    "\n",
    "tfidf_log_reg = LogisticRegression(verbose=1, solver='lbfgs', random_state=357, C=1, penalty='l2', max_iter=500, n_jobs = -1)"
   ]
  },
  {
   "cell_type": "code",
   "execution_count": 61,
   "metadata": {},
   "outputs": [
    {
     "name": "stderr",
     "output_type": "stream",
     "text": [
      "[Parallel(n_jobs=-1)]: Using backend LokyBackend with 8 concurrent workers.\n",
      "[Parallel(n_jobs=-1)]: Done   1 out of   1 | elapsed: 10.0min finished\n"
     ]
    }
   ],
   "source": [
    "#only using tfidf vector features\n",
    "model = tfidf_log_reg.fit(tfidf_vectors_train, y_train)"
   ]
  },
  {
   "cell_type": "code",
   "execution_count": 62,
   "metadata": {},
   "outputs": [
    {
     "name": "stdout",
     "output_type": "stream",
     "text": [
      "Accuracy Score:     0.7412\n",
      "       F-score:     0.7378\n",
      "      Log Loss:     0.5889\n"
     ]
    }
   ],
   "source": [
    "from sklearn.metrics import accuracy_score, f1_score, log_loss\n",
    "# Actual class predictions\n",
    "tfidf_preds = model.predict(tfidf_vectors_test)\n",
    "# Probabilities for each class\n",
    "tfidf_probs = model.predict_proba(tfidf_vectors_test)[:,]\n",
    "\n",
    "tfidf_accuracy_score = accuracy_score(y_test, tfidf_preds)\n",
    "tfidf_f1_value = f1_score(y_test, tfidf_preds, average ='weighted')\n",
    "tfidf_log_loss_value = log_loss(y_test, tfidf_probs, normalize=True)\n",
    "print(\"Accuracy Score:     {:0.4f}\".format(tfidf_accuracy_score))\n",
    "print(\"       F-score:     {:0.4f}\".format(tfidf_f1_value))\n",
    "print(\"      Log Loss:     {:0.4f}\".format(tfidf_log_loss_value))"
   ]
  },
  {
   "cell_type": "code",
   "execution_count": 63,
   "metadata": {},
   "outputs": [
    {
     "data": {
      "image/png": "[encoded data removed]",
      "text/plain": [
       "<Figure size 576x396 with 1 Axes>"
      ]
     },
     "metadata": {},
     "output_type": "display_data"
    },
    {
     "data": {
      "text/plain": [
       "<matplotlib.axes._subplots.AxesSubplot at 0x23057afe358>"
      ]
     },
     "execution_count": 63,
     "metadata": {},
     "output_type": "execute_result"
    }
   ],
   "source": [
    "#logit confusion matrix\n",
    "from yellowbrick.classifier import ConfusionMatrix\n",
    "\n",
    "knn_cm = ConfusionMatrix(model)\n",
    "\n",
    "knn_cm.fit(tfidf_vectors_train, y_train)\n",
    "knn_cm.score(tfidf_vectors_test, y_test)\n",
    "\n",
    "knn_cm.show()"
   ]
  },
  {
   "cell_type": "code",
   "execution_count": 65,
   "metadata": {},
   "outputs": [
    {
     "data": {
      "image/png": "[encoded data removed]",
      "text/plain": [
       "<Figure size 576x396 with 2 Axes>"
      ]
     },
     "metadata": {},
     "output_type": "display_data"
    },
    {
     "data": {
      "text/plain": [
       "<matplotlib.axes._subplots.AxesSubplot at 0x23057b8aa58>"
      ]
     },
     "execution_count": 65,
     "metadata": {},
     "output_type": "execute_result"
    }
   ],
   "source": [
    "from yellowbrick.classifier import ClassificationReport\n",
    "visualizer = ClassificationReport(model, support=True)\n",
    "\n",
    "visualizer.fit(tfidf_vectors_train, y_train)        # Fit the visualizer and the model\n",
    "visualizer.score(tfidf_vectors_test, y_test)        # Evaluate the model on the test data\n",
    "visualizer.show()"
   ]
  },
  {
   "cell_type": "markdown",
   "metadata": {},
   "source": [
    "#### SVD Tuning"
   ]
  },
  {
   "cell_type": "code",
   "execution_count": 66,
   "metadata": {},
   "outputs": [],
   "source": [
    "from sklearn.linear_model import LogisticRegressionCV\n",
    "svd_cv = LogisticRegressionCV(Cs=[0.0001, 0.001, .01, .1, 1, 10, 100, 1000], penalty='l2', solver='lbfgs', max_iter=500, cv = 4, \n",
    "                          n_jobs=-1, verbose=1, random_state = 53)"
   ]
  },
  {
   "cell_type": "code",
   "execution_count": 67,
   "metadata": {},
   "outputs": [
    {
     "name": "stderr",
     "output_type": "stream",
     "text": [
      "[Parallel(n_jobs=-1)]: Using backend LokyBackend with 8 concurrent workers.\n",
      "[Parallel(n_jobs=-1)]: Done   4 out of   4 | elapsed: 29.5min finished\n",
      "[Parallel(n_jobs=-1)]: Done   4 out of   4 | elapsed: 29.5min remaining:    0.0s\n"
     ]
    }
   ],
   "source": [
    "model = svd_cv.fit(SVD_train, y_train)"
   ]
  },
  {
   "cell_type": "code",
   "execution_count": 70,
   "metadata": {},
   "outputs": [
    {
     "data": {
      "text/plain": [
       "{-1: array([[0.50020137, 0.50935306, 0.65639968, 0.6951317 , 0.69829792,\n",
       "         0.69876263, 0.69868828, 0.69868828],\n",
       "        [0.50020447, 0.50991387, 0.65612491, 0.69538385, 0.69845096,\n",
       "         0.69858727, 0.69868022, 0.69866782],\n",
       "        [0.50019828, 0.50977756, 0.65622405, 0.69461553, 0.69712498,\n",
       "         0.69730467, 0.69742859, 0.69743479],\n",
       "        [0.50019828, 0.5093872 , 0.65904951, 0.69795526, 0.70068158,\n",
       "         0.70143132, 0.70138175, 0.70138175]]),\n",
       " 0: array([[0.50020137, 0.50935306, 0.65639968, 0.6951317 , 0.69829792,\n",
       "         0.69876263, 0.69868828, 0.69868828],\n",
       "        [0.50020447, 0.50991387, 0.65612491, 0.69538385, 0.69845096,\n",
       "         0.69858727, 0.69868022, 0.69866782],\n",
       "        [0.50019828, 0.50977756, 0.65622405, 0.69461553, 0.69712498,\n",
       "         0.69730467, 0.69742859, 0.69743479],\n",
       "        [0.50019828, 0.5093872 , 0.65904951, 0.69795526, 0.70068158,\n",
       "         0.70143132, 0.70138175, 0.70138175]]),\n",
       " 1: array([[0.50020137, 0.50935306, 0.65639968, 0.6951317 , 0.69829792,\n",
       "         0.69876263, 0.69868828, 0.69868828],\n",
       "        [0.50020447, 0.50991387, 0.65612491, 0.69538385, 0.69845096,\n",
       "         0.69858727, 0.69868022, 0.69866782],\n",
       "        [0.50019828, 0.50977756, 0.65622405, 0.69461553, 0.69712498,\n",
       "         0.69730467, 0.69742859, 0.69743479],\n",
       "        [0.50019828, 0.5093872 , 0.65904951, 0.69795526, 0.70068158,\n",
       "         0.70143132, 0.70138175, 0.70138175]])}"
      ]
     },
     "execution_count": 70,
     "metadata": {},
     "output_type": "execute_result"
    }
   ],
   "source": [
    "model.scores_"
   ]
  },
  {
   "cell_type": "markdown",
   "metadata": {},
   "source": [
    "The best C = 1000."
   ]
  },
  {
   "cell_type": "code",
   "execution_count": 71,
   "metadata": {},
   "outputs": [
    {
     "name": "stderr",
     "output_type": "stream",
     "text": [
      "[Parallel(n_jobs=-1)]: Using backend LokyBackend with 8 concurrent workers.\n",
      "[Parallel(n_jobs=-1)]: Done   1 out of   1 | elapsed: 19.2min finished\n"
     ]
    }
   ],
   "source": [
    "#best C was 1000\n",
    "svd_log_reg = LogisticRegression(verbose=1, solver='lbfgs', random_state=53, C=1000, penalty='l2', max_iter=500, n_jobs = -1)\n",
    "model = svd_log_reg.fit(SVD_train, y_train)"
   ]
  },
  {
   "cell_type": "code",
   "execution_count": 72,
   "metadata": {},
   "outputs": [
    {
     "name": "stdout",
     "output_type": "stream",
     "text": [
      "Accuracy Score:     0.7001\n",
      "       F-score:     0.6947\n",
      "      Log Loss:     0.6700\n"
     ]
    }
   ],
   "source": [
    "from sklearn.metrics import accuracy_score, f1_score, log_loss\n",
    "# Actual class predictions\n",
    "base_preds = model.predict(SVD_test)\n",
    "# Probabilities for each class\n",
    "base_probs = model.predict_proba(SVD_test)[:,]\n",
    "\n",
    "base_accuracy_score = accuracy_score(y_test, base_preds)\n",
    "base_f1_value = f1_score(y_test, base_preds, average ='weighted')\n",
    "base_log_loss_value = log_loss(y_test, base_probs, normalize=True)\n",
    "print(\"Accuracy Score:     {:0.4f}\".format(base_accuracy_score))\n",
    "print(\"       F-score:     {:0.4f}\".format(base_f1_value))\n",
    "print(\"      Log Loss:     {:0.4f}\".format(base_log_loss_value))"
   ]
  },
  {
   "cell_type": "code",
   "execution_count": 73,
   "metadata": {},
   "outputs": [
    {
     "data": {
      "image/png": "[encoded data removed]",
      "text/plain": [
       "<Figure size 576x396 with 1 Axes>"
      ]
     },
     "metadata": {},
     "output_type": "display_data"
    },
    {
     "data": {
      "text/plain": [
       "<matplotlib.axes._subplots.AxesSubplot at 0x23038e2b5c0>"
      ]
     },
     "execution_count": 73,
     "metadata": {},
     "output_type": "execute_result"
    }
   ],
   "source": [
    "#logit confusion matrix\n",
    "from yellowbrick.classifier import ConfusionMatrix\n",
    "\n",
    "knn_cm = ConfusionMatrix(model)\n",
    "\n",
    "knn_cm.fit(SVD_train, y_train)\n",
    "knn_cm.score(SVD_test, y_test)\n",
    "\n",
    "knn_cm.show()"
   ]
  },
  {
   "cell_type": "code",
   "execution_count": 74,
   "metadata": {},
   "outputs": [
    {
     "data": {
      "image/png": "[encoded data removed]",
      "text/plain": [
       "<Figure size 576x396 with 2 Axes>"
      ]
     },
     "metadata": {},
     "output_type": "display_data"
    },
    {
     "data": {
      "text/plain": [
       "<matplotlib.axes._subplots.AxesSubplot at 0x2303036a0f0>"
      ]
     },
     "execution_count": 74,
     "metadata": {},
     "output_type": "execute_result"
    }
   ],
   "source": [
    "from yellowbrick.classifier import ClassificationReport\n",
    "visualizer = ClassificationReport(model, support=True)\n",
    "\n",
    "visualizer.fit(SVD_train, y_train)        # Fit the visualizer and the model\n",
    "visualizer.score(SVD_test, y_test)        # Evaluate the model on the test data\n",
    "visualizer.show()\n",
    "\n"
   ]
  },
  {
   "cell_type": "markdown",
   "metadata": {},
   "source": [
    "## Doc2Vec with Simple Preprocess"
   ]
  },
  {
   "cell_type": "code",
   "execution_count": 18,
   "metadata": {},
   "outputs": [],
   "source": [
    "#downloaded pretrained googlenews vectors https://bit.ly/GoogleNews-vectors-negative300 \n",
    "#from gensim.models.keyedvectors import KeyedVectors\n",
    "#word_vectors = KeyedVectors.load_word2vec_format('./pretrained/GoogleNews-vectors-negative300.bin.gz', binary=True)"
   ]
  },
  {
   "cell_type": "code",
   "execution_count": 9,
   "metadata": {},
   "outputs": [],
   "source": [
    "import multiprocessing\n",
    "\n",
    "num_cores = multiprocessing.cpu_count()"
   ]
  },
  {
   "cell_type": "code",
   "execution_count": 10,
   "metadata": {},
   "outputs": [],
   "source": [
    "#importing necessary modules for Doc2Vec\n",
    "from gensim.models.doc2vec import TaggedDocument, Doc2Vec  \n",
    "from gensim.utils import simple_preprocess"
   ]
  },
  {
   "cell_type": "markdown",
   "metadata": {},
   "source": [
    "### Preprocessing and Tokenizing Text"
   ]
  },
  {
   "cell_type": "markdown",
   "metadata": {},
   "source": [
    "**Note: the text has not been preprocessed or split** "
   ]
  },
  {
   "cell_type": "code",
   "execution_count": null,
   "metadata": {},
   "outputs": [],
   "source": [
    "#preprocessing and tokenizing words\n",
    "df.review_text = [simple_preprocess(text) for text in df.review_text]"
   ]
  },
  {
   "cell_type": "code",
   "execution_count": 21,
   "metadata": {},
   "outputs": [
    {
     "data": {
      "text/plain": [
       "['fun',\n",
       " 'fast',\n",
       " 'paced',\n",
       " 'science',\n",
       " 'fiction',\n",
       " 'thriller',\n",
       " 'read',\n",
       " 'it',\n",
       " 'in',\n",
       " 'nights',\n",
       " 'and',\n",
       " 'couldn',\n",
       " 'put',\n",
       " 'it',\n",
       " 'down',\n",
       " 'the',\n",
       " 'book',\n",
       " 'is',\n",
       " 'about',\n",
       " 'the']"
      ]
     },
     "execution_count": 21,
     "metadata": {},
     "output_type": "execute_result"
    }
   ],
   "source": [
    "df.review_text[0][0:20]"
   ]
  },
  {
   "cell_type": "code",
   "execution_count": null,
   "metadata": {},
   "outputs": [],
   "source": [
    "#pickling the results\n",
    "with open(\"simple_preprocess.txt\", \"wb\") as fp:   #Pickling\n",
    "    pickle.dump(list(df.review_text), fp)"
   ]
  },
  {
   "cell_type": "code",
   "execution_count": 48,
   "metadata": {},
   "outputs": [
    {
     "data": {
      "text/plain": [
       "['fun',\n",
       " 'fast',\n",
       " 'paced',\n",
       " 'science',\n",
       " 'fiction',\n",
       " 'thriller',\n",
       " 'read',\n",
       " 'it',\n",
       " 'in',\n",
       " 'nights',\n",
       " 'and',\n",
       " 'couldn',\n",
       " 'put',\n",
       " 'it',\n",
       " 'down',\n",
       " 'the',\n",
       " 'book',\n",
       " 'is',\n",
       " 'about',\n",
       " 'the']"
      ]
     },
     "execution_count": 48,
     "metadata": {},
     "output_type": "execute_result"
    }
   ],
   "source": [
    "#unpickle the results\n",
    "with open(\"simple_preprocess.txt\", \"rb\") as fp:   # Unpickling\n",
    "    review_text = np.array(pickle.load(fp))\n",
    "\n",
    "review_text[0][0:20]"
   ]
  },
  {
   "cell_type": "code",
   "execution_count": 22,
   "metadata": {},
   "outputs": [],
   "source": [
    "#pickling the results\n",
    "with open(\"rating.pkl\", \"wb\") as fp:   #Pickling\n",
    "    pickle.dump(list(df.rating), fp)"
   ]
  },
  {
   "cell_type": "code",
   "execution_count": 49,
   "metadata": {},
   "outputs": [
    {
     "data": {
      "text/plain": [
       "0"
      ]
     },
     "execution_count": 49,
     "metadata": {},
     "output_type": "execute_result"
    }
   ],
   "source": [
    "#unpickle the results\n",
    "with open(\"rating.pkl\", \"rb\") as fp:   # Unpickling\n",
    "    rating = np.array(pickle.load(fp))\n",
    "\n",
    "rating[0]"
   ]
  },
  {
   "cell_type": "code",
   "execution_count": 50,
   "metadata": {},
   "outputs": [
    {
     "name": "stdout",
     "output_type": "stream",
     "text": [
      "(645561,) (645561,)\n",
      "(161391,) (161391,)\n"
     ]
    }
   ],
   "source": [
    "from sklearn.model_selection import train_test_split\n",
    "\n",
    "X_train, X_test, y_train, y_test = train_test_split(review_text, rating, test_size=0.20, random_state = 43)\n",
    "print(X_train.shape, y_train.shape)\n",
    "print(X_test.shape, y_test.shape)"
   ]
  },
  {
   "cell_type": "code",
   "execution_count": 51,
   "metadata": {},
   "outputs": [],
   "source": [
    "#clearing out memory before continuing\n",
    "del(review_text, rating)"
   ]
  },
  {
   "cell_type": "markdown",
   "metadata": {},
   "source": [
    "### Creating Corpus"
   ]
  },
  {
   "cell_type": "code",
   "execution_count": 10,
   "metadata": {},
   "outputs": [],
   "source": [
    "#creating TaggedDocuments for the training corpus\n",
    "training_corpus = np.empty(len(X_train), dtype=object)\n",
    "\n",
    "for i, text in enumerate(X_train):\n",
    "    tagged_doc = TaggedDocument(text, [i])\n",
    "    training_corpus[i] = tagged_doc"
   ]
  },
  {
   "cell_type": "code",
   "execution_count": 11,
   "metadata": {},
   "outputs": [
    {
     "data": {
      "text/plain": [
       "TaggedDocument(words=['not', 'sure', 'who', 'would', 'recommend', 'this', 'book', 'to', 'teens', 'or', 'adults', 'the', 'author', 'performs', 'such', 'an', 'amazing', 'feat', 'of', 'capturing', 'high', 'school', 'that', 'several', 'times', 'was', 'catapulted', 'back', 'into', 'my', 'own', 'school', 'crazy', 'trip', 'for', 'any', 'adult', 'when', 'teen', 'finishes', 'this', 'book', 'will', 'they', 'be', 'able', 'to', 'look', 'at', 'their', 'peers', 'differently', 'and', 'see', 'life', 'behind', 'appearances', 'or', 'does', 'that', 'take', 'time', 'and', 'experience', 'which', 'typically', 'comes', 'with', 'age', 'guess', 'either', 'way', 'it', 'doesn', 'matter', 'it', 'such', 'good', 'love', 'hate', 'book', 'll', 'recommend', 'it', 'to', 'anyone'], tags=[0])"
      ]
     },
     "execution_count": 11,
     "metadata": {},
     "output_type": "execute_result"
    }
   ],
   "source": [
    "training_corpus[0]"
   ]
  },
  {
   "cell_type": "code",
   "execution_count": 13,
   "metadata": {},
   "outputs": [],
   "source": [
    "#pickling the results\n",
    "with open(\"training_corpus.pkl\", \"wb\") as fp:   #Pickling\n",
    "    pickle.dump(training_corpus, fp)"
   ]
  },
  {
   "cell_type": "code",
   "execution_count": null,
   "metadata": {},
   "outputs": [],
   "source": [
    "#unpickle the results\n",
    "with open(\"training_corpus.pkl\", \"rb\") as fp:   # Unpickling\n",
    "    training_corpus = pickle.load(fp)"
   ]
  },
  {
   "cell_type": "code",
   "execution_count": 20,
   "metadata": {},
   "outputs": [
    {
     "data": {
      "text/plain": [
       "TaggedDocument(words=['https', 'wordpress', 'beware', 'of', 'spoilers', 'star', 'ratings', 'heroine', 'lainey', 'hero', 'brogan', 'plot', 'grovel', 'hero', 'apologises', 'cheating', 'none', 'hea', 'yes', 'triggers', 'none', 'average', 'score', 'best', 'line', 'anyone', 'who', 'got', 'in', 'the', 'way', 'of', 'girl', 'and', 'her', 'books', 'deserved', 'to', 'be', 'dumped', 'right', 'there', 'on', 'the', 'spot', 'worst', 'line', 'sorry', 'mom', 'failed', 'you', 'personal', 'review', 'this', 'was', 'good', 'old', 'school', 'office', 'romance', 'the', 'heroine', 'was', 'awkward', 'and', 'the', 'hero', 'was', 'the', 'typical', 'brooding', 'type', 'what', 'increased', 'the', 'rating', 'for', 'me', 'was', 'the', 'heroes', 'grovel', 'and', 'the', 'heroines', 'self', 'respect', 'random', 'ramblings', 'so', 'many', 'awkward', 'cringe', 'moments', 'don', 'have', 'much', 'patience', 'for', 'heroes', 'who', 'blow', 'hot', 'and', 'cold', 'loved', 'that', 'the', 'heroine', 'did', 'not', 'give', 'in', 'after', 'his', 'first', 'apology', 'overall', 'feeling', 'surprisingly', 'good', 'image', 'error'], tags=[196])"
      ]
     },
     "execution_count": 20,
     "metadata": {},
     "output_type": "execute_result"
    }
   ],
   "source": [
    "training_corpus[196]"
   ]
  },
  {
   "cell_type": "markdown",
   "metadata": {},
   "source": [
    "### Doc2Vec - Distributed Memory (DM) Modeling (Simple Preprocess)"
   ]
  },
  {
   "cell_type": "markdown",
   "metadata": {},
   "source": [
    "**DO NOT RERUN - CALC TIME**"
   ]
  },
  {
   "cell_type": "code",
   "execution_count": 25,
   "metadata": {},
   "outputs": [
    {
     "name": "stdout",
     "output_type": "stream",
     "text": [
      "645561\n"
     ]
    }
   ],
   "source": [
    "#creating the model PV-DM w/ default averaging; a higher starting alpha may improve CBOW/PV-DM modes\n",
    "model_dmm = Doc2Vec(dm=1, size=200, min_count=150, window = 4, workers=num_cores, epochs=12, \n",
    "                    alpha=0.05, negative = 3, comment='alpha=0.05')\n",
    "#building vocab from training_corpus\n",
    "model_dmm.build_vocab(training_corpus)\n",
    "\n",
    "print(model_dmm.corpus_count)"
   ]
  },
  {
   "cell_type": "code",
   "execution_count": 26,
   "metadata": {},
   "outputs": [],
   "source": [
    "#training model\n",
    "model_dmm.train(training_corpus, total_examples=model_dmm.corpus_count, epochs=model_dmm.epochs)"
   ]
  },
  {
   "cell_type": "code",
   "execution_count": 27,
   "metadata": {},
   "outputs": [],
   "source": [
    "#removing training corpus from memory to speed things up\n",
    "del(training_corpus)"
   ]
  },
  {
   "cell_type": "code",
   "execution_count": 28,
   "metadata": {},
   "outputs": [],
   "source": [
    "#saving model to disk\n",
    "from gensim.test.utils import get_tmpfile\n",
    "fname = get_tmpfile(\"model_dmm\")\n",
    "model_dmm.save(fname)"
   ]
  },
  {
   "cell_type": "code",
   "execution_count": 6,
   "metadata": {},
   "outputs": [],
   "source": [
    "#loading model from disk\n",
    "from gensim.test.utils import get_tmpfile\n",
    "fname = get_tmpfile(\"model_dmm\")\n",
    "model_dmm = Doc2Vec.load(fname)"
   ]
  },
  {
   "cell_type": "code",
   "execution_count": 29,
   "metadata": {},
   "outputs": [],
   "source": [
    "#clearing parts of model from memory once training is finished\n",
    "model_dmm.delete_temporary_training_data(keep_doctags_vectors=True, keep_inference=True)"
   ]
  },
  {
   "cell_type": "code",
   "execution_count": 30,
   "metadata": {},
   "outputs": [
    {
     "data": {
      "text/plain": [
       "19476"
      ]
     },
     "execution_count": 30,
     "metadata": {},
     "output_type": "execute_result"
    }
   ],
   "source": [
    "len(model_dmm.wv.vocab)"
   ]
  },
  {
   "cell_type": "markdown",
   "metadata": {},
   "source": [
    "### Vector Inference using Doc2Vec DM Model (Simple Preprocess)"
   ]
  },
  {
   "cell_type": "code",
   "execution_count": 31,
   "metadata": {},
   "outputs": [],
   "source": [
    "#create model_dmm vector from the model for X_train\n",
    "model_dmm_train = [model_dmm.infer_vector(text) for text in X_train]"
   ]
  },
  {
   "cell_type": "code",
   "execution_count": 32,
   "metadata": {},
   "outputs": [],
   "source": [
    "del(X_train)"
   ]
  },
  {
   "cell_type": "code",
   "execution_count": 33,
   "metadata": {},
   "outputs": [],
   "source": [
    "#create model_dmm vector from the model for X_test\n",
    "model_dmm_test = [model_dmm.infer_vector(text) for text in X_test]"
   ]
  },
  {
   "cell_type": "code",
   "execution_count": 34,
   "metadata": {},
   "outputs": [],
   "source": [
    "del(X_test)"
   ]
  },
  {
   "cell_type": "code",
   "execution_count": 35,
   "metadata": {},
   "outputs": [
    {
     "data": {
      "text/plain": [
       "list"
      ]
     },
     "execution_count": 35,
     "metadata": {},
     "output_type": "execute_result"
    }
   ],
   "source": [
    "type(model_dmm_train)"
   ]
  },
  {
   "cell_type": "code",
   "execution_count": 36,
   "metadata": {},
   "outputs": [
    {
     "data": {
      "text/plain": [
       "array([-0.23266806, -0.40198934,  0.12266076,  0.01008816, -0.49503666,\n",
       "       -0.402639  , -0.8527441 , -0.17340142,  0.36297685,  0.5966735 ],\n",
       "      dtype=float32)"
      ]
     },
     "execution_count": 36,
     "metadata": {},
     "output_type": "execute_result"
    }
   ],
   "source": [
    "model_dmm_train[0][0:10]"
   ]
  },
  {
   "cell_type": "code",
   "execution_count": 37,
   "metadata": {},
   "outputs": [],
   "source": [
    "#pickling the model_dmm vector\n",
    "with open(\"model_dmm_train.pkl\", \"wb\") as fp:   #Pickling\n",
    "    pickle.dump(model_dmm_train, fp)"
   ]
  },
  {
   "cell_type": "code",
   "execution_count": 8,
   "metadata": {},
   "outputs": [],
   "source": [
    "#unpickle the model_dmm vector\n",
    "with open(\"model_dmm_train.pkl\", \"rb\") as fp:   # Unpickling\n",
    "    model_dmm_train = pickle.load(fp)"
   ]
  },
  {
   "cell_type": "code",
   "execution_count": 38,
   "metadata": {},
   "outputs": [],
   "source": [
    "#pickling the model_dmm vector\n",
    "with open(\"model_dmm_test.pkl\", \"wb\") as fp:   #Pickling\n",
    "    pickle.dump(model_dmm_test, fp)"
   ]
  },
  {
   "cell_type": "code",
   "execution_count": 7,
   "metadata": {},
   "outputs": [],
   "source": [
    "#unpickle the model_dmm vector\n",
    "with open(\"model_dmm_test.pkl\", \"rb\") as fp:   # Unpickling\n",
    "    model_dmm_test = pickle.load(fp)"
   ]
  },
  {
   "cell_type": "code",
   "execution_count": 9,
   "metadata": {},
   "outputs": [],
   "source": [
    "del(model_dmm)"
   ]
  },
  {
   "cell_type": "markdown",
   "metadata": {},
   "source": [
    "### Logistic Regression - DMM (Simple Preprocess)"
   ]
  },
  {
   "cell_type": "code",
   "execution_count": 39,
   "metadata": {},
   "outputs": [],
   "source": [
    "from sklearn.linear_model import LogisticRegressionCV\n",
    "dmm_cv = LogisticRegressionCV(Cs=[0.0001, 0.001, .01, .1, 1, 10, 100, 1000], penalty='l2', solver='lbfgs', max_iter=500, cv = 4, \n",
    "                          n_jobs=-1, verbose=1, random_state = 50)"
   ]
  },
  {
   "cell_type": "code",
   "execution_count": 40,
   "metadata": {},
   "outputs": [
    {
     "name": "stderr",
     "output_type": "stream",
     "text": [
      "[Parallel(n_jobs=-1)]: Using backend LokyBackend with 8 concurrent workers.\n",
      "[Parallel(n_jobs=-1)]: Done   4 out of   4 | elapsed:  3.3min remaining:    0.0s\n",
      "[Parallel(n_jobs=-1)]: Done   4 out of   4 | elapsed:  3.3min finished\n"
     ]
    }
   ],
   "source": [
    "dmm_logit_model = dmm_cv.fit(model_dmm_train, y_train)"
   ]
  },
  {
   "cell_type": "code",
   "execution_count": 41,
   "metadata": {},
   "outputs": [
    {
     "data": {
      "text/plain": [
       "{-1: array([[0.63335006, 0.63750147, 0.6377741 , 0.63774932, 0.63779889,\n",
       "         0.63781747, 0.63778649, 0.63781747],\n",
       "        [0.63337258, 0.63850301, 0.63903588, 0.63907925, 0.63909164,\n",
       "         0.63908545, 0.63909164, 0.63908545],\n",
       "        [0.63240597, 0.63659458, 0.63718942, 0.63712746, 0.63713365,\n",
       "         0.63714604, 0.63713365, 0.63714604],\n",
       "        [0.63326724, 0.63811884, 0.63857736, 0.63848442, 0.63849681,\n",
       "         0.63849681, 0.63850301, 0.63850301]]),\n",
       " 0: array([[0.63335006, 0.63750147, 0.6377741 , 0.63774932, 0.63779889,\n",
       "         0.63781747, 0.63778649, 0.63781747],\n",
       "        [0.63337258, 0.63850301, 0.63903588, 0.63907925, 0.63909164,\n",
       "         0.63908545, 0.63909164, 0.63908545],\n",
       "        [0.63240597, 0.63659458, 0.63718942, 0.63712746, 0.63713365,\n",
       "         0.63714604, 0.63713365, 0.63714604],\n",
       "        [0.63326724, 0.63811884, 0.63857736, 0.63848442, 0.63849681,\n",
       "         0.63849681, 0.63850301, 0.63850301]]),\n",
       " 1: array([[0.63335006, 0.63750147, 0.6377741 , 0.63774932, 0.63779889,\n",
       "         0.63781747, 0.63778649, 0.63781747],\n",
       "        [0.63337258, 0.63850301, 0.63903588, 0.63907925, 0.63909164,\n",
       "         0.63908545, 0.63909164, 0.63908545],\n",
       "        [0.63240597, 0.63659458, 0.63718942, 0.63712746, 0.63713365,\n",
       "         0.63714604, 0.63713365, 0.63714604],\n",
       "        [0.63326724, 0.63811884, 0.63857736, 0.63848442, 0.63849681,\n",
       "         0.63849681, 0.63850301, 0.63850301]])}"
      ]
     },
     "execution_count": 41,
     "metadata": {},
     "output_type": "execute_result"
    }
   ],
   "source": [
    "dmm_logit_model.scores_"
   ]
  },
  {
   "cell_type": "markdown",
   "metadata": {},
   "source": [
    "The best C was between 100 and 1000"
   ]
  },
  {
   "cell_type": "code",
   "execution_count": 42,
   "metadata": {},
   "outputs": [
    {
     "name": "stderr",
     "output_type": "stream",
     "text": [
      "[Parallel(n_jobs=-1)]: Using backend LokyBackend with 8 concurrent workers.\n",
      "[Parallel(n_jobs=-1)]: Done   1 out of   1 | elapsed:  1.9min finished\n"
     ]
    }
   ],
   "source": [
    "#Using C = 200\n",
    "from sklearn.linear_model import LogisticRegression\n",
    "dmm_logit = LogisticRegression(verbose=1, solver='lbfgs', random_state=50, C=200, penalty='l2', max_iter=500, n_jobs = -1)\n",
    "dmm_logit_model = dmm_logit.fit(model_dmm_train, y_train)"
   ]
  },
  {
   "cell_type": "code",
   "execution_count": 43,
   "metadata": {
    "scrolled": true
   },
   "outputs": [
    {
     "name": "stdout",
     "output_type": "stream",
     "text": [
      "Accuracy Score:     0.6376\n",
      "       F-score:     0.6265\n",
      "      Log Loss:     0.7797\n"
     ]
    }
   ],
   "source": [
    "from sklearn.metrics import accuracy_score, f1_score, log_loss\n",
    "# Actual class predictions\n",
    "dmm_preds = dmm_logit_model.predict(model_dmm_test)\n",
    "# Probabilities for each class\n",
    "dmm_probs = dmm_logit_model.predict_proba(model_dmm_test)[:,]\n",
    "\n",
    "dmm_accuracy_score = accuracy_score(y_test, dmm_preds)\n",
    "dmm_f1_value = f1_score(y_test, dmm_preds, average ='weighted')\n",
    "dmm_log_loss_value = log_loss(y_test, dmm_probs, normalize=True)\n",
    "print(\"Accuracy Score:     {:0.4f}\".format(dmm_accuracy_score))\n",
    "print(\"       F-score:     {:0.4f}\".format(dmm_f1_value))\n",
    "print(\"      Log Loss:     {:0.4f}\".format(dmm_log_loss_value))"
   ]
  },
  {
   "cell_type": "code",
   "execution_count": 44,
   "metadata": {},
   "outputs": [
    {
     "data": {
      "image/png": "[encoded data removed]",
      "text/plain": [
       "<Figure size 576x396 with 1 Axes>"
      ]
     },
     "metadata": {},
     "output_type": "display_data"
    },
    {
     "data": {
      "text/plain": [
       "<matplotlib.axes._subplots.AxesSubplot at 0x1c1040e1940>"
      ]
     },
     "execution_count": 44,
     "metadata": {},
     "output_type": "execute_result"
    }
   ],
   "source": [
    "#logit confusion matrix\n",
    "from yellowbrick.classifier import ConfusionMatrix\n",
    "\n",
    "knn_cm = ConfusionMatrix(dmm_logit_model)\n",
    "\n",
    "knn_cm.fit(model_dmm_train, y_train)\n",
    "knn_cm.score(model_dmm_test, y_test)\n",
    "\n",
    "knn_cm.show()"
   ]
  },
  {
   "cell_type": "code",
   "execution_count": 45,
   "metadata": {},
   "outputs": [
    {
     "data": {
      "image/png": "[encoded data removed]",
      "text/plain": [
       "<Figure size 576x396 with 2 Axes>"
      ]
     },
     "metadata": {},
     "output_type": "display_data"
    },
    {
     "data": {
      "text/plain": [
       "<matplotlib.axes._subplots.AxesSubplot at 0x1c142012ac8>"
      ]
     },
     "execution_count": 45,
     "metadata": {},
     "output_type": "execute_result"
    }
   ],
   "source": [
    "from yellowbrick.classifier import ClassificationReport\n",
    "visualizer = ClassificationReport(dmm_logit_model, support=True)\n",
    "\n",
    "visualizer.fit(model_dmm_train, y_train)        # Fit the visualizer and the model\n",
    "visualizer.score(model_dmm_test, y_test)        # Evaluate the model on the test data\n",
    "visualizer.show()"
   ]
  },
  {
   "cell_type": "code",
   "execution_count": 46,
   "metadata": {},
   "outputs": [],
   "source": [
    "#clearing memory\n",
    "del(model_dmm_train, model_dmm_test)"
   ]
  },
  {
   "cell_type": "markdown",
   "metadata": {},
   "source": [
    "### Doc2Vec - Distributed Bag of Words (DBOW) Modeling - Simple Preprocess"
   ]
  },
  {
   "cell_type": "markdown",
   "metadata": {},
   "source": [
    "**DO NOT RERUN - CALC TIME**"
   ]
  },
  {
   "cell_type": "code",
   "execution_count": 2,
   "metadata": {},
   "outputs": [],
   "source": [
    "#unpickle the results\n",
    "with open(\"training_corpus.pkl\", \"rb\") as fp:   # Unpickling\n",
    "    training_corpus = pickle.load(fp)"
   ]
  },
  {
   "cell_type": "code",
   "execution_count": 11,
   "metadata": {},
   "outputs": [
    {
     "name": "stdout",
     "output_type": "stream",
     "text": [
      "645561\n"
     ]
    }
   ],
   "source": [
    "#creating the model\n",
    "model_dbow = Doc2Vec(dm=0, vector_size=200, negative=3, hs=0, min_count=150, sample = 0, workers=num_cores, epochs=12)\n",
    "#vocab from other model\n",
    "model_dbow.build_vocab(training_corpus)\n",
    "\n",
    "print(model_dbow.corpus_count)"
   ]
  },
  {
   "cell_type": "code",
   "execution_count": 12,
   "metadata": {},
   "outputs": [],
   "source": [
    "#training model\n",
    "model_dbow.train(training_corpus, total_examples=model_dbow.corpus_count, epochs=model_dbow.epochs)"
   ]
  },
  {
   "cell_type": "code",
   "execution_count": 13,
   "metadata": {},
   "outputs": [],
   "source": [
    "#removing training corpus from memory to speed things up\n",
    "del(training_corpus)"
   ]
  },
  {
   "cell_type": "code",
   "execution_count": 14,
   "metadata": {},
   "outputs": [],
   "source": [
    "#saving model to disk\n",
    "from gensim.test.utils import get_tmpfile\n",
    "fname = get_tmpfile(\"model_dbow\")\n",
    "model_dbow.save(fname)"
   ]
  },
  {
   "cell_type": "code",
   "execution_count": null,
   "metadata": {},
   "outputs": [],
   "source": [
    "#loading model from disk\n",
    "from gensim.test.utils import get_tmpfile\n",
    "fname = get_tmpfile(\"model_dbow\")\n",
    "model_dbow = Doc2Vec.load(fname)"
   ]
  },
  {
   "cell_type": "code",
   "execution_count": 15,
   "metadata": {},
   "outputs": [],
   "source": [
    "#clearing parts of model from memory once training is finished\n",
    "model_dbow.delete_temporary_training_data(keep_doctags_vectors=True, keep_inference=True)"
   ]
  },
  {
   "cell_type": "code",
   "execution_count": 17,
   "metadata": {},
   "outputs": [
    {
     "data": {
      "text/plain": [
       "19476"
      ]
     },
     "execution_count": 17,
     "metadata": {},
     "output_type": "execute_result"
    }
   ],
   "source": [
    "len(model_dbow.wv.vocab)"
   ]
  },
  {
   "cell_type": "markdown",
   "metadata": {},
   "source": [
    "### Vector Inference using Doc2Vec DBOW Model (Simple Preprocess)"
   ]
  },
  {
   "cell_type": "code",
   "execution_count": null,
   "metadata": {},
   "outputs": [],
   "source": [
    "#create model_dbow vector from the model for X_train\n",
    "model_dbow_train = [model_dbow.infer_vector(text) for text in X_train]\n",
    "\n",
    "del(X_train)"
   ]
  },
  {
   "cell_type": "code",
   "execution_count": 23,
   "metadata": {},
   "outputs": [],
   "source": [
    "#create model_dbow vector from the model for X_test\n",
    "model_dbow_test = [model_dbow.infer_vector(text) for text in X_test]\n",
    "\n",
    "del(X_test)"
   ]
  },
  {
   "cell_type": "code",
   "execution_count": 24,
   "metadata": {},
   "outputs": [],
   "source": [
    "#pickling the model_dbow vector\n",
    "with open(\"model_dbow_train.pkl\", \"wb\") as fp:   #Pickling\n",
    "    pickle.dump(model_dbow_train, fp)"
   ]
  },
  {
   "cell_type": "code",
   "execution_count": null,
   "metadata": {},
   "outputs": [],
   "source": [
    "#unpickle the model_dmm vector\n",
    "with open(\"model_dbow_train.pkl\", \"rb\") as fp:   # Unpickling\n",
    "    model_dbow_train = pickle.load(fp)"
   ]
  },
  {
   "cell_type": "code",
   "execution_count": 25,
   "metadata": {},
   "outputs": [],
   "source": [
    "#pickling the model_dmm vector\n",
    "with open(\"model_dbow_test.pkl\", \"wb\") as fp:   #Pickling\n",
    "    pickle.dump(model_dbow_test, fp)"
   ]
  },
  {
   "cell_type": "code",
   "execution_count": null,
   "metadata": {},
   "outputs": [],
   "source": [
    "#unpickle the model_dmm vector\n",
    "with open(\"model_dbow_test.pkl\", \"rb\") as fp:   # Unpickling\n",
    "    model_dbow_test = pickle.load(fp)"
   ]
  },
  {
   "cell_type": "code",
   "execution_count": 26,
   "metadata": {},
   "outputs": [],
   "source": [
    "#clearing out memory before regression\n",
    "del(model_dbow)"
   ]
  },
  {
   "cell_type": "markdown",
   "metadata": {},
   "source": [
    "### Logistic Regression - DBOW (Simple Preprocess)"
   ]
  },
  {
   "cell_type": "code",
   "execution_count": 27,
   "metadata": {},
   "outputs": [],
   "source": [
    "from sklearn.linear_model import LogisticRegressionCV\n",
    "dbow_cv = LogisticRegressionCV(Cs=[0.0001, 0.001, .01, .1, 1, 10, 100, 1000], penalty='l2', solver='lbfgs', max_iter=500, cv = 4, \n",
    "                          n_jobs=-1, verbose=1, random_state = 50)"
   ]
  },
  {
   "cell_type": "code",
   "execution_count": 28,
   "metadata": {},
   "outputs": [
    {
     "name": "stderr",
     "output_type": "stream",
     "text": [
      "[Parallel(n_jobs=-1)]: Using backend LokyBackend with 8 concurrent workers.\n",
      "[Parallel(n_jobs=-1)]: Done   4 out of   4 | elapsed:  3.5min remaining:    0.0s\n",
      "[Parallel(n_jobs=-1)]: Done   4 out of   4 | elapsed:  3.5min finished\n"
     ]
    }
   ],
   "source": [
    "#fitting logreg cv\n",
    "dbow_logit_model = dbow_cv.fit(model_dbow_train, y_train)"
   ]
  },
  {
   "cell_type": "code",
   "execution_count": 29,
   "metadata": {},
   "outputs": [
    {
     "data": {
      "text/plain": [
       "{-1: array([[0.63678272, 0.67369308, 0.67539702, 0.67524831, 0.67527929,\n",
       "         0.67527309, 0.6752607 , 0.67525451],\n",
       "        [0.63779664, 0.67442221, 0.67618192, 0.67651651, 0.67655989,\n",
       "         0.6765351 , 0.6765351 , 0.67652891],\n",
       "        [0.63826135, 0.67396989, 0.6763678 , 0.67648553, 0.6765413 ,\n",
       "         0.6765351 , 0.6765413 , 0.6765413 ],\n",
       "        [0.63955016, 0.67522151, 0.67743974, 0.67742115, 0.67745833,\n",
       "         0.67742735, 0.67744594, 0.67742735]]),\n",
       " 0: array([[0.63678272, 0.67369308, 0.67539702, 0.67524831, 0.67527929,\n",
       "         0.67527309, 0.6752607 , 0.67525451],\n",
       "        [0.63779664, 0.67442221, 0.67618192, 0.67651651, 0.67655989,\n",
       "         0.6765351 , 0.6765351 , 0.67652891],\n",
       "        [0.63826135, 0.67396989, 0.6763678 , 0.67648553, 0.6765413 ,\n",
       "         0.6765351 , 0.6765413 , 0.6765413 ],\n",
       "        [0.63955016, 0.67522151, 0.67743974, 0.67742115, 0.67745833,\n",
       "         0.67742735, 0.67744594, 0.67742735]]),\n",
       " 1: array([[0.63678272, 0.67369308, 0.67539702, 0.67524831, 0.67527929,\n",
       "         0.67527309, 0.6752607 , 0.67525451],\n",
       "        [0.63779664, 0.67442221, 0.67618192, 0.67651651, 0.67655989,\n",
       "         0.6765351 , 0.6765351 , 0.67652891],\n",
       "        [0.63826135, 0.67396989, 0.6763678 , 0.67648553, 0.6765413 ,\n",
       "         0.6765351 , 0.6765413 , 0.6765413 ],\n",
       "        [0.63955016, 0.67522151, 0.67743974, 0.67742115, 0.67745833,\n",
       "         0.67742735, 0.67744594, 0.67742735]])}"
      ]
     },
     "execution_count": 29,
     "metadata": {},
     "output_type": "execute_result"
    }
   ],
   "source": [
    "#printing out scores\n",
    "dbow_logit_model.scores_"
   ]
  },
  {
   "cell_type": "markdown",
   "metadata": {},
   "source": [
    "The best was C = 1."
   ]
  },
  {
   "cell_type": "code",
   "execution_count": 32,
   "metadata": {},
   "outputs": [
    {
     "name": "stderr",
     "output_type": "stream",
     "text": [
      "[Parallel(n_jobs=-1)]: Using backend LokyBackend with 8 concurrent workers.\n",
      "[Parallel(n_jobs=-1)]: Done   1 out of   1 | elapsed:  2.0min finished\n"
     ]
    }
   ],
   "source": [
    "#Using C = 1\n",
    "from sklearn.linear_model import LogisticRegression\n",
    "dbow_logit = LogisticRegression(verbose=1, solver='lbfgs', random_state=50, C=1, penalty='l2', max_iter=500, n_jobs = -1)\n",
    "dbow_logit_model = dbow_logit.fit(model_dbow_train, y_train)"
   ]
  },
  {
   "cell_type": "code",
   "execution_count": 34,
   "metadata": {},
   "outputs": [
    {
     "name": "stdout",
     "output_type": "stream",
     "text": [
      "Accuracy Score:     0.6748\n",
      "       F-score:     0.6693\n",
      "      Log Loss:     0.7109\n"
     ]
    }
   ],
   "source": [
    "from sklearn.metrics import accuracy_score, f1_score, log_loss\n",
    "# Actual class predictions\n",
    "dbow_preds = dbow_logit_model.predict(model_dbow_test)\n",
    "# Probabilities for each class\n",
    "dbow_probs = dbow_logit_model.predict_proba(model_dbow_test)[:,]\n",
    "\n",
    "dbow_accuracy_score = accuracy_score(y_test, dbow_preds)\n",
    "dbow_f1_value = f1_score(y_test, dbow_preds, average ='weighted')\n",
    "dbow_log_loss_value = log_loss(y_test, dbow_probs, normalize=True)\n",
    "print(\"Accuracy Score:     {:0.4f}\".format(dbow_accuracy_score))\n",
    "print(\"       F-score:     {:0.4f}\".format(dbow_f1_value))\n",
    "print(\"      Log Loss:     {:0.4f}\".format(dbow_log_loss_value))"
   ]
  },
  {
   "cell_type": "code",
   "execution_count": 38,
   "metadata": {},
   "outputs": [
    {
     "data": {
      "image/png": "[encoded data removed]",
      "text/plain": [
       "<Figure size 576x396 with 1 Axes>"
      ]
     },
     "metadata": {},
     "output_type": "display_data"
    },
    {
     "data": {
      "text/plain": [
       "<matplotlib.axes._subplots.AxesSubplot at 0x225adfc8240>"
      ]
     },
     "execution_count": 38,
     "metadata": {},
     "output_type": "execute_result"
    }
   ],
   "source": [
    "#logit confusion matrix\n",
    "from yellowbrick.classifier import ConfusionMatrix\n",
    "\n",
    "knn_cm = ConfusionMatrix(dbow_logit_model)\n",
    "\n",
    "knn_cm.fit(model_dbow_train, y_train)\n",
    "knn_cm.score(model_dbow_test, y_test)\n",
    "\n",
    "knn_cm.show()"
   ]
  },
  {
   "cell_type": "code",
   "execution_count": 39,
   "metadata": {},
   "outputs": [
    {
     "data": {
      "image/png": "[encoded data removed]",
      "text/plain": [
       "<Figure size 576x396 with 2 Axes>"
      ]
     },
     "metadata": {},
     "output_type": "display_data"
    }
   ],
   "source": [
    "from yellowbrick.classifier import ClassificationReport\n",
    "visualizer = ClassificationReport(dbow_logit_model, support=True)\n",
    "\n",
    "visualizer.fit(model_dbow_train, y_train)        # Fit the visualizer and the model\n",
    "visualizer.score(model_dbow_test, y_test)        # Evaluate the model on the test data\n",
    "visualizer.show()\n",
    "\n",
    "#clearing memory\n",
    "del(model_dbow_train, model_dbow_test)"
   ]
  },
  {
   "cell_type": "markdown",
   "metadata": {},
   "source": [
    "### Concatenated Doc2Vec (Simple Preprocess)"
   ]
  },
  {
   "cell_type": "code",
   "execution_count": 40,
   "metadata": {},
   "outputs": [],
   "source": [
    "#loading model from disk\n",
    "from gensim.test.utils import get_tmpfile\n",
    "fname = get_tmpfile(\"model_dmm\")\n",
    "model_dmm = Doc2Vec.load(fname)"
   ]
  },
  {
   "cell_type": "code",
   "execution_count": 45,
   "metadata": {},
   "outputs": [],
   "source": [
    "#loading model from disk\n",
    "from gensim.test.utils import get_tmpfile\n",
    "fname = get_tmpfile(\"model_dbow\")\n",
    "model_dbow = Doc2Vec.load(fname)"
   ]
  },
  {
   "cell_type": "code",
   "execution_count": 46,
   "metadata": {},
   "outputs": [],
   "source": [
    "from gensim.test.test_doc2vec import ConcatenatedDoc2Vec\n",
    "\n",
    "model_concat = ConcatenatedDoc2Vec([model_dbow, model_dmm])"
   ]
  },
  {
   "cell_type": "markdown",
   "metadata": {},
   "source": [
    "### Vector Inference using Doc2Vec Concat Model (Simple Preprocess)"
   ]
  },
  {
   "cell_type": "code",
   "execution_count": 52,
   "metadata": {},
   "outputs": [],
   "source": [
    "#create model_dbow vector from the model for X_train\n",
    "model_concat_train = [model_concat.infer_vector(text) for text in X_train]\n",
    "\n",
    "del(X_train)"
   ]
  },
  {
   "cell_type": "code",
   "execution_count": 53,
   "metadata": {},
   "outputs": [],
   "source": [
    "#create model_dbow vector from the model for X_train\n",
    "model_concat_test = [model_concat.infer_vector(text) for text in X_test]\n",
    "\n",
    "del(X_test)"
   ]
  },
  {
   "cell_type": "code",
   "execution_count": 54,
   "metadata": {},
   "outputs": [],
   "source": [
    "#pickling the model_concat vector\n",
    "with open(\"model_concat_train.pkl\", \"wb\") as fp:   #Pickling\n",
    "    pickle.dump(model_concat_train, fp)\n",
    "\n",
    "#pickling the model_dmm vector\n",
    "with open(\"model_concat_test.pkl\", \"wb\") as fp:   #Pickling\n",
    "    pickle.dump(model_concat_test, fp)"
   ]
  },
  {
   "cell_type": "code",
   "execution_count": null,
   "metadata": {},
   "outputs": [],
   "source": [
    "#unpickle the model_dmm vector\n",
    "with open(\"model_dbow_train.pkl\", \"rb\") as fp:   # Unpickling\n",
    "    model_dbow_train = pickle.load(fp)\n",
    "    \n",
    "#unpickle the model_dmm vector\n",
    "with open(\"model_dbow_test.pkl\", \"rb\") as fp:   # Unpickling\n",
    "    model_dbow_test = pickle.load(fp)"
   ]
  },
  {
   "cell_type": "code",
   "execution_count": 55,
   "metadata": {},
   "outputs": [],
   "source": [
    "#clearing out memory before regression\n",
    "del(model_concat)"
   ]
  },
  {
   "cell_type": "markdown",
   "metadata": {},
   "source": [
    "### Logistic Regression - Concat (Simple Preprocess)"
   ]
  },
  {
   "cell_type": "code",
   "execution_count": 56,
   "metadata": {},
   "outputs": [],
   "source": [
    "from sklearn.linear_model import LogisticRegressionCV\n",
    "concat_cv = LogisticRegressionCV(Cs=[0.0001, 0.001, .01, .1, 1, 10, 100, 1000], penalty='l2', \n",
    "                                 solver='lbfgs', max_iter=500, cv = 4, n_jobs=-1, \n",
    "                                 verbose=1, random_state = 50)\n",
    "\n"
   ]
  },
  {
   "cell_type": "code",
   "execution_count": 57,
   "metadata": {},
   "outputs": [
    {
     "name": "stderr",
     "output_type": "stream",
     "text": [
      "[Parallel(n_jobs=-1)]: Using backend LokyBackend with 8 concurrent workers.\n",
      "[Parallel(n_jobs=-1)]: Done   4 out of   4 | elapsed: 14.8min finished\n",
      "[Parallel(n_jobs=-1)]: Done   4 out of   4 | elapsed: 14.8min remaining:    0.0s\n"
     ]
    }
   ],
   "source": [
    "#fitting logreg cv\n",
    "concat_logit_model = concat_cv.fit(model_concat_train, y_train)"
   ]
  },
  {
   "cell_type": "code",
   "execution_count": 58,
   "metadata": {},
   "outputs": [
    {
     "data": {
      "text/plain": [
       "{-1: array([[0.65724235, 0.67786308, 0.68097973, 0.68112844, 0.68097973,\n",
       "         0.68098593, 0.68097973, 0.68097973],\n",
       "        [0.65764298, 0.67793544, 0.68129996, 0.68136811, 0.68138051,\n",
       "         0.68138051, 0.6813867 , 0.68138051],\n",
       "        [0.65583989, 0.67603321, 0.67944111, 0.67954024, 0.67965797,\n",
       "         0.67965797, 0.67965797, 0.67965797],\n",
       "        [0.65766157, 0.67709895, 0.68080426, 0.68091579, 0.68085383,\n",
       "         0.68083524, 0.68084764, 0.68083524]]),\n",
       " 0: array([[0.65724235, 0.67786308, 0.68097973, 0.68112844, 0.68097973,\n",
       "         0.68098593, 0.68097973, 0.68097973],\n",
       "        [0.65764298, 0.67793544, 0.68129996, 0.68136811, 0.68138051,\n",
       "         0.68138051, 0.6813867 , 0.68138051],\n",
       "        [0.65583989, 0.67603321, 0.67944111, 0.67954024, 0.67965797,\n",
       "         0.67965797, 0.67965797, 0.67965797],\n",
       "        [0.65766157, 0.67709895, 0.68080426, 0.68091579, 0.68085383,\n",
       "         0.68083524, 0.68084764, 0.68083524]]),\n",
       " 1: array([[0.65724235, 0.67786308, 0.68097973, 0.68112844, 0.68097973,\n",
       "         0.68098593, 0.68097973, 0.68097973],\n",
       "        [0.65764298, 0.67793544, 0.68129996, 0.68136811, 0.68138051,\n",
       "         0.68138051, 0.6813867 , 0.68138051],\n",
       "        [0.65583989, 0.67603321, 0.67944111, 0.67954024, 0.67965797,\n",
       "         0.67965797, 0.67965797, 0.67965797],\n",
       "        [0.65766157, 0.67709895, 0.68080426, 0.68091579, 0.68085383,\n",
       "         0.68083524, 0.68084764, 0.68083524]])}"
      ]
     },
     "execution_count": 58,
     "metadata": {},
     "output_type": "execute_result"
    }
   ],
   "source": [
    "#printing out scores\n",
    "concat_logit_model.scores_"
   ]
  },
  {
   "cell_type": "markdown",
   "metadata": {},
   "source": [
    "C = 100 is best."
   ]
  },
  {
   "cell_type": "code",
   "execution_count": 59,
   "metadata": {},
   "outputs": [
    {
     "name": "stderr",
     "output_type": "stream",
     "text": [
      "[Parallel(n_jobs=-1)]: Using backend LokyBackend with 8 concurrent workers.\n",
      "[Parallel(n_jobs=-1)]: Done   1 out of   1 | elapsed: 10.6min finished\n"
     ]
    }
   ],
   "source": [
    "#Using C = 100\n",
    "from sklearn.linear_model import LogisticRegression\n",
    "concat_logit = LogisticRegression(verbose=1, solver='lbfgs', random_state=50, C=100, penalty='l2', max_iter=500, n_jobs = -1)\n",
    "concat_logit_model = concat_logit.fit(model_concat_train, y_train)"
   ]
  },
  {
   "cell_type": "code",
   "execution_count": 60,
   "metadata": {},
   "outputs": [
    {
     "name": "stdout",
     "output_type": "stream",
     "text": [
      "Accuracy Score:     0.6789\n",
      "       F-score:     0.6736\n",
      "      Log Loss:     0.7025\n"
     ]
    }
   ],
   "source": [
    "from sklearn.metrics import accuracy_score, f1_score, log_loss\n",
    "# Actual class predictions\n",
    "concat_preds = concat_logit_model.predict(model_concat_test)\n",
    "# Probabilities for each class\n",
    "concat_probs = concat_logit_model.predict_proba(model_concat_test)[:,]\n",
    "\n",
    "concat_accuracy_score = accuracy_score(y_test, concat_preds)\n",
    "concat_f1_value = f1_score(y_test, concat_preds, average ='weighted')\n",
    "concat_log_loss_value = log_loss(y_test, concat_probs, normalize=True)\n",
    "print(\"Accuracy Score:     {:0.4f}\".format(concat_accuracy_score))\n",
    "print(\"       F-score:     {:0.4f}\".format(concat_f1_value))\n",
    "print(\"      Log Loss:     {:0.4f}\".format(concat_log_loss_value))"
   ]
  },
  {
   "cell_type": "code",
   "execution_count": 61,
   "metadata": {},
   "outputs": [
    {
     "data": {
      "image/png": "[encoded data removed]",
      "text/plain": [
       "<Figure size 576x396 with 1 Axes>"
      ]
     },
     "metadata": {},
     "output_type": "display_data"
    },
    {
     "data": {
      "text/plain": [
       "<matplotlib.axes._subplots.AxesSubplot at 0x226c3555320>"
      ]
     },
     "execution_count": 61,
     "metadata": {},
     "output_type": "execute_result"
    }
   ],
   "source": [
    "#logit confusion matrix\n",
    "from yellowbrick.classifier import ConfusionMatrix\n",
    "\n",
    "knn_cm = ConfusionMatrix(concat_logit_model)\n",
    "\n",
    "knn_cm.fit(model_concat_train, y_train)\n",
    "knn_cm.score(model_concat_test, y_test)\n",
    "\n",
    "knn_cm.show()"
   ]
  },
  {
   "cell_type": "code",
   "execution_count": 62,
   "metadata": {},
   "outputs": [
    {
     "data": {
      "image/png": "[encoded data removed]",
      "text/plain": [
       "<Figure size 576x396 with 2 Axes>"
      ]
     },
     "metadata": {},
     "output_type": "display_data"
    }
   ],
   "source": [
    "from yellowbrick.classifier import ClassificationReport\n",
    "visualizer = ClassificationReport(concat_logit_model, support=True)\n",
    "\n",
    "visualizer.fit(model_concat_train, y_train)        # Fit the visualizer and the model\n",
    "visualizer.score(model_concat_test, y_test)        # Evaluate the model on the test data\n",
    "visualizer.show()\n",
    "\n",
    "#clearing memory\n",
    "del(model_concat_train, model_concat_test)"
   ]
  },
  {
   "cell_type": "markdown",
   "metadata": {},
   "source": [
    "### Pretrained GloVe Model and LSTM"
   ]
  },
  {
   "cell_type": "markdown",
   "metadata": {},
   "source": [
    "To view modeling visit:\n",
    "https://colab.research.google.com/drive/1bYvvjsZngChva8vuP5TMSZrxEfXI0RkW?usp=sharing"
   ]
  },
  {
   "cell_type": "code",
   "execution_count": null,
   "metadata": {},
   "outputs": [],
   "source": [
    "Accuracy Score:     0.7705\n",
    "       F-score:     0.7696\n",
    "      Log Loss:     0.5272"
   ]
  },
  {
   "cell_type": "markdown",
   "metadata": {},
   "source": [
    "### Model Performance"
   ]
  },
  {
   "cell_type": "code",
   "execution_count": 6,
   "metadata": {},
   "outputs": [],
   "source": [
    "#convert scores to a df\n",
    "score_data = [{'Count_Vector_Logit' : 0.7356, 'tfidf_Logit' : 0.7412, 'bidirectional_LSTM' : 0.7705},  \n",
    "              {'Count_Vector_Logit' : 0.7300, 'tfidf_Logit' : 0.7378, 'bidirectional_LSTM' : 0.7696}, \n",
    "              {'Count_Vector_Logit' : 0.6251, 'tfidf_Logit' : 0.5889, 'bidirectional_LSTM' : 0.5272}]"
   ]
  },
  {
   "cell_type": "code",
   "execution_count": 9,
   "metadata": {},
   "outputs": [],
   "source": [
    "score_df = pd.DataFrame(score_data, index = ['accuracy', 'f1_score', 'log_loss'])"
   ]
  },
  {
   "cell_type": "code",
   "execution_count": 14,
   "metadata": {},
   "outputs": [
    {
     "name": "stdout",
     "output_type": "stream",
     "text": [
      "      index            variable   value\n",
      "0  accuracy  Count_Vector_Logit  0.7356\n",
      "1  f1_score  Count_Vector_Logit  0.7300\n",
      "2  log_loss  Count_Vector_Logit  0.6251\n",
      "3  accuracy         tfidf_Logit  0.7412\n",
      "4  f1_score         tfidf_Logit  0.7378\n",
      "5  log_loss         tfidf_Logit  0.5889\n",
      "6  accuracy  bidirectional_LSTM  0.7705\n",
      "7  f1_score  bidirectional_LSTM  0.7696\n",
      "8  log_loss  bidirectional_LSTM  0.5272\n"
     ]
    }
   ],
   "source": [
    "score_df = score_df.reset_index().melt(id_vars=[\"index\"])\n",
    "print(score_df)"
   ]
  },
  {
   "cell_type": "code",
   "execution_count": 15,
   "metadata": {},
   "outputs": [
    {
     "data": {
      "image/png": "[encoded data removed]",
      "text/plain": [
       "<Figure size 1152x504 with 1 Axes>"
      ]
     },
     "metadata": {
      "needs_background": "light"
     },
     "output_type": "display_data"
    }
   ],
   "source": [
    "f, ax = plt.subplots(figsize = (16,7))\n",
    "sns.barplot(x = 'variable', y = 'value', hue = 'index', data = score_df,\n",
    "            palette = 'muted')\n",
    "plt.grid(axis='y')\n",
    "plt.xlabel('Model Used')\n",
    "plt.ylabel('Metric Score')\n",
    "plt.title('Modeling Metrics')\n",
    "plt.legend(title = 'Metric')\n",
    "ax.set_xticklabels([\"Count Vectorizer Logit\", \"TFIDF Vectorizer Logit\", \"Bidirectional LSTM\"])\n",
    "plt.show()"
   ]
  },
  {
   "cell_type": "code",
   "execution_count": null,
   "metadata": {},
   "outputs": [],
   "source": []
  }
 ],
 "metadata": {
  "kernelspec": {
   "display_name": "Python 3",
   "language": "python",
   "name": "python3"
  },
  "language_info": {
   "codemirror_mode": {
    "name": "ipython",
    "version": 3
   },
   "file_extension": ".py",
   "mimetype": "text/x-python",
   "name": "python",
   "nbconvert_exporter": "python",
   "pygments_lexer": "ipython3",
   "version": "3.7.3"
  }
 },
 "nbformat": 4,
 "nbformat_minor": 4
}
