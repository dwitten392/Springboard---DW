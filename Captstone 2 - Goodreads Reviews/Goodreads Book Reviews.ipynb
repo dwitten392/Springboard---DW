{
 "cells": [
  {
   "cell_type": "markdown",
   "metadata": {},
   "source": [
    "# Goodreads Book Reviews"
   ]
  },
  {
   "cell_type": "code",
   "execution_count": 1,
   "metadata": {},
   "outputs": [
    {
     "data": {
      "text/html": [
       "<style>.container { width:90% !important; }</style>"
      ],
      "text/plain": [
       "<IPython.core.display.HTML object>"
      ]
     },
     "metadata": {},
     "output_type": "display_data"
    }
   ],
   "source": [
    "#change display\n",
    "from IPython.core.display import display, HTML\n",
    "display(HTML(\"<style>.container { width:90% !important; }</style>\"))"
   ]
  },
  {
   "cell_type": "code",
   "execution_count": 2,
   "metadata": {},
   "outputs": [],
   "source": [
    "import warnings\n",
    "warnings.filterwarnings(\"ignore\")"
   ]
  },
  {
   "cell_type": "markdown",
   "metadata": {},
   "source": [
    "## Loading Data"
   ]
  },
  {
   "cell_type": "code",
   "execution_count": 3,
   "metadata": {},
   "outputs": [],
   "source": [
    "#importing packages\n",
    "import tqdm\n",
    "import re\n",
    "import gzip\n",
    "import json\n",
    "import re\n",
    "import os\n",
    "import sys\n",
    "import numpy as np\n",
    "import pandas as pd\n",
    "import pickle"
   ]
  },
  {
   "cell_type": "code",
   "execution_count": 6,
   "metadata": {},
   "outputs": [],
   "source": [
    "#set directory for loading dataset\n",
    "DIR = './goodreads-master/'"
   ]
  },
  {
   "cell_type": "code",
   "execution_count": 7,
   "metadata": {},
   "outputs": [],
   "source": [
    "#function to preview or read in the data the data\n",
    "#takes each line to a list and then appends to a list to make a list of lists\n",
    "def load_data(file_name, head = 500):\n",
    "    count = 0\n",
    "    data = []\n",
    "    with gzip.open(file_name) as fin:\n",
    "        for l in fin:\n",
    "            d = json.loads(l)\n",
    "            data_list = []\n",
    "            data_list.append(d['user_id'])\n",
    "            data_list.append(d['book_id'])\n",
    "            data_list.append(d['review_id'])\n",
    "            data_list.append(d['rating'])\n",
    "            data_list.append(d['review_text'])\n",
    "            if r'(view spoiler)' in d['review_text']:\n",
    "                data_list.append(1)\n",
    "            else: data_list.append(0)\n",
    "            data.append(data_list)\n",
    "            count += 1\n",
    "            \n",
    "            # break if reaches the 100th line\n",
    "            if (head is not None) and (count > head):\n",
    "                break\n",
    "    return data"
   ]
  },
  {
   "cell_type": "code",
   "execution_count": 8,
   "metadata": {},
   "outputs": [],
   "source": [
    "#load in raw text (this will probably a little while)\n",
    "data = load_data(os.path.join(DIR, 'goodreads_reviews_spoiler_raw.json.gz'), head = None)"
   ]
  },
  {
   "cell_type": "code",
   "execution_count": 9,
   "metadata": {},
   "outputs": [
    {
     "name": "stdout",
     "output_type": "stream",
     "text": [
      "1378033\n",
      "\n",
      "<class 'pandas.core.frame.DataFrame'>\n",
      "Index: 1378033 entries, dfdbb7b0eb5a7e4c26d59a937e2e5feb to 62ed1263c7d216986cc419cd4e8a408b\n",
      "Data columns (total 5 columns):\n",
      " #   Column       Non-Null Count    Dtype \n",
      "---  ------       --------------    ----- \n",
      " 0   user_id      1378033 non-null  object\n",
      " 1   book_id      1378033 non-null  object\n",
      " 2   rating       1378033 non-null  int64 \n",
      " 3   review_text  1378033 non-null  object\n",
      " 4   spoiler      1378033 non-null  int64 \n",
      "dtypes: int64(2), object(3)\n",
      "memory usage: 63.1+ MB\n"
     ]
    }
   ],
   "source": [
    "#take the list of lists to DF\n",
    "\n",
    "df = pd.DataFrame(data, columns = ['user_id', 'book_id', 'review_id', 'rating', 'review_text', 'spoiler'])\n",
    "print(df.review_id.nunique())\n",
    "\n",
    "df.set_index('review_id', inplace = True)\n",
    "print('')\n",
    "df.info()\n"
   ]
  },
  {
   "cell_type": "code",
   "execution_count": 10,
   "metadata": {},
   "outputs": [],
   "source": [
    "#remove data from memory\n",
    "del(data)"
   ]
  },
  {
   "cell_type": "markdown",
   "metadata": {},
   "source": [
    "## Early Data Exploration"
   ]
  },
  {
   "cell_type": "code",
   "execution_count": 30,
   "metadata": {},
   "outputs": [
    {
     "data": {
      "text/plain": [
       "4    480199\n",
       "5    403374\n",
       "3    290430\n",
       "2    112226\n",
       "0     47052\n",
       "1     44752\n",
       "Name: rating, dtype: int64"
      ]
     },
     "execution_count": 30,
     "metadata": {},
     "output_type": "execute_result"
    }
   ],
   "source": [
    "df.rating.value_counts()"
   ]
  },
  {
   "cell_type": "markdown",
   "metadata": {},
   "source": [
    "I was not expecting the 0 score for reviews. Let's take a look."
   ]
  },
  {
   "cell_type": "markdown",
   "metadata": {},
   "source": [
    "**Not necessary to rerun**"
   ]
  },
  {
   "cell_type": "code",
   "execution_count": 31,
   "metadata": {},
   "outputs": [],
   "source": [
    "#list of 0 scored reviews\n",
    "review_text0 = [df.review_text.iloc[i] for i in range(len(df.review_text)) if df.rating.iloc[i] == 0]"
   ]
  },
  {
   "cell_type": "code",
   "execution_count": 32,
   "metadata": {},
   "outputs": [
    {
     "data": {
      "text/plain": [
       "\"I was on the fence about this trilogy when I started Steelheart, but by the time I read Calamity my emotions were a mess and David really came to grow on me. Calamity starts off shortly after Firefight ended with Prof leaving the Reckoners and fallen to his powers. David, now leading the Reckoners and rejoined by Cody and Abraham who were absent in Firefight, has a plan to get Prof to face his weakness and return to the man they once knew. \\n The book is ambitious, taking place in another city called Ildithia. What it reminds me of is something like Howl's Moving Castle, but instead of a castle, it's an entire city that moves and rebuilds itself as it travels across North America. We slowly start to see what Regalia's plans were and why Prof deciding settle in this particular city was fundamental to her plans. \\n Calamity is unforgiving. There's no path out of darkness without sacrifice, and the sacrifice in this book was a gut-wrenching one. On a lighter note, there are spy missions with action-packed fighting that will leave you breathless to read what will come next for the Reckoners we've come to love. There's more terrible metaphors that we've all come to expect and heartily anticipate. And of course, there's that unexpected twist that will leave you wondering how you never saw it coming. The story comes full circle in Calamity and I couldn't have asked for a better ending to this trilogy. \\n *Thank you, First In Line and Penguin Random House, for providing me a bound manuscript in exchange for an honest review!*\""
      ]
     },
     "execution_count": 32,
     "metadata": {},
     "output_type": "execute_result"
    }
   ],
   "source": [
    "#random sample to examine data\n",
    "np.random.choice(review_text0)"
   ]
  },
  {
   "cell_type": "markdown",
   "metadata": {},
   "source": [
    "Reviews with 0 stars often appear to be from people who did not finish the book or were in the process of reading. However, they can also be legitimate reviews. They are sometimes negative or positive, but are most often neutral. Goodreads allows you to review without setting the stars, so these reviews should likely be thrown out for prediction purposes."
   ]
  },
  {
   "cell_type": "code",
   "execution_count": 33,
   "metadata": {},
   "outputs": [],
   "source": [
    "#remove from memory\n",
    "del(review_text0)"
   ]
  },
  {
   "cell_type": "markdown",
   "metadata": {},
   "source": [
    "## Data Cleaning"
   ]
  },
  {
   "cell_type": "code",
   "execution_count": 11,
   "metadata": {},
   "outputs": [
    {
     "data": {
      "text/plain": [
       "1330981"
      ]
     },
     "execution_count": 11,
     "metadata": {},
     "output_type": "execute_result"
    }
   ],
   "source": [
    "#removing the 0 ratings\n",
    "df = df.loc[df.rating != 0]\n",
    "len(df)"
   ]
  },
  {
   "cell_type": "code",
   "execution_count": 12,
   "metadata": {},
   "outputs": [
    {
     "data": {
      "text/plain": [
       "1175005"
      ]
     },
     "execution_count": 12,
     "metadata": {},
     "output_type": "execute_result"
    }
   ],
   "source": [
    "#remove those reviews of under 100 characters for computational speed purposes\n",
    "df = df.loc[(df.review_text.astype(str).str.len()) >= 100]\n",
    "len(df)"
   ]
  },
  {
   "cell_type": "code",
   "execution_count": 13,
   "metadata": {},
   "outputs": [
    {
     "data": {
      "text/plain": [
       "18833"
      ]
     },
     "execution_count": 13,
     "metadata": {},
     "output_type": "execute_result"
    }
   ],
   "source": [
    "#number of unique users\n",
    "df.user_id.nunique()"
   ]
  },
  {
   "cell_type": "code",
   "execution_count": 14,
   "metadata": {},
   "outputs": [
    {
     "data": {
      "text/plain": [
       "25466"
      ]
     },
     "execution_count": 14,
     "metadata": {},
     "output_type": "execute_result"
    }
   ],
   "source": [
    "#number of unique books\n",
    "df.book_id.nunique()"
   ]
  },
  {
   "cell_type": "code",
   "execution_count": 15,
   "metadata": {},
   "outputs": [
    {
     "data": {
      "text/plain": [
       " 1    771529\n",
       " 0    261806\n",
       "-1    141670\n",
       "Name: rating, dtype: int64"
      ]
     },
     "execution_count": 15,
     "metadata": {},
     "output_type": "execute_result"
    }
   ],
   "source": [
    "#mapping the 5 starts to negative, neutral, positive\n",
    "df.rating = df.rating.map({1 : -1, 2 : -1, 3 : 0, 4 : 1, 5: 1})\n",
    "df.rating.value_counts()"
   ]
  },
  {
   "cell_type": "code",
   "execution_count": 16,
   "metadata": {},
   "outputs": [
    {
     "data": {
      "text/plain": [
       "403476"
      ]
     },
     "execution_count": 16,
     "metadata": {},
     "output_type": "execute_result"
    }
   ],
   "source": [
    "#down sampling the largest class to make it the sum of the size of the other classes; doing this to help simpler models and to help with hardware constraints\n",
    "df1 = df.loc[df.rating == 1].sample(n = 403476, random_state = 87, axis = 0)\n",
    "len(df1)"
   ]
  },
  {
   "cell_type": "code",
   "execution_count": 17,
   "metadata": {},
   "outputs": [
    {
     "data": {
      "text/plain": [
       "806952"
      ]
     },
     "execution_count": 17,
     "metadata": {},
     "output_type": "execute_result"
    }
   ],
   "source": [
    "#append the downsampled positive reviews to the new dataframe\n",
    "df = df.loc[df.rating != 1].append(df1)\n",
    "len(df)"
   ]
  },
  {
   "cell_type": "code",
   "execution_count": 18,
   "metadata": {},
   "outputs": [],
   "source": [
    "#removing other df from memory\n",
    "del(df1)"
   ]
  },
  {
   "cell_type": "code",
   "execution_count": 42,
   "metadata": {},
   "outputs": [],
   "source": [
    "#building out a normalization dict to perform prior to stemming\n",
    "normalization_dict = {'was' : 'be', 'is' : 'be', 'are': 'be', 'been': 'be', 'were': 'be', 'am' : 'be', \n",
    "                      'wasnt':'isnt', 'arent':'isnt', 'werent':'isnt', 'does': 'do', 'has': 'have', 'had' : 'have',\n",
    "                      'so':'', 'such':'', 'the':'', 'a':'', 'an':'', 'to': '', 'of':'', 'in':'', 'on':'', 'all':'', \n",
    "                      'for':'', 'about':'', 'at':'', 'that':'', 'this':'', 'probably':'', 'just':'', 'as':'',\n",
    "                      '1':'one', '2':'two', '3':'three', '4':'four', '5':'five', '6':'six', '7':'seven', '8':'eight', '9':'nine', #numbers \n",
    "                      'he':'_pron_', 'she':'_pron_', 'i':'_pron_', 'we':'_pron_', 'you':'_pron_', 'it':'_pron_', 'they':'_pron_', #personal subject pronouns\n",
    "                      'me':'_pron_', 'us':'_pron_', 'her':'_pron_', 'him':'_pron_', 'them':'_pron_', 'his':'_pron_'} #obj pronouns"
   ]
  },
  {
   "cell_type": "code",
   "execution_count": 43,
   "metadata": {},
   "outputs": [],
   "source": [
    "#writing a preprocessing and normalization function\n",
    "\n",
    "from nltk.stem import PorterStemmer\n",
    " \n",
    "# init stemmer\n",
    "porter_stemmer=PorterStemmer()\n",
    " \n",
    "def basic_preprocessor(text):\n",
    "    text = re.sub(r\"(view spoiler)|(hide spoiler)|\\n\", \"\", text) #removing view spoiler, hide spoiler and newline char\n",
    "    \n",
    "    text=text.lower() #lower case text\n",
    "    \n",
    "    text = re.sub(\"[^a-z0-9 ]+\", \"\", text) #remove everything except letters and numbers, and spaces (can replace with blank)\n",
    "    \n",
    "    #split out words for our list comprehension\n",
    "    words=re.split(\"\\\\s+\",text)\n",
    "    \n",
    "    #use the normalization words\n",
    "    normalization_words = [normalization_dict[word] if word in normalization_dict.keys() else word for word in words]\n",
    "    \n",
    "    # stem words that aren't blank\n",
    "    stemmed_words=[porter_stemmer.stem(word=word) for word in normalization_words if word != \"\"]\n",
    "        \n",
    "    return ' '.join(stemmed_words)"
   ]
  },
  {
   "cell_type": "markdown",
   "metadata": {},
   "source": [
    "**Be careful of processing time below. DO NOT RERUN**"
   ]
  },
  {
   "cell_type": "code",
   "execution_count": 24,
   "metadata": {},
   "outputs": [],
   "source": [
    "#preprocessing text\n",
    "df.review_text = [basic_preprocessor(text) for text in df.review_text]"
   ]
  },
  {
   "cell_type": "code",
   "execution_count": 45,
   "metadata": {},
   "outputs": [
    {
     "data": {
      "text/plain": [
       "'fun fast pace scienc fiction thriller _pron_ read _pron_ two night and couldnt put _pron_ down book be quantum theori mani world which state decis _pron_ make throughout our live basic creat branch and each possibl path through decis tree can be thought parallel world and book someon invent way switch between these world be nice allud toforeshadow quot _pron_ think choic weve made creat moment _pron_ sit here togeth beauti tabl then _pron_ think possibl event could have stop moment from ever happen and _pron_ feel _pron_ dont know what fragil now _pron_ becom thought moment _pron_ say final it terrifi when _pron_ consid everi thought _pron_ have everi choic _pron_ could possibl make branch into new world book cant be discuss without spoiler _pron_ be book choic and regret ever regret not chase girl your dream _pron_ can focu your career well jason2 made choic and then did regret _pron_ clearli author be tri tell _pron_ optim happi be second rate physic teacher commun colleg if _pron_ mean _pron_ can have happi life im be snarki becaus while there be certainli someth _pron_ also have have mean your life come from within _pron_ thought book be littl shallow dimens fact charact be fairli shallow daniela be perfect wife ryan perfect antithesi jason amanda perfect loyal travel companion etc plu fact book be weak scienc be what led _pron_ take few star off but id still read _pron_ again if _pron_ could go back time be veri fun and engag read if _pron_ want realli minim regret _pron_ have live your life avoid _pron_ first place regret cant be hack which be kind point book my favorit book regret be remain day _pron_ do realli like visual decis tree though be power concept everi moment everi breath contain choic but life be imperfect _pron_ make wrong choic _pron_ end up live state perpetu regret and be there anyth wors _pron_ built someth could actual erad regret let _pron_ find world where _pron_ made right choic daniela say life doesnt work way _pron_ live with your choic and learn _pron_ dont cheat system'"
      ]
     },
     "execution_count": 45,
     "metadata": {},
     "output_type": "execute_result"
    }
   ],
   "source": [
    "#checking preprocessing\n",
    "df.review_text[0]"
   ]
  },
  {
   "cell_type": "code",
   "execution_count": 30,
   "metadata": {},
   "outputs": [],
   "source": [
    "#pickling the preprocessed text\n",
    "with open(\"preprocessed_text.txt\", \"wb\") as fp:   #Pickling\n",
    "    pickle.dump(list(df.review_text), fp)"
   ]
  },
  {
   "cell_type": "code",
   "execution_count": 19,
   "metadata": {},
   "outputs": [],
   "source": [
    "#unpickle the preprocessed text list (loading from file)\n",
    "with open(\"preprocessed_text.txt\", \"rb\") as fp:   # Unpickling\n",
    "    df.review_text = pickle.load(fp)"
   ]
  },
  {
   "cell_type": "markdown",
   "metadata": {},
   "source": [
    "## Splitting Data Prior to Feature Creation/Engineering"
   ]
  },
  {
   "cell_type": "code",
   "execution_count": 20,
   "metadata": {},
   "outputs": [
    {
     "name": "stdout",
     "output_type": "stream",
     "text": [
      "(645561, 2) (645561,)\n",
      "(161391, 2) (161391,)\n"
     ]
    }
   ],
   "source": [
    "from sklearn.model_selection import train_test_split\n",
    "\n",
    "X_train, X_test, y_train, y_test = train_test_split(df.drop(columns=['rating', 'user_id', 'book_id'], axis = 1), \n",
    "                                                    df.rating, test_size=0.20, random_state = 43)\n",
    "print(X_train.shape, y_train.shape)\n",
    "print(X_test.shape, y_test.shape)"
   ]
  },
  {
   "cell_type": "code",
   "execution_count": 21,
   "metadata": {},
   "outputs": [],
   "source": [
    "#remove df from memory\n",
    "del(df)"
   ]
  },
  {
   "cell_type": "code",
   "execution_count": 48,
   "metadata": {},
   "outputs": [],
   "source": [
    "#Count Vectorizer or tfidf_vectorizer?\n",
    "#I use 20% because only using bigrams due to memory constraints (would use 25 - 30% if included 1-grams)\n",
    "from sklearn.feature_extraction.text import TfidfVectorizer\n",
    "\n",
    "tfidf_vectorizer = TfidfVectorizer(sublinear_tf=True, use_idf=True, max_df = 0.20, min_df = 400, ngram_range = (2,2),\n",
    "                                  lowercase = False)"
   ]
  },
  {
   "cell_type": "code",
   "execution_count": 49,
   "metadata": {},
   "outputs": [],
   "source": [
    "tfidf_vectors_train = tfidf_vectorizer.fit_transform(X_train.review_text)"
   ]
  },
  {
   "cell_type": "code",
   "execution_count": 50,
   "metadata": {},
   "outputs": [],
   "source": [
    "#pickling the results\n",
    "with open(\"tfidf_vectors_train.pkl\", \"wb\") as fp:   #Pickling\n",
    "    pickle.dump(tfidf_vectors_train, fp)"
   ]
  },
  {
   "cell_type": "code",
   "execution_count": 22,
   "metadata": {},
   "outputs": [],
   "source": [
    "#unpickle the results\n",
    "with open(\"tfidf_vectors_train.pkl\", \"rb\") as fp:   # Unpickling\n",
    "    tfidf_vectors_train = pickle.load(fp)"
   ]
  },
  {
   "cell_type": "code",
   "execution_count": 51,
   "metadata": {},
   "outputs": [],
   "source": [
    "tfidf_vectors_test = tfidf_vectorizer.transform(X_test.review_text)"
   ]
  },
  {
   "cell_type": "code",
   "execution_count": 52,
   "metadata": {},
   "outputs": [],
   "source": [
    "#pickling the results\n",
    "with open(\"tfidf_vectors_test.pkl\", \"wb\") as fp:   #Pickling\n",
    "    pickle.dump(tfidf_vectors_test, fp)"
   ]
  },
  {
   "cell_type": "code",
   "execution_count": 23,
   "metadata": {},
   "outputs": [],
   "source": [
    "#unpickle the results\n",
    "with open(\"tfidf_vectors_test.pkl\", \"rb\") as fp:   # Unpickling\n",
    "    tfidf_vectors_test = pickle.load(fp)"
   ]
  },
  {
   "cell_type": "code",
   "execution_count": 53,
   "metadata": {},
   "outputs": [
    {
     "data": {
      "text/plain": [
       "26519"
      ]
     },
     "execution_count": 53,
     "metadata": {},
     "output_type": "execute_result"
    }
   ],
   "source": [
    "len(tfidf_vectorizer.vocabulary_)"
   ]
  },
  {
   "cell_type": "code",
   "execution_count": 54,
   "metadata": {},
   "outputs": [
    {
     "data": {
      "text/plain": [
       "(645561, 26519)"
      ]
     },
     "execution_count": 54,
     "metadata": {},
     "output_type": "execute_result"
    }
   ],
   "source": [
    "tfidf_vectors_train.shape"
   ]
  },
  {
   "cell_type": "code",
   "execution_count": 55,
   "metadata": {},
   "outputs": [
    {
     "data": {
      "text/plain": [
       "13640"
      ]
     },
     "execution_count": 55,
     "metadata": {},
     "output_type": "execute_result"
    }
   ],
   "source": [
    "#checking if some expected words are in our vocab to deterime if 20% is an OK cutoff for frequency\n",
    "tfidf_vectorizer.vocabulary_['isnt _pron_']"
   ]
  },
  {
   "cell_type": "code",
   "execution_count": 58,
   "metadata": {},
   "outputs": [
    {
     "data": {
      "text/html": [
       "<div>\n",
       "<style scoped>\n",
       "    .dataframe tbody tr th:only-of-type {\n",
       "        vertical-align: middle;\n",
       "    }\n",
       "\n",
       "    .dataframe tbody tr th {\n",
       "        vertical-align: top;\n",
       "    }\n",
       "\n",
       "    .dataframe thead th {\n",
       "        text-align: right;\n",
       "    }\n",
       "</style>\n",
       "<table border=\"1\" class=\"dataframe\">\n",
       "  <thead>\n",
       "    <tr style=\"text-align: right;\">\n",
       "      <th></th>\n",
       "      <th>idf_weights</th>\n",
       "    </tr>\n",
       "  </thead>\n",
       "  <tbody>\n",
       "    <tr>\n",
       "      <th>with _pron_</th>\n",
       "      <td>2.619733</td>\n",
       "    </tr>\n",
       "    <tr>\n",
       "      <th>read _pron_</th>\n",
       "      <td>2.640512</td>\n",
       "    </tr>\n",
       "    <tr>\n",
       "      <th>have be</th>\n",
       "      <td>2.666133</td>\n",
       "    </tr>\n",
       "    <tr>\n",
       "      <th>_pron_ want</th>\n",
       "      <td>2.685617</td>\n",
       "    </tr>\n",
       "    <tr>\n",
       "      <th>what _pron_</th>\n",
       "      <td>2.724946</td>\n",
       "    </tr>\n",
       "    <tr>\n",
       "      <th>_pron_ can</th>\n",
       "      <td>2.746519</td>\n",
       "    </tr>\n",
       "    <tr>\n",
       "      <th>_pron_ did</th>\n",
       "      <td>2.778425</td>\n",
       "    </tr>\n",
       "    <tr>\n",
       "      <th>be not</th>\n",
       "      <td>2.786399</td>\n",
       "    </tr>\n",
       "    <tr>\n",
       "      <th>_pron_ isnt</th>\n",
       "      <td>2.891110</td>\n",
       "    </tr>\n",
       "    <tr>\n",
       "      <th>_pron_ read</th>\n",
       "      <td>2.921257</td>\n",
       "    </tr>\n",
       "    <tr>\n",
       "      <th>_pron_ could</th>\n",
       "      <td>2.942740</td>\n",
       "    </tr>\n",
       "    <tr>\n",
       "      <th>love _pron_</th>\n",
       "      <td>2.957428</td>\n",
       "    </tr>\n",
       "    <tr>\n",
       "      <th>_pron_ know</th>\n",
       "      <td>2.959339</td>\n",
       "    </tr>\n",
       "    <tr>\n",
       "      <th>make _pron_</th>\n",
       "      <td>2.966574</td>\n",
       "    </tr>\n",
       "    <tr>\n",
       "      <th>_pron_ cant</th>\n",
       "      <td>2.972781</td>\n",
       "    </tr>\n",
       "  </tbody>\n",
       "</table>\n",
       "</div>"
      ],
      "text/plain": [
       "              idf_weights\n",
       "with _pron_      2.619733\n",
       "read _pron_      2.640512\n",
       "have be          2.666133\n",
       "_pron_ want      2.685617\n",
       "what _pron_      2.724946\n",
       "_pron_ can       2.746519\n",
       "_pron_ did       2.778425\n",
       "be not           2.786399\n",
       "_pron_ isnt      2.891110\n",
       "_pron_ read      2.921257\n",
       "_pron_ could     2.942740\n",
       "love _pron_      2.957428\n",
       "_pron_ know      2.959339\n",
       "make _pron_      2.966574\n",
       "_pron_ cant      2.972781"
      ]
     },
     "execution_count": 58,
     "metadata": {},
     "output_type": "execute_result"
    }
   ],
   "source": [
    "# print idf values\n",
    "df_idf = pd.DataFrame(tfidf_vectorizer.idf_, index=tfidf_vectorizer.get_feature_names(),columns=[\"idf_weights\"])\n",
    " \n",
    "# sort ascending\n",
    "df_idf.sort_values(by=['idf_weights']).iloc[:15]"
   ]
  },
  {
   "cell_type": "code",
   "execution_count": 59,
   "metadata": {},
   "outputs": [
    {
     "data": {
      "text/html": [
       "<div>\n",
       "<style scoped>\n",
       "    .dataframe tbody tr th:only-of-type {\n",
       "        vertical-align: middle;\n",
       "    }\n",
       "\n",
       "    .dataframe tbody tr th {\n",
       "        vertical-align: top;\n",
       "    }\n",
       "\n",
       "    .dataframe thead th {\n",
       "        text-align: right;\n",
       "    }\n",
       "</style>\n",
       "<table border=\"1\" class=\"dataframe\">\n",
       "  <thead>\n",
       "    <tr style=\"text-align: right;\">\n",
       "      <th></th>\n",
       "      <th>tfidf</th>\n",
       "    </tr>\n",
       "  </thead>\n",
       "  <tbody>\n",
       "    <tr>\n",
       "      <th>do take</th>\n",
       "      <td>0.240233</td>\n",
       "    </tr>\n",
       "    <tr>\n",
       "      <th>sure who</th>\n",
       "      <td>0.236756</td>\n",
       "    </tr>\n",
       "    <tr>\n",
       "      <th>and experi</th>\n",
       "      <td>0.215652</td>\n",
       "    </tr>\n",
       "    <tr>\n",
       "      <th>book ill</th>\n",
       "      <td>0.212925</td>\n",
       "    </tr>\n",
       "    <tr>\n",
       "      <th>take time</th>\n",
       "      <td>0.212241</td>\n",
       "    </tr>\n",
       "    <tr>\n",
       "      <th>or do</th>\n",
       "      <td>0.209944</td>\n",
       "    </tr>\n",
       "    <tr>\n",
       "      <th>doesnt matter</th>\n",
       "      <td>0.208473</td>\n",
       "    </tr>\n",
       "    <tr>\n",
       "      <th>_pron_ anyon</th>\n",
       "      <td>0.200951</td>\n",
       "    </tr>\n",
       "    <tr>\n",
       "      <th>age _pron_</th>\n",
       "      <td>0.198602</td>\n",
       "    </tr>\n",
       "    <tr>\n",
       "      <th>either way</th>\n",
       "      <td>0.193778</td>\n",
       "    </tr>\n",
       "    <tr>\n",
       "      <th>come with</th>\n",
       "      <td>0.193519</td>\n",
       "    </tr>\n",
       "    <tr>\n",
       "      <th>into my</th>\n",
       "      <td>0.191346</td>\n",
       "    </tr>\n",
       "    <tr>\n",
       "      <th>sever time</th>\n",
       "      <td>0.187004</td>\n",
       "    </tr>\n",
       "    <tr>\n",
       "      <th>back into</th>\n",
       "      <td>0.178381</td>\n",
       "    </tr>\n",
       "    <tr>\n",
       "      <th>differ and</th>\n",
       "      <td>0.176983</td>\n",
       "    </tr>\n",
       "  </tbody>\n",
       "</table>\n",
       "</div>"
      ],
      "text/plain": [
       "                  tfidf\n",
       "do take        0.240233\n",
       "sure who       0.236756\n",
       "and experi     0.215652\n",
       "book ill       0.212925\n",
       "take time      0.212241\n",
       "or do          0.209944\n",
       "doesnt matter  0.208473\n",
       "_pron_ anyon   0.200951\n",
       "age _pron_     0.198602\n",
       "either way     0.193778\n",
       "come with      0.193519\n",
       "into my        0.191346\n",
       "sever time     0.187004\n",
       "back into      0.178381\n",
       "differ and     0.176983"
      ]
     },
     "execution_count": 59,
     "metadata": {},
     "output_type": "execute_result"
    }
   ],
   "source": [
    "feature_names = tfidf_vectorizer.get_feature_names()\n",
    " \n",
    "#get tfidf vector for first document\n",
    "first_document_vector=tfidf_vectors_train[0]\n",
    " \n",
    "#print the scores\n",
    "df1 = pd.DataFrame(first_document_vector.T.todense(), index=feature_names, columns=[\"tfidf\"])\n",
    "df1.sort_values(by=[\"tfidf\"],ascending=False).head(15)"
   ]
  },
  {
   "cell_type": "code",
   "execution_count": 34,
   "metadata": {},
   "outputs": [],
   "source": [
    "del(df1)"
   ]
  },
  {
   "cell_type": "markdown",
   "metadata": {},
   "source": [
    "## Reducing Dimensionality"
   ]
  },
  {
   "cell_type": "code",
   "execution_count": 77,
   "metadata": {},
   "outputs": [],
   "source": [
    "#using truncated SVD to reduce dimensionality further\n",
    "#truncated SVD can take sparse matricies which is important due to memory constraints\n",
    "from sklearn.decomposition import TruncatedSVD\n",
    "\n",
    "#sklearn recommends 100 components for LSA\n",
    "svd = TruncatedSVD(n_components=300, n_iter=10, random_state=87)"
   ]
  },
  {
   "cell_type": "markdown",
   "metadata": {},
   "source": [
    "**Be careful of calc time**"
   ]
  },
  {
   "cell_type": "code",
   "execution_count": 78,
   "metadata": {},
   "outputs": [],
   "source": [
    "SVD_train = svd.fit_transform(X = tfidf_vectors_train, y = y_train)"
   ]
  },
  {
   "cell_type": "code",
   "execution_count": 79,
   "metadata": {},
   "outputs": [],
   "source": [
    "#pickling the results\n",
    "with open(\"SVD_train.pkl\", \"wb\") as fp:   #Pickling\n",
    "    pickle.dump(SVD_train, fp)"
   ]
  },
  {
   "cell_type": "code",
   "execution_count": null,
   "metadata": {},
   "outputs": [],
   "source": [
    "#unpickle the results\n",
    "with open(\"SVD_train.pkl\", \"rb\") as fp:   # Unpickling\n",
    "    SVD_train = pickle.load(fp)"
   ]
  },
  {
   "cell_type": "code",
   "execution_count": 80,
   "metadata": {},
   "outputs": [],
   "source": [
    "SVD_test = svd.transform(X = tfidf_vectors_test)"
   ]
  },
  {
   "cell_type": "code",
   "execution_count": 81,
   "metadata": {},
   "outputs": [],
   "source": [
    "#pickling the results\n",
    "with open(\"SVD_test.pkl\", \"wb\") as fp:   #Pickling\n",
    "    pickle.dump(SVD_test, fp)"
   ]
  },
  {
   "cell_type": "code",
   "execution_count": null,
   "metadata": {},
   "outputs": [],
   "source": [
    "#unpickle the results\n",
    "with open(\"SVD_test.pkl\", \"rb\") as fp:   # Unpickling\n",
    "    SVD_test = pickle.load(fp)"
   ]
  },
  {
   "cell_type": "code",
   "execution_count": 82,
   "metadata": {},
   "outputs": [
    {
     "data": {
      "text/plain": [
       "numpy.ndarray"
      ]
     },
     "execution_count": 82,
     "metadata": {},
     "output_type": "execute_result"
    }
   ],
   "source": [
    "type(SVD_train)"
   ]
  },
  {
   "cell_type": "code",
   "execution_count": 83,
   "metadata": {},
   "outputs": [
    {
     "data": {
      "text/plain": [
       "(645561, 300)"
      ]
     },
     "execution_count": 83,
     "metadata": {},
     "output_type": "execute_result"
    }
   ],
   "source": [
    "SVD_train.shape"
   ]
  },
  {
   "cell_type": "code",
   "execution_count": 84,
   "metadata": {},
   "outputs": [],
   "source": [
    "#keeping memory cleared out\n",
    "del(X_train, X_test, tfidf_vectors_train, tfidf_vectors_test)"
   ]
  },
  {
   "cell_type": "markdown",
   "metadata": {},
   "source": [
    "## Modeling Sentiment"
   ]
  },
  {
   "cell_type": "markdown",
   "metadata": {},
   "source": [
    "### Logistic Regression"
   ]
  },
  {
   "cell_type": "markdown",
   "metadata": {},
   "source": [
    "#### Baseline Sentiment Prediction (tfidf_vectors only)"
   ]
  },
  {
   "cell_type": "code",
   "execution_count": 71,
   "metadata": {},
   "outputs": [],
   "source": [
    "from sklearn.linear_model import LogisticRegression\n",
    "\n",
    "tfidf_log_reg = LogisticRegression(verbose=1, solver='lbfgs', random_state=45, C=1, penalty='l2', max_iter=500, n_jobs = -1)"
   ]
  },
  {
   "cell_type": "code",
   "execution_count": 72,
   "metadata": {},
   "outputs": [
    {
     "name": "stderr",
     "output_type": "stream",
     "text": [
      "[Parallel(n_jobs=-1)]: Using backend LokyBackend with 8 concurrent workers.\n",
      "[Parallel(n_jobs=-1)]: Done   1 out of   1 | elapsed:  6.4min finished\n"
     ]
    }
   ],
   "source": [
    "#only using tfidf features\n",
    "model = tfidf_log_reg.fit(tfidf_vectors_train, y_train)"
   ]
  },
  {
   "cell_type": "code",
   "execution_count": 73,
   "metadata": {},
   "outputs": [
    {
     "name": "stdout",
     "output_type": "stream",
     "text": [
      "Accuracy Score:     0.7285\n",
      "       F-score:     0.7245\n",
      "      Log Loss:     0.6165\n"
     ]
    }
   ],
   "source": [
    "from sklearn.metrics import accuracy_score, f1_score, log_loss\n",
    "# Actual class predictions\n",
    "base_preds = model.predict(tfidf_vectors_test)\n",
    "# Probabilities for each class\n",
    "base_probs = model.predict_proba(tfidf_vectors_test)[:,]\n",
    "\n",
    "base_accuracy_score = accuracy_score(y_test, base_preds)\n",
    "base_f1_value = f1_score(y_test, base_preds, average ='weighted')\n",
    "base_log_loss_value = log_loss(y_test, base_probs, normalize=True)\n",
    "print(\"Accuracy Score:     {:0.4f}\".format(base_accuracy_score))\n",
    "print(\"       F-score:     {:0.4f}\".format(base_f1_value))\n",
    "print(\"      Log Loss:     {:0.4f}\".format(base_log_loss_value))"
   ]
  },
  {
   "cell_type": "markdown",
   "metadata": {},
   "source": [
    "#### Tfidf Tuning"
   ]
  },
  {
   "cell_type": "code",
   "execution_count": 24,
   "metadata": {},
   "outputs": [],
   "source": [
    "from sklearn.linear_model import LogisticRegressionCV\n",
    "cv = LogisticRegressionCV(Cs=[0.0001, 0.001, .01, .1, 1, 10, 100, 1000], penalty='l2', solver='lbfgs', max_iter=500, cv = 4, \n",
    "                          n_jobs=4, verbose=1, random_state = 53)"
   ]
  },
  {
   "cell_type": "code",
   "execution_count": 25,
   "metadata": {},
   "outputs": [
    {
     "name": "stderr",
     "output_type": "stream",
     "text": [
      "[Parallel(n_jobs=4)]: Using backend LokyBackend with 4 concurrent workers.\n",
      "[Parallel(n_jobs=4)]: Done   2 out of   4 | elapsed: 52.0min remaining: 52.0min\n",
      "[Parallel(n_jobs=4)]: Done   4 out of   4 | elapsed: 53.1min finished\n"
     ]
    }
   ],
   "source": [
    "tfidf_logit_model = cv.fit(tfidf_vectors_train, y_train)"
   ]
  },
  {
   "cell_type": "code",
   "execution_count": 26,
   "metadata": {},
   "outputs": [
    {
     "data": {
      "text/plain": [
       "{-1: array([[0.50020137, 0.5030516 , 0.64968307, 0.72036235, 0.72574679,\n",
       "         0.71678718, 0.71399892, 0.71357139],\n",
       "        [0.50020447, 0.50312907, 0.64978623, 0.72093066, 0.72660636,\n",
       "         0.71806803, 0.71500093, 0.71474689],\n",
       "        [0.50019828, 0.50325299, 0.64982341, 0.72111655, 0.72681083,\n",
       "         0.71757854, 0.71461677, 0.71427598],\n",
       "        [0.50019828, 0.50346986, 0.65105645, 0.72326662, 0.72754198,\n",
       "         0.71759093, 0.71457959, 0.71400335]]),\n",
       " 0: array([[0.50020137, 0.5030516 , 0.64968307, 0.72036235, 0.72574679,\n",
       "         0.71678718, 0.71399892, 0.71357139],\n",
       "        [0.50020447, 0.50312907, 0.64978623, 0.72093066, 0.72660636,\n",
       "         0.71806803, 0.71500093, 0.71474689],\n",
       "        [0.50019828, 0.50325299, 0.64982341, 0.72111655, 0.72681083,\n",
       "         0.71757854, 0.71461677, 0.71427598],\n",
       "        [0.50019828, 0.50346986, 0.65105645, 0.72326662, 0.72754198,\n",
       "         0.71759093, 0.71457959, 0.71400335]]),\n",
       " 1: array([[0.50020137, 0.5030516 , 0.64968307, 0.72036235, 0.72574679,\n",
       "         0.71678718, 0.71399892, 0.71357139],\n",
       "        [0.50020447, 0.50312907, 0.64978623, 0.72093066, 0.72660636,\n",
       "         0.71806803, 0.71500093, 0.71474689],\n",
       "        [0.50019828, 0.50325299, 0.64982341, 0.72111655, 0.72681083,\n",
       "         0.71757854, 0.71461677, 0.71427598],\n",
       "        [0.50019828, 0.50346986, 0.65105645, 0.72326662, 0.72754198,\n",
       "         0.71759093, 0.71457959, 0.71400335]])}"
      ]
     },
     "execution_count": 26,
     "metadata": {},
     "output_type": "execute_result"
    }
   ],
   "source": [
    "tfidf_logit_model.scores_"
   ]
  },
  {
   "cell_type": "markdown",
   "metadata": {},
   "source": [
    "It appears as though C = 1 was already well tuned."
   ]
  },
  {
   "cell_type": "markdown",
   "metadata": {},
   "source": [
    "#### Baseline Sentiment Prediction (SVD features only)"
   ]
  },
  {
   "cell_type": "code",
   "execution_count": 102,
   "metadata": {},
   "outputs": [],
   "source": [
    "#logistic regression model\n",
    "\n",
    "from sklearn.linear_model import LogisticRegression\n",
    "\n",
    "svd_log_reg = LogisticRegression(verbose=1, solver='lbfgs', random_state=45, C=1, penalty='l2', max_iter=500, n_jobs = -1)"
   ]
  },
  {
   "cell_type": "code",
   "execution_count": null,
   "metadata": {},
   "outputs": [],
   "source": [
    "#only using SVD features\n",
    "model = svd_log_reg.fit(SVD_train, y_train)"
   ]
  },
  {
   "cell_type": "code",
   "execution_count": 87,
   "metadata": {},
   "outputs": [
    {
     "name": "stdout",
     "output_type": "stream",
     "text": [
      "Accuracy Score:     0.6914\n",
      "       F-score:     0.6838\n",
      "      Log Loss:     0.6914\n"
     ]
    }
   ],
   "source": [
    "from sklearn.metrics import accuracy_score, f1_score, log_loss\n",
    "# Actual class predictions\n",
    "base_preds = model.predict(SVD_test)\n",
    "# Probabilities for each class\n",
    "base_probs = model.predict_proba(SVD_test)[:,]\n",
    "\n",
    "base_accuracy_score = accuracy_score(y_test, base_preds)\n",
    "base_f1_value = f1_score(y_test, base_preds, average ='weighted')\n",
    "base_log_loss_value = log_loss(y_test, base_probs, normalize=True)\n",
    "print(\"Accuracy Score:     {:0.4f}\".format(base_accuracy_score))\n",
    "print(\"       F-score:     {:0.4f}\".format(base_f1_value))\n",
    "print(\"      Log Loss:     {:0.4f}\".format(base_log_loss_value))"
   ]
  },
  {
   "cell_type": "code",
   "execution_count": 88,
   "metadata": {},
   "outputs": [],
   "source": [
    "del(model)"
   ]
  },
  {
   "cell_type": "markdown",
   "metadata": {},
   "source": [
    "#### SVD Tuning"
   ]
  },
  {
   "cell_type": "code",
   "execution_count": 98,
   "metadata": {},
   "outputs": [],
   "source": [
    "from sklearn.linear_model import LogisticRegressionCV\n",
    "cv = LogisticRegressionCV(Cs=[0.0001, 0.001, .01, .1, 1, 10, 100, 1000], penalty='l2', solver='lbfgs', max_iter=500, cv = 4, \n",
    "                          n_jobs=4, verbose=1, random_state = 53)"
   ]
  },
  {
   "cell_type": "code",
   "execution_count": 91,
   "metadata": {},
   "outputs": [
    {
     "name": "stderr",
     "output_type": "stream",
     "text": [
      "[Parallel(n_jobs=4)]: Using backend LokyBackend with 4 concurrent workers.\n",
      "[Parallel(n_jobs=4)]: Done   2 out of   4 | elapsed: 29.1min remaining: 29.1min\n",
      "[Parallel(n_jobs=4)]: Done   4 out of   4 | elapsed: 30.1min finished\n"
     ]
    }
   ],
   "source": [
    "svd_logit_model = cv.fit(SVD_train, y_train)"
   ]
  },
  {
   "cell_type": "code",
   "execution_count": 92,
   "metadata": {},
   "outputs": [
    {
     "data": {
      "text/plain": [
       "{-1: array([[0.50020137, 0.50313214, 0.63190017, 0.68411498, 0.68830356,\n",
       "         0.68867533, 0.68870011, 0.68867533],\n",
       "        [0.50020447, 0.50327158, 0.63213954, 0.68464589, 0.68917529,\n",
       "         0.68956565, 0.6896462 , 0.68966479],\n",
       "        [0.50019828, 0.50344507, 0.63142078, 0.68384039, 0.68902658,\n",
       "         0.68908235, 0.68911952, 0.68911333],\n",
       "        [0.50019828, 0.50365574, 0.63377533, 0.68696326, 0.69221141,\n",
       "         0.69230436, 0.69231675, 0.69232294]]),\n",
       " 0: array([[0.50020137, 0.50313214, 0.63190017, 0.68411498, 0.68830356,\n",
       "         0.68867533, 0.68870011, 0.68867533],\n",
       "        [0.50020447, 0.50327158, 0.63213954, 0.68464589, 0.68917529,\n",
       "         0.68956565, 0.6896462 , 0.68966479],\n",
       "        [0.50019828, 0.50344507, 0.63142078, 0.68384039, 0.68902658,\n",
       "         0.68908235, 0.68911952, 0.68911333],\n",
       "        [0.50019828, 0.50365574, 0.63377533, 0.68696326, 0.69221141,\n",
       "         0.69230436, 0.69231675, 0.69232294]]),\n",
       " 1: array([[0.50020137, 0.50313214, 0.63190017, 0.68411498, 0.68830356,\n",
       "         0.68867533, 0.68870011, 0.68867533],\n",
       "        [0.50020447, 0.50327158, 0.63213954, 0.68464589, 0.68917529,\n",
       "         0.68956565, 0.6896462 , 0.68966479],\n",
       "        [0.50019828, 0.50344507, 0.63142078, 0.68384039, 0.68902658,\n",
       "         0.68908235, 0.68911952, 0.68911333],\n",
       "        [0.50019828, 0.50365574, 0.63377533, 0.68696326, 0.69221141,\n",
       "         0.69230436, 0.69231675, 0.69232294]])}"
      ]
     },
     "execution_count": 92,
     "metadata": {},
     "output_type": "execute_result"
    }
   ],
   "source": [
    "svd_logit_model.scores_"
   ]
  },
  {
   "cell_type": "code",
   "execution_count": null,
   "metadata": {},
   "outputs": [],
   "source": [
    "#choose the best C\n",
    "del(logit_model)"
   ]
  },
  {
   "cell_type": "code",
   "execution_count": 93,
   "metadata": {},
   "outputs": [
    {
     "name": "stderr",
     "output_type": "stream",
     "text": [
      "[Parallel(n_jobs=-1)]: Using backend LokyBackend with 8 concurrent workers.\n",
      "[Parallel(n_jobs=-1)]: Done   1 out of   1 | elapsed: 30.6min finished\n"
     ]
    }
   ],
   "source": [
    "#best C was 1000\n",
    "svd_log_reg = LogisticRegression(verbose=1, solver='lbfgs', random_state=53, C=1000, penalty='l2', max_iter=500, n_jobs = -1)\n",
    "model = svd_log_reg.fit(SVD_train, y_train)"
   ]
  },
  {
   "cell_type": "code",
   "execution_count": 94,
   "metadata": {},
   "outputs": [
    {
     "name": "stdout",
     "output_type": "stream",
     "text": [
      "Accuracy Score:     0.6917\n",
      "       F-score:     0.6845\n",
      "      Log Loss:     0.6908\n"
     ]
    }
   ],
   "source": [
    "from sklearn.metrics import accuracy_score, f1_score, log_loss\n",
    "# Actual class predictions\n",
    "base_preds = model.predict(SVD_test)\n",
    "# Probabilities for each class\n",
    "base_probs = model.predict_proba(SVD_test)[:,]\n",
    "\n",
    "base_accuracy_score = accuracy_score(y_test, base_preds)\n",
    "base_f1_value = f1_score(y_test, base_preds, average ='weighted')\n",
    "base_log_loss_value = log_loss(y_test, base_probs, normalize=True)\n",
    "print(\"Accuracy Score:     {:0.4f}\".format(base_accuracy_score))\n",
    "print(\"       F-score:     {:0.4f}\".format(base_f1_value))\n",
    "print(\"      Log Loss:     {:0.4f}\".format(base_log_loss_value))"
   ]
  },
  {
   "cell_type": "code",
   "execution_count": 95,
   "metadata": {},
   "outputs": [],
   "source": [
    "#pickling the model\n",
    "with open(\"logit_model.pkl\", \"wb\") as fp:   #Pickling\n",
    "    pickle.dump(model, fp)"
   ]
  },
  {
   "cell_type": "code",
   "execution_count": null,
   "metadata": {},
   "outputs": [],
   "source": [
    "#unpickle the model (loading from file)\n",
    "with open(\"logit_model.pkl\", \"rb\") as fp:   # Unpickling\n",
    "    model = pickle.load(fp)"
   ]
  },
  {
   "cell_type": "code",
   "execution_count": 96,
   "metadata": {},
   "outputs": [
    {
     "data": {
      "image/png": "[encoded data removed]",
      "text/plain": [
       "<Figure size 576x396 with 1 Axes>"
      ]
     },
     "metadata": {},
     "output_type": "display_data"
    },
    {
     "data": {
      "text/plain": [
       "<matplotlib.axes._subplots.AxesSubplot at 0x23018163f60>"
      ]
     },
     "execution_count": 96,
     "metadata": {},
     "output_type": "execute_result"
    }
   ],
   "source": [
    "#logit confusion matrix\n",
    "from yellowbrick.classifier import ConfusionMatrix\n",
    "\n",
    "knn_cm = ConfusionMatrix(model)\n",
    "\n",
    "knn_cm.fit(SVD_train, y_train)\n",
    "knn_cm.score(SVD_test, y_test)\n",
    "\n",
    "knn_cm.show()"
   ]
  },
  {
   "cell_type": "code",
   "execution_count": 97,
   "metadata": {},
   "outputs": [
    {
     "data": {
      "image/png": "[encoded data removed]",
      "text/plain": [
       "<Figure size 576x396 with 2 Axes>"
      ]
     },
     "metadata": {},
     "output_type": "display_data"
    },
    {
     "data": {
      "text/plain": [
       "<matplotlib.axes._subplots.AxesSubplot at 0x2301e21eda0>"
      ]
     },
     "execution_count": 97,
     "metadata": {},
     "output_type": "execute_result"
    }
   ],
   "source": [
    "from yellowbrick.classifier import ClassificationReport\n",
    "visualizer = ClassificationReport(model, support=True)\n",
    "\n",
    "visualizer.fit(SVD_train, y_train)        # Fit the visualizer and the model\n",
    "visualizer.score(SVD_test, y_test)        # Evaluate the model on the test data\n",
    "visualizer.show()\n",
    "\n"
   ]
  },
  {
   "cell_type": "code",
   "execution_count": null,
   "metadata": {},
   "outputs": [],
   "source": [
    "#try out a more advanced model"
   ]
  }
 ],
 "metadata": {
  "kernelspec": {
   "display_name": "Python 3",
   "language": "python",
   "name": "python3"
  },
  "language_info": {
   "codemirror_mode": {
    "name": "ipython",
    "version": 3
   },
   "file_extension": ".py",
   "mimetype": "text/x-python",
   "name": "python",
   "nbconvert_exporter": "python",
   "pygments_lexer": "ipython3",
   "version": "3.7.3"
  }
 },
 "nbformat": 4,
 "nbformat_minor": 4
}
